{
 "cells": [
  {
   "cell_type": "markdown",
   "metadata": {},
   "source": [
    "# Тема проекта: \"Выбор локации для скважины\""
   ]
  },
  {
   "cell_type": "markdown",
   "metadata": {},
   "source": [
    "**Описание проекта:** работая в добывающей компании «ГлавРосГосНефть», нужно решить, где бурить новую скважину. Для этого предоставлены пробы нефти в трёх регионах: в каждом 100 000 месторождений, где измерили качество нефти и объём её запасов. \n",
    "\n",
    "\n",
    "**Цель проекта:** построить модель машинного обучения, которая поможет определить регион, где добыча принесёт наибольшую прибыль; проанализировать возможную прибыль и риски техникой *Bootstrap.*\n",
    "\n",
    "**Шаги для выбора локации:**\n",
    "\n",
    "- В избранном регионе ищут месторождения, для каждого определяют значения признаков;\n",
    "- Строят модель и оценивают объём запасов;\n",
    "- Выбирают месторождения с самым высокими оценками значений. Количество месторождений зависит от бюджета компании и стоимости разработки одной скважины;\n",
    "- Прибыль равна суммарной прибыли отобранных месторождений.\n",
    "\n",
    "**План работы:**\n",
    "\n",
    "1. **Загрузка и подготовка данных**\n",
    "\n",
    "2. **Обучение и проверка модели  для каждого региона**:\n",
    "\n",
    " 2.1. Разбивка данных на обучающую и валидационную выборки в соотношении 75:25.\n",
    " \n",
    " 2.2. Обучение модели и получение предсказаний на валидационной выборке.\n",
    " \n",
    " 2.3. Расчет среднего запаса предсказанного сырья и RMSE модели.\n",
    " \n",
    " 2.4. Вывод\n",
    " \n",
    "3.**Подготовка к расчёту прибыли**:\n",
    "\n",
    " 3.1. Расчет достаточного объёма сырья для безубыточной разработки новой скважины. Сравнение полученного объём сырья со средним запасом в каждом регионе. \n",
    " \n",
    " 3.2. Вывод\n",
    " \n",
    "4. **Подготовка функции для расчёта прибыли по выбранным скважинам и предсказаниям модели**\n",
    "\n",
    " 4.1. Расчет прибыли для полученного объёма сырья.\n",
    " \n",
    " \n",
    "5. **Расчет рисков и прибыли для каждого региона**:\n",
    "\n",
    " 5.1. Расчет распределения прибылис помощью техники Bootstrap с 1000 выборок.\n",
    " \n",
    " 5.2. Расчет средней прибыли, 95%-го доверительного интервала и риска убытков. \n",
    " \n",
    " 5.3. Общий вывод: предложение для выбора региона.\n",
    "\n",
    "**Описание данных:**\n",
    "\n",
    "id — уникальный идентификатор скважины;\n",
    "\n",
    "f0, f1, f2 — три признака точек (неважно, что они означают, но сами признаки значимы);\n",
    "\n",
    "product — объём запасов в скважине (тыс. баррелей).\n",
    "\n"
   ]
  },
  {
   "cell_type": "code",
   "execution_count": 1,
   "metadata": {},
   "outputs": [],
   "source": [
    "# импортируем необходимые библиотеки\n",
    "\n",
    "import pandas as pd\n",
    "\n",
    "from sklearn.model_selection import train_test_split\n",
    "\n",
    "from sklearn.linear_model import LinearRegression\n",
    "\n",
    "import matplotlib.pyplot as plt\n",
    "\n",
    "from sklearn.metrics import mean_squared_error\n",
    "\n",
    "import numpy as np\n",
    "\n",
    "from numpy.random import RandomState\n",
    "\n",
    "from scipy import stats as st\n",
    "\n",
    "import seaborn as sns"
   ]
  },
  {
   "cell_type": "code",
   "execution_count": 2,
   "metadata": {},
   "outputs": [],
   "source": [
    "# ключевые значения для расчётов прибыли сохраним в отдельных переменных\n",
    "\n",
    "REVENUE_UNIT = 450_000\n",
    "\n",
    "REVENUE_BARREL = 450\n",
    "\n",
    "BUDGET = 10_000_000_000 \n",
    "\n",
    "COUNT = 200"
   ]
  },
  {
   "cell_type": "markdown",
   "metadata": {},
   "source": [
    "## Загрузка и подготовка данных"
   ]
  },
  {
   "cell_type": "code",
   "execution_count": 3,
   "metadata": {},
   "outputs": [],
   "source": [
    "# загружаем данные\n",
    "\n",
    "data_0 = pd.read_csv('/datasets/geo_data_0.csv')\n",
    "\n",
    "data_1 = pd.read_csv('/datasets/geo_data_1.csv')\n",
    "\n",
    "data_2 = pd.read_csv('/datasets/geo_data_2.csv')"
   ]
  },
  {
   "cell_type": "code",
   "execution_count": 4,
   "metadata": {
    "scrolled": false
   },
   "outputs": [
    {
     "data": {
      "text/html": [
       "<div>\n",
       "<style scoped>\n",
       "    .dataframe tbody tr th:only-of-type {\n",
       "        vertical-align: middle;\n",
       "    }\n",
       "\n",
       "    .dataframe tbody tr th {\n",
       "        vertical-align: top;\n",
       "    }\n",
       "\n",
       "    .dataframe thead th {\n",
       "        text-align: right;\n",
       "    }\n",
       "</style>\n",
       "<table border=\"1\" class=\"dataframe\">\n",
       "  <thead>\n",
       "    <tr style=\"text-align: right;\">\n",
       "      <th></th>\n",
       "      <th>id</th>\n",
       "      <th>f0</th>\n",
       "      <th>f1</th>\n",
       "      <th>f2</th>\n",
       "      <th>product</th>\n",
       "    </tr>\n",
       "  </thead>\n",
       "  <tbody>\n",
       "    <tr>\n",
       "      <th>0</th>\n",
       "      <td>txEyH</td>\n",
       "      <td>0.705745</td>\n",
       "      <td>-0.497823</td>\n",
       "      <td>1.221170</td>\n",
       "      <td>105.280062</td>\n",
       "    </tr>\n",
       "    <tr>\n",
       "      <th>1</th>\n",
       "      <td>2acmU</td>\n",
       "      <td>1.334711</td>\n",
       "      <td>-0.340164</td>\n",
       "      <td>4.365080</td>\n",
       "      <td>73.037750</td>\n",
       "    </tr>\n",
       "    <tr>\n",
       "      <th>2</th>\n",
       "      <td>409Wp</td>\n",
       "      <td>1.022732</td>\n",
       "      <td>0.151990</td>\n",
       "      <td>1.419926</td>\n",
       "      <td>85.265647</td>\n",
       "    </tr>\n",
       "    <tr>\n",
       "      <th>3</th>\n",
       "      <td>iJLyR</td>\n",
       "      <td>-0.032172</td>\n",
       "      <td>0.139033</td>\n",
       "      <td>2.978566</td>\n",
       "      <td>168.620776</td>\n",
       "    </tr>\n",
       "    <tr>\n",
       "      <th>4</th>\n",
       "      <td>Xdl7t</td>\n",
       "      <td>1.988431</td>\n",
       "      <td>0.155413</td>\n",
       "      <td>4.751769</td>\n",
       "      <td>154.036647</td>\n",
       "    </tr>\n",
       "  </tbody>\n",
       "</table>\n",
       "</div>"
      ],
      "text/plain": [
       "      id        f0        f1        f2     product\n",
       "0  txEyH  0.705745 -0.497823  1.221170  105.280062\n",
       "1  2acmU  1.334711 -0.340164  4.365080   73.037750\n",
       "2  409Wp  1.022732  0.151990  1.419926   85.265647\n",
       "3  iJLyR -0.032172  0.139033  2.978566  168.620776\n",
       "4  Xdl7t  1.988431  0.155413  4.751769  154.036647"
      ]
     },
     "metadata": {},
     "output_type": "display_data"
    },
    {
     "data": {
      "text/html": [
       "<div>\n",
       "<style scoped>\n",
       "    .dataframe tbody tr th:only-of-type {\n",
       "        vertical-align: middle;\n",
       "    }\n",
       "\n",
       "    .dataframe tbody tr th {\n",
       "        vertical-align: top;\n",
       "    }\n",
       "\n",
       "    .dataframe thead th {\n",
       "        text-align: right;\n",
       "    }\n",
       "</style>\n",
       "<table border=\"1\" class=\"dataframe\">\n",
       "  <thead>\n",
       "    <tr style=\"text-align: right;\">\n",
       "      <th></th>\n",
       "      <th>id</th>\n",
       "      <th>f0</th>\n",
       "      <th>f1</th>\n",
       "      <th>f2</th>\n",
       "      <th>product</th>\n",
       "    </tr>\n",
       "  </thead>\n",
       "  <tbody>\n",
       "    <tr>\n",
       "      <th>0</th>\n",
       "      <td>kBEdx</td>\n",
       "      <td>-15.001348</td>\n",
       "      <td>-8.276000</td>\n",
       "      <td>-0.005876</td>\n",
       "      <td>3.179103</td>\n",
       "    </tr>\n",
       "    <tr>\n",
       "      <th>1</th>\n",
       "      <td>62mP7</td>\n",
       "      <td>14.272088</td>\n",
       "      <td>-3.475083</td>\n",
       "      <td>0.999183</td>\n",
       "      <td>26.953261</td>\n",
       "    </tr>\n",
       "    <tr>\n",
       "      <th>2</th>\n",
       "      <td>vyE1P</td>\n",
       "      <td>6.263187</td>\n",
       "      <td>-5.948386</td>\n",
       "      <td>5.001160</td>\n",
       "      <td>134.766305</td>\n",
       "    </tr>\n",
       "    <tr>\n",
       "      <th>3</th>\n",
       "      <td>KcrkZ</td>\n",
       "      <td>-13.081196</td>\n",
       "      <td>-11.506057</td>\n",
       "      <td>4.999415</td>\n",
       "      <td>137.945408</td>\n",
       "    </tr>\n",
       "    <tr>\n",
       "      <th>4</th>\n",
       "      <td>AHL4O</td>\n",
       "      <td>12.702195</td>\n",
       "      <td>-8.147433</td>\n",
       "      <td>5.004363</td>\n",
       "      <td>134.766305</td>\n",
       "    </tr>\n",
       "  </tbody>\n",
       "</table>\n",
       "</div>"
      ],
      "text/plain": [
       "      id         f0         f1        f2     product\n",
       "0  kBEdx -15.001348  -8.276000 -0.005876    3.179103\n",
       "1  62mP7  14.272088  -3.475083  0.999183   26.953261\n",
       "2  vyE1P   6.263187  -5.948386  5.001160  134.766305\n",
       "3  KcrkZ -13.081196 -11.506057  4.999415  137.945408\n",
       "4  AHL4O  12.702195  -8.147433  5.004363  134.766305"
      ]
     },
     "metadata": {},
     "output_type": "display_data"
    },
    {
     "data": {
      "text/html": [
       "<div>\n",
       "<style scoped>\n",
       "    .dataframe tbody tr th:only-of-type {\n",
       "        vertical-align: middle;\n",
       "    }\n",
       "\n",
       "    .dataframe tbody tr th {\n",
       "        vertical-align: top;\n",
       "    }\n",
       "\n",
       "    .dataframe thead th {\n",
       "        text-align: right;\n",
       "    }\n",
       "</style>\n",
       "<table border=\"1\" class=\"dataframe\">\n",
       "  <thead>\n",
       "    <tr style=\"text-align: right;\">\n",
       "      <th></th>\n",
       "      <th>id</th>\n",
       "      <th>f0</th>\n",
       "      <th>f1</th>\n",
       "      <th>f2</th>\n",
       "      <th>product</th>\n",
       "    </tr>\n",
       "  </thead>\n",
       "  <tbody>\n",
       "    <tr>\n",
       "      <th>0</th>\n",
       "      <td>fwXo0</td>\n",
       "      <td>-1.146987</td>\n",
       "      <td>0.963328</td>\n",
       "      <td>-0.828965</td>\n",
       "      <td>27.758673</td>\n",
       "    </tr>\n",
       "    <tr>\n",
       "      <th>1</th>\n",
       "      <td>WJtFt</td>\n",
       "      <td>0.262778</td>\n",
       "      <td>0.269839</td>\n",
       "      <td>-2.530187</td>\n",
       "      <td>56.069697</td>\n",
       "    </tr>\n",
       "    <tr>\n",
       "      <th>2</th>\n",
       "      <td>ovLUW</td>\n",
       "      <td>0.194587</td>\n",
       "      <td>0.289035</td>\n",
       "      <td>-5.586433</td>\n",
       "      <td>62.871910</td>\n",
       "    </tr>\n",
       "    <tr>\n",
       "      <th>3</th>\n",
       "      <td>q6cA6</td>\n",
       "      <td>2.236060</td>\n",
       "      <td>-0.553760</td>\n",
       "      <td>0.930038</td>\n",
       "      <td>114.572842</td>\n",
       "    </tr>\n",
       "    <tr>\n",
       "      <th>4</th>\n",
       "      <td>WPMUX</td>\n",
       "      <td>-0.515993</td>\n",
       "      <td>1.716266</td>\n",
       "      <td>5.899011</td>\n",
       "      <td>149.600746</td>\n",
       "    </tr>\n",
       "  </tbody>\n",
       "</table>\n",
       "</div>"
      ],
      "text/plain": [
       "      id        f0        f1        f2     product\n",
       "0  fwXo0 -1.146987  0.963328 -0.828965   27.758673\n",
       "1  WJtFt  0.262778  0.269839 -2.530187   56.069697\n",
       "2  ovLUW  0.194587  0.289035 -5.586433   62.871910\n",
       "3  q6cA6  2.236060 -0.553760  0.930038  114.572842\n",
       "4  WPMUX -0.515993  1.716266  5.899011  149.600746"
      ]
     },
     "metadata": {},
     "output_type": "display_data"
    },
    {
     "data": {
      "text/plain": [
       "(100000, 5)"
      ]
     },
     "metadata": {},
     "output_type": "display_data"
    },
    {
     "data": {
      "text/plain": [
       "(100000, 5)"
      ]
     },
     "metadata": {},
     "output_type": "display_data"
    },
    {
     "data": {
      "text/plain": [
       "(100000, 5)"
      ]
     },
     "metadata": {},
     "output_type": "display_data"
    }
   ],
   "source": [
    "# выведем датафреймы на экран\n",
    "\n",
    "display(data_0.head())\n",
    "\n",
    "display(data_1.head())\n",
    "\n",
    "display(data_2.head())\n",
    "\n",
    "# посмотрим размеры датафреймов\n",
    "\n",
    "display(data_0.shape)\n",
    "\n",
    "display(data_1.shape)\n",
    "\n",
    "display(data_2.shape)\n"
   ]
  },
  {
   "cell_type": "markdown",
   "metadata": {},
   "source": [
    "Все три датафрейма состоят из 100 000 строк (объектов) и пяти столбцов(признаков), как и заявлено в условиях задачи. Все числа имеют неокругленные значения, но пока не понятно, как их можно округлить, оставим так."
   ]
  },
  {
   "cell_type": "code",
   "execution_count": 5,
   "metadata": {
    "scrolled": true
   },
   "outputs": [
    {
     "name": "stdout",
     "output_type": "stream",
     "text": [
      "<class 'pandas.core.frame.DataFrame'>\n",
      "RangeIndex: 100000 entries, 0 to 99999\n",
      "Data columns (total 5 columns):\n",
      " #   Column   Non-Null Count   Dtype  \n",
      "---  ------   --------------   -----  \n",
      " 0   id       100000 non-null  object \n",
      " 1   f0       100000 non-null  float64\n",
      " 2   f1       100000 non-null  float64\n",
      " 3   f2       100000 non-null  float64\n",
      " 4   product  100000 non-null  float64\n",
      "dtypes: float64(4), object(1)\n",
      "memory usage: 3.8+ MB\n",
      "None\n",
      "<class 'pandas.core.frame.DataFrame'>\n",
      "RangeIndex: 100000 entries, 0 to 99999\n",
      "Data columns (total 5 columns):\n",
      " #   Column   Non-Null Count   Dtype  \n",
      "---  ------   --------------   -----  \n",
      " 0   id       100000 non-null  object \n",
      " 1   f0       100000 non-null  float64\n",
      " 2   f1       100000 non-null  float64\n",
      " 3   f2       100000 non-null  float64\n",
      " 4   product  100000 non-null  float64\n",
      "dtypes: float64(4), object(1)\n",
      "memory usage: 3.8+ MB\n",
      "None\n",
      "<class 'pandas.core.frame.DataFrame'>\n",
      "RangeIndex: 100000 entries, 0 to 99999\n",
      "Data columns (total 5 columns):\n",
      " #   Column   Non-Null Count   Dtype  \n",
      "---  ------   --------------   -----  \n",
      " 0   id       100000 non-null  object \n",
      " 1   f0       100000 non-null  float64\n",
      " 2   f1       100000 non-null  float64\n",
      " 3   f2       100000 non-null  float64\n",
      " 4   product  100000 non-null  float64\n",
      "dtypes: float64(4), object(1)\n",
      "memory usage: 3.8+ MB\n",
      "None\n"
     ]
    }
   ],
   "source": [
    "# проверим информацию о датафреймах\n",
    "\n",
    "print(data_0.info())\n",
    "\n",
    "print(data_1.info())\n",
    "\n",
    "print(data_2.info())"
   ]
  },
  {
   "cell_type": "markdown",
   "metadata": {},
   "source": [
    "Пропущенные значения отсутствуют, то есть данные представлены в полном объеме, числовые значения имеют тип float64, а категориальные - object. Это устраивает. Посмотрим, нет ли явных дубликатов."
   ]
  },
  {
   "cell_type": "code",
   "execution_count": 6,
   "metadata": {},
   "outputs": [
    {
     "data": {
      "text/plain": [
       "0"
      ]
     },
     "metadata": {},
     "output_type": "display_data"
    },
    {
     "data": {
      "text/plain": [
       "0"
      ]
     },
     "metadata": {},
     "output_type": "display_data"
    },
    {
     "data": {
      "text/plain": [
       "0"
      ]
     },
     "metadata": {},
     "output_type": "display_data"
    }
   ],
   "source": [
    "# проверим наличие явных дубликатов\n",
    "\n",
    "display(data_0.duplicated().sum())\n",
    "\n",
    "display(data_1.duplicated().sum())\n",
    "\n",
    "display(data_2.duplicated().sum())"
   ]
  },
  {
   "cell_type": "code",
   "execution_count": 7,
   "metadata": {
    "scrolled": true
   },
   "outputs": [
    {
     "data": {
      "text/html": [
       "<div>\n",
       "<style scoped>\n",
       "    .dataframe tbody tr th:only-of-type {\n",
       "        vertical-align: middle;\n",
       "    }\n",
       "\n",
       "    .dataframe tbody tr th {\n",
       "        vertical-align: top;\n",
       "    }\n",
       "\n",
       "    .dataframe thead th {\n",
       "        text-align: right;\n",
       "    }\n",
       "</style>\n",
       "<table border=\"1\" class=\"dataframe\">\n",
       "  <thead>\n",
       "    <tr style=\"text-align: right;\">\n",
       "      <th></th>\n",
       "      <th>id</th>\n",
       "      <th>f0</th>\n",
       "      <th>f1</th>\n",
       "      <th>f2</th>\n",
       "      <th>product</th>\n",
       "    </tr>\n",
       "  </thead>\n",
       "  <tbody>\n",
       "    <tr>\n",
       "      <th>7530</th>\n",
       "      <td>HZww2</td>\n",
       "      <td>1.061194</td>\n",
       "      <td>-0.373969</td>\n",
       "      <td>10.430210</td>\n",
       "      <td>158.828695</td>\n",
       "    </tr>\n",
       "    <tr>\n",
       "      <th>41724</th>\n",
       "      <td>bxg6G</td>\n",
       "      <td>-0.823752</td>\n",
       "      <td>0.546319</td>\n",
       "      <td>3.630479</td>\n",
       "      <td>93.007798</td>\n",
       "    </tr>\n",
       "    <tr>\n",
       "      <th>51970</th>\n",
       "      <td>A5aEY</td>\n",
       "      <td>-0.180335</td>\n",
       "      <td>0.935548</td>\n",
       "      <td>-2.094773</td>\n",
       "      <td>33.020205</td>\n",
       "    </tr>\n",
       "    <tr>\n",
       "      <th>63593</th>\n",
       "      <td>QcMuo</td>\n",
       "      <td>0.635635</td>\n",
       "      <td>-0.473422</td>\n",
       "      <td>0.862670</td>\n",
       "      <td>64.578675</td>\n",
       "    </tr>\n",
       "    <tr>\n",
       "      <th>66136</th>\n",
       "      <td>74z30</td>\n",
       "      <td>1.084962</td>\n",
       "      <td>-0.312358</td>\n",
       "      <td>6.990771</td>\n",
       "      <td>127.643327</td>\n",
       "    </tr>\n",
       "    <tr>\n",
       "      <th>69163</th>\n",
       "      <td>AGS9W</td>\n",
       "      <td>-0.933795</td>\n",
       "      <td>0.116194</td>\n",
       "      <td>-3.655896</td>\n",
       "      <td>19.230453</td>\n",
       "    </tr>\n",
       "    <tr>\n",
       "      <th>75715</th>\n",
       "      <td>Tdehs</td>\n",
       "      <td>0.112079</td>\n",
       "      <td>0.430296</td>\n",
       "      <td>3.218993</td>\n",
       "      <td>60.964018</td>\n",
       "    </tr>\n",
       "    <tr>\n",
       "      <th>90815</th>\n",
       "      <td>fiKDv</td>\n",
       "      <td>0.049883</td>\n",
       "      <td>0.841313</td>\n",
       "      <td>6.394613</td>\n",
       "      <td>137.346586</td>\n",
       "    </tr>\n",
       "    <tr>\n",
       "      <th>92341</th>\n",
       "      <td>TtcGQ</td>\n",
       "      <td>0.110711</td>\n",
       "      <td>1.022689</td>\n",
       "      <td>0.911381</td>\n",
       "      <td>101.318008</td>\n",
       "    </tr>\n",
       "    <tr>\n",
       "      <th>97785</th>\n",
       "      <td>bsk9y</td>\n",
       "      <td>0.378429</td>\n",
       "      <td>0.005837</td>\n",
       "      <td>0.160827</td>\n",
       "      <td>160.637302</td>\n",
       "    </tr>\n",
       "  </tbody>\n",
       "</table>\n",
       "</div>"
      ],
      "text/plain": [
       "          id        f0        f1         f2     product\n",
       "7530   HZww2  1.061194 -0.373969  10.430210  158.828695\n",
       "41724  bxg6G -0.823752  0.546319   3.630479   93.007798\n",
       "51970  A5aEY -0.180335  0.935548  -2.094773   33.020205\n",
       "63593  QcMuo  0.635635 -0.473422   0.862670   64.578675\n",
       "66136  74z30  1.084962 -0.312358   6.990771  127.643327\n",
       "69163  AGS9W -0.933795  0.116194  -3.655896   19.230453\n",
       "75715  Tdehs  0.112079  0.430296   3.218993   60.964018\n",
       "90815  fiKDv  0.049883  0.841313   6.394613  137.346586\n",
       "92341  TtcGQ  0.110711  1.022689   0.911381  101.318008\n",
       "97785  bsk9y  0.378429  0.005837   0.160827  160.637302"
      ]
     },
     "metadata": {},
     "output_type": "display_data"
    },
    {
     "data": {
      "text/html": [
       "<div>\n",
       "<style scoped>\n",
       "    .dataframe tbody tr th:only-of-type {\n",
       "        vertical-align: middle;\n",
       "    }\n",
       "\n",
       "    .dataframe tbody tr th {\n",
       "        vertical-align: top;\n",
       "    }\n",
       "\n",
       "    .dataframe thead th {\n",
       "        text-align: right;\n",
       "    }\n",
       "</style>\n",
       "<table border=\"1\" class=\"dataframe\">\n",
       "  <thead>\n",
       "    <tr style=\"text-align: right;\">\n",
       "      <th></th>\n",
       "      <th>id</th>\n",
       "      <th>f0</th>\n",
       "      <th>f1</th>\n",
       "      <th>f2</th>\n",
       "      <th>product</th>\n",
       "    </tr>\n",
       "  </thead>\n",
       "  <tbody>\n",
       "    <tr>\n",
       "      <th>41906</th>\n",
       "      <td>LHZR0</td>\n",
       "      <td>-8.989672</td>\n",
       "      <td>-4.286607</td>\n",
       "      <td>2.009139</td>\n",
       "      <td>57.085625</td>\n",
       "    </tr>\n",
       "    <tr>\n",
       "      <th>82178</th>\n",
       "      <td>bfPNe</td>\n",
       "      <td>-6.202799</td>\n",
       "      <td>-4.820045</td>\n",
       "      <td>2.995107</td>\n",
       "      <td>84.038886</td>\n",
       "    </tr>\n",
       "    <tr>\n",
       "      <th>82873</th>\n",
       "      <td>wt4Uk</td>\n",
       "      <td>10.259972</td>\n",
       "      <td>-9.376355</td>\n",
       "      <td>4.994297</td>\n",
       "      <td>134.766305</td>\n",
       "    </tr>\n",
       "    <tr>\n",
       "      <th>84461</th>\n",
       "      <td>5ltQ6</td>\n",
       "      <td>18.213839</td>\n",
       "      <td>2.191999</td>\n",
       "      <td>3.993869</td>\n",
       "      <td>107.813044</td>\n",
       "    </tr>\n",
       "  </tbody>\n",
       "</table>\n",
       "</div>"
      ],
      "text/plain": [
       "          id         f0        f1        f2     product\n",
       "41906  LHZR0  -8.989672 -4.286607  2.009139   57.085625\n",
       "82178  bfPNe  -6.202799 -4.820045  2.995107   84.038886\n",
       "82873  wt4Uk  10.259972 -9.376355  4.994297  134.766305\n",
       "84461  5ltQ6  18.213839  2.191999  3.993869  107.813044"
      ]
     },
     "metadata": {},
     "output_type": "display_data"
    },
    {
     "data": {
      "text/html": [
       "<div>\n",
       "<style scoped>\n",
       "    .dataframe tbody tr th:only-of-type {\n",
       "        vertical-align: middle;\n",
       "    }\n",
       "\n",
       "    .dataframe tbody tr th {\n",
       "        vertical-align: top;\n",
       "    }\n",
       "\n",
       "    .dataframe thead th {\n",
       "        text-align: right;\n",
       "    }\n",
       "</style>\n",
       "<table border=\"1\" class=\"dataframe\">\n",
       "  <thead>\n",
       "    <tr style=\"text-align: right;\">\n",
       "      <th></th>\n",
       "      <th>id</th>\n",
       "      <th>f0</th>\n",
       "      <th>f1</th>\n",
       "      <th>f2</th>\n",
       "      <th>product</th>\n",
       "    </tr>\n",
       "  </thead>\n",
       "  <tbody>\n",
       "    <tr>\n",
       "      <th>43233</th>\n",
       "      <td>xCHr8</td>\n",
       "      <td>-0.847066</td>\n",
       "      <td>2.101796</td>\n",
       "      <td>5.597130</td>\n",
       "      <td>184.388641</td>\n",
       "    </tr>\n",
       "    <tr>\n",
       "      <th>49564</th>\n",
       "      <td>VF7Jo</td>\n",
       "      <td>-0.883115</td>\n",
       "      <td>0.560537</td>\n",
       "      <td>0.723601</td>\n",
       "      <td>136.233420</td>\n",
       "    </tr>\n",
       "    <tr>\n",
       "      <th>55967</th>\n",
       "      <td>KUPhW</td>\n",
       "      <td>1.211150</td>\n",
       "      <td>3.176408</td>\n",
       "      <td>5.543540</td>\n",
       "      <td>132.831802</td>\n",
       "    </tr>\n",
       "    <tr>\n",
       "      <th>95090</th>\n",
       "      <td>Vcm5J</td>\n",
       "      <td>2.587702</td>\n",
       "      <td>1.986875</td>\n",
       "      <td>2.482245</td>\n",
       "      <td>92.327572</td>\n",
       "    </tr>\n",
       "  </tbody>\n",
       "</table>\n",
       "</div>"
      ],
      "text/plain": [
       "          id        f0        f1        f2     product\n",
       "43233  xCHr8 -0.847066  2.101796  5.597130  184.388641\n",
       "49564  VF7Jo -0.883115  0.560537  0.723601  136.233420\n",
       "55967  KUPhW  1.211150  3.176408  5.543540  132.831802\n",
       "95090  Vcm5J  2.587702  1.986875  2.482245   92.327572"
      ]
     },
     "metadata": {},
     "output_type": "display_data"
    }
   ],
   "source": [
    "# проверим наличие дубликатов по ['id'], выведем их на экран\n",
    "\n",
    "display(data_0[data_0['id'].duplicated()])\n",
    "\n",
    "display(data_1[data_1['id'].duplicated()])\n",
    "\n",
    "display(data_2[data_2['id'].duplicated()])\n",
    "\n"
   ]
  },
  {
   "cell_type": "markdown",
   "metadata": {},
   "source": [
    "Явные дубликаты не обнаружены в данных, а неявные дубликаты с повторяющимися id обнаружены по всех трех датафреймах, зададим вопросы коллегам."
   ]
  },
  {
   "cell_type": "markdown",
   "metadata": {},
   "source": [
    "Разделим данные на признаки и целевой признак. В нашем случае признаками будут f0, f1, f2, а целевой признак - product — объём запасов в скважине (тыс. баррелей)."
   ]
  },
  {
   "cell_type": "code",
   "execution_count": 8,
   "metadata": {
    "scrolled": false
   },
   "outputs": [
    {
     "data": {
      "text/plain": [
       "(             f0        f1        f2\n",
       " 0      0.705745 -0.497823  1.221170\n",
       " 1      1.334711 -0.340164  4.365080\n",
       " 2      1.022732  0.151990  1.419926\n",
       " 3     -0.032172  0.139033  2.978566\n",
       " 4      1.988431  0.155413  4.751769\n",
       " ...         ...       ...       ...\n",
       " 99995  0.971957  0.370953  6.075346\n",
       " 99996  1.392429 -0.382606  1.273912\n",
       " 99997  1.029585  0.018787 -1.348308\n",
       " 99998  0.998163 -0.528582  1.583869\n",
       " 99999  1.764754 -0.266417  5.722849\n",
       " \n",
       " [100000 rows x 3 columns],\n",
       " 0        105\n",
       " 1         73\n",
       " 2         85\n",
       " 3        168\n",
       " 4        154\n",
       "         ... \n",
       " 99995    110\n",
       " 99996    122\n",
       " 99997     64\n",
       " 99998     74\n",
       " 99999    149\n",
       " Name: product, Length: 100000, dtype: int64)"
      ]
     },
     "execution_count": 8,
     "metadata": {},
     "output_type": "execute_result"
    }
   ],
   "source": [
    "# разделим с помощью функций\n",
    "\n",
    "def features_target(df):\n",
    "    \n",
    "    features = (df.drop(['product', 'id'], axis=1))\n",
    "    \n",
    "    target = (df['product']).astype(int)\n",
    "    \n",
    "    return features, target\n",
    "\n",
    "features_0, target_0 = features_target(data_0)\n",
    "\n",
    "features_1, target_1 = features_target(data_1)\n",
    "\n",
    "features_2, target_2 = features_target(data_2)\n",
    "\n",
    "# проверим разделение\n",
    "\n",
    "features_0, target_0"
   ]
  },
  {
   "cell_type": "markdown",
   "metadata": {},
   "source": [
    "Проверим статистические показатели признаков на предмет вылетов и аномальных значений."
   ]
  },
  {
   "cell_type": "code",
   "execution_count": 9,
   "metadata": {
    "scrolled": true
   },
   "outputs": [
    {
     "data": {
      "text/html": [
       "<div>\n",
       "<style scoped>\n",
       "    .dataframe tbody tr th:only-of-type {\n",
       "        vertical-align: middle;\n",
       "    }\n",
       "\n",
       "    .dataframe tbody tr th {\n",
       "        vertical-align: top;\n",
       "    }\n",
       "\n",
       "    .dataframe thead th {\n",
       "        text-align: right;\n",
       "    }\n",
       "</style>\n",
       "<table border=\"1\" class=\"dataframe\">\n",
       "  <thead>\n",
       "    <tr style=\"text-align: right;\">\n",
       "      <th></th>\n",
       "      <th>f0</th>\n",
       "      <th>f1</th>\n",
       "      <th>f2</th>\n",
       "      <th>product</th>\n",
       "    </tr>\n",
       "  </thead>\n",
       "  <tbody>\n",
       "    <tr>\n",
       "      <th>count</th>\n",
       "      <td>100000.000000</td>\n",
       "      <td>100000.000000</td>\n",
       "      <td>100000.000000</td>\n",
       "      <td>100000.000000</td>\n",
       "    </tr>\n",
       "    <tr>\n",
       "      <th>mean</th>\n",
       "      <td>0.500419</td>\n",
       "      <td>0.250143</td>\n",
       "      <td>2.502647</td>\n",
       "      <td>92.500000</td>\n",
       "    </tr>\n",
       "    <tr>\n",
       "      <th>std</th>\n",
       "      <td>0.871832</td>\n",
       "      <td>0.504433</td>\n",
       "      <td>3.248248</td>\n",
       "      <td>44.288691</td>\n",
       "    </tr>\n",
       "    <tr>\n",
       "      <th>min</th>\n",
       "      <td>-1.408605</td>\n",
       "      <td>-0.848218</td>\n",
       "      <td>-12.088328</td>\n",
       "      <td>0.000000</td>\n",
       "    </tr>\n",
       "    <tr>\n",
       "      <th>25%</th>\n",
       "      <td>-0.072580</td>\n",
       "      <td>-0.200881</td>\n",
       "      <td>0.287748</td>\n",
       "      <td>56.497507</td>\n",
       "    </tr>\n",
       "    <tr>\n",
       "      <th>50%</th>\n",
       "      <td>0.502360</td>\n",
       "      <td>0.250252</td>\n",
       "      <td>2.515969</td>\n",
       "      <td>91.849972</td>\n",
       "    </tr>\n",
       "    <tr>\n",
       "      <th>75%</th>\n",
       "      <td>1.073581</td>\n",
       "      <td>0.700646</td>\n",
       "      <td>4.715088</td>\n",
       "      <td>128.564089</td>\n",
       "    </tr>\n",
       "    <tr>\n",
       "      <th>max</th>\n",
       "      <td>2.362331</td>\n",
       "      <td>1.343769</td>\n",
       "      <td>16.003790</td>\n",
       "      <td>185.364347</td>\n",
       "    </tr>\n",
       "  </tbody>\n",
       "</table>\n",
       "</div>"
      ],
      "text/plain": [
       "                  f0             f1             f2        product\n",
       "count  100000.000000  100000.000000  100000.000000  100000.000000\n",
       "mean        0.500419       0.250143       2.502647      92.500000\n",
       "std         0.871832       0.504433       3.248248      44.288691\n",
       "min        -1.408605      -0.848218     -12.088328       0.000000\n",
       "25%        -0.072580      -0.200881       0.287748      56.497507\n",
       "50%         0.502360       0.250252       2.515969      91.849972\n",
       "75%         1.073581       0.700646       4.715088     128.564089\n",
       "max         2.362331       1.343769      16.003790     185.364347"
      ]
     },
     "metadata": {},
     "output_type": "display_data"
    },
    {
     "data": {
      "text/html": [
       "<div>\n",
       "<style scoped>\n",
       "    .dataframe tbody tr th:only-of-type {\n",
       "        vertical-align: middle;\n",
       "    }\n",
       "\n",
       "    .dataframe tbody tr th {\n",
       "        vertical-align: top;\n",
       "    }\n",
       "\n",
       "    .dataframe thead th {\n",
       "        text-align: right;\n",
       "    }\n",
       "</style>\n",
       "<table border=\"1\" class=\"dataframe\">\n",
       "  <thead>\n",
       "    <tr style=\"text-align: right;\">\n",
       "      <th></th>\n",
       "      <th>f0</th>\n",
       "      <th>f1</th>\n",
       "      <th>f2</th>\n",
       "      <th>product</th>\n",
       "    </tr>\n",
       "  </thead>\n",
       "  <tbody>\n",
       "    <tr>\n",
       "      <th>count</th>\n",
       "      <td>100000.000000</td>\n",
       "      <td>100000.000000</td>\n",
       "      <td>100000.000000</td>\n",
       "      <td>100000.000000</td>\n",
       "    </tr>\n",
       "    <tr>\n",
       "      <th>mean</th>\n",
       "      <td>1.141296</td>\n",
       "      <td>-4.796579</td>\n",
       "      <td>2.494541</td>\n",
       "      <td>68.825000</td>\n",
       "    </tr>\n",
       "    <tr>\n",
       "      <th>std</th>\n",
       "      <td>8.965932</td>\n",
       "      <td>5.119872</td>\n",
       "      <td>1.703572</td>\n",
       "      <td>45.944423</td>\n",
       "    </tr>\n",
       "    <tr>\n",
       "      <th>min</th>\n",
       "      <td>-31.609576</td>\n",
       "      <td>-26.358598</td>\n",
       "      <td>-0.018144</td>\n",
       "      <td>0.000000</td>\n",
       "    </tr>\n",
       "    <tr>\n",
       "      <th>25%</th>\n",
       "      <td>-6.298551</td>\n",
       "      <td>-8.267985</td>\n",
       "      <td>1.000021</td>\n",
       "      <td>26.953261</td>\n",
       "    </tr>\n",
       "    <tr>\n",
       "      <th>50%</th>\n",
       "      <td>1.153055</td>\n",
       "      <td>-4.813172</td>\n",
       "      <td>2.011479</td>\n",
       "      <td>57.085625</td>\n",
       "    </tr>\n",
       "    <tr>\n",
       "      <th>75%</th>\n",
       "      <td>8.621015</td>\n",
       "      <td>-1.332816</td>\n",
       "      <td>3.999904</td>\n",
       "      <td>107.813044</td>\n",
       "    </tr>\n",
       "    <tr>\n",
       "      <th>max</th>\n",
       "      <td>29.421755</td>\n",
       "      <td>18.734063</td>\n",
       "      <td>5.019721</td>\n",
       "      <td>137.945408</td>\n",
       "    </tr>\n",
       "  </tbody>\n",
       "</table>\n",
       "</div>"
      ],
      "text/plain": [
       "                  f0             f1             f2        product\n",
       "count  100000.000000  100000.000000  100000.000000  100000.000000\n",
       "mean        1.141296      -4.796579       2.494541      68.825000\n",
       "std         8.965932       5.119872       1.703572      45.944423\n",
       "min       -31.609576     -26.358598      -0.018144       0.000000\n",
       "25%        -6.298551      -8.267985       1.000021      26.953261\n",
       "50%         1.153055      -4.813172       2.011479      57.085625\n",
       "75%         8.621015      -1.332816       3.999904     107.813044\n",
       "max        29.421755      18.734063       5.019721     137.945408"
      ]
     },
     "metadata": {},
     "output_type": "display_data"
    },
    {
     "data": {
      "text/html": [
       "<div>\n",
       "<style scoped>\n",
       "    .dataframe tbody tr th:only-of-type {\n",
       "        vertical-align: middle;\n",
       "    }\n",
       "\n",
       "    .dataframe tbody tr th {\n",
       "        vertical-align: top;\n",
       "    }\n",
       "\n",
       "    .dataframe thead th {\n",
       "        text-align: right;\n",
       "    }\n",
       "</style>\n",
       "<table border=\"1\" class=\"dataframe\">\n",
       "  <thead>\n",
       "    <tr style=\"text-align: right;\">\n",
       "      <th></th>\n",
       "      <th>f0</th>\n",
       "      <th>f1</th>\n",
       "      <th>f2</th>\n",
       "      <th>product</th>\n",
       "    </tr>\n",
       "  </thead>\n",
       "  <tbody>\n",
       "    <tr>\n",
       "      <th>count</th>\n",
       "      <td>100000.000000</td>\n",
       "      <td>100000.000000</td>\n",
       "      <td>100000.000000</td>\n",
       "      <td>100000.000000</td>\n",
       "    </tr>\n",
       "    <tr>\n",
       "      <th>mean</th>\n",
       "      <td>0.002023</td>\n",
       "      <td>-0.002081</td>\n",
       "      <td>2.495128</td>\n",
       "      <td>95.000000</td>\n",
       "    </tr>\n",
       "    <tr>\n",
       "      <th>std</th>\n",
       "      <td>1.732045</td>\n",
       "      <td>1.730417</td>\n",
       "      <td>3.473445</td>\n",
       "      <td>44.749921</td>\n",
       "    </tr>\n",
       "    <tr>\n",
       "      <th>min</th>\n",
       "      <td>-8.760004</td>\n",
       "      <td>-7.084020</td>\n",
       "      <td>-11.970335</td>\n",
       "      <td>0.000000</td>\n",
       "    </tr>\n",
       "    <tr>\n",
       "      <th>25%</th>\n",
       "      <td>-1.162288</td>\n",
       "      <td>-1.174820</td>\n",
       "      <td>0.130359</td>\n",
       "      <td>59.450441</td>\n",
       "    </tr>\n",
       "    <tr>\n",
       "      <th>50%</th>\n",
       "      <td>0.009424</td>\n",
       "      <td>-0.009482</td>\n",
       "      <td>2.484236</td>\n",
       "      <td>94.925613</td>\n",
       "    </tr>\n",
       "    <tr>\n",
       "      <th>75%</th>\n",
       "      <td>1.158535</td>\n",
       "      <td>1.163678</td>\n",
       "      <td>4.858794</td>\n",
       "      <td>130.595027</td>\n",
       "    </tr>\n",
       "    <tr>\n",
       "      <th>max</th>\n",
       "      <td>7.238262</td>\n",
       "      <td>7.844801</td>\n",
       "      <td>16.739402</td>\n",
       "      <td>190.029838</td>\n",
       "    </tr>\n",
       "  </tbody>\n",
       "</table>\n",
       "</div>"
      ],
      "text/plain": [
       "                  f0             f1             f2        product\n",
       "count  100000.000000  100000.000000  100000.000000  100000.000000\n",
       "mean        0.002023      -0.002081       2.495128      95.000000\n",
       "std         1.732045       1.730417       3.473445      44.749921\n",
       "min        -8.760004      -7.084020     -11.970335       0.000000\n",
       "25%        -1.162288      -1.174820       0.130359      59.450441\n",
       "50%         0.009424      -0.009482       2.484236      94.925613\n",
       "75%         1.158535       1.163678       4.858794     130.595027\n",
       "max         7.238262       7.844801      16.739402     190.029838"
      ]
     },
     "metadata": {},
     "output_type": "display_data"
    }
   ],
   "source": [
    "# выведем информацию функцией describe\n",
    "\n",
    "display(data_0.describe())\n",
    "\n",
    "display(data_1.describe())\n",
    "\n",
    "display(data_2.describe())"
   ]
  },
  {
   "cell_type": "markdown",
   "metadata": {},
   "source": [
    "В первом регионе (data_0) медианы и средние признаков  примерно равны, можем предположить, что данные распределены нормально, однако, стандартное отклонение больше среднего, что может говорить об аномальных значениях. В показателях целевого признака ничего подозрительного нет.\n",
    "\n",
    "Во втором регионе (data_1) медианы и средние признаков примерно равны, можем предположить, что данные распределены нормально. Но при этом стандартное отклонение признаков f0 и f1 намного больше средних, это может говорить о наличии аномальных значений. Что касается целевого признака, медиана примерно на 10% меньше среднего, что может говорить о наличии нескольких очень больших значений, стандартное отклонение меньше среднего, это хороший показатель данных.\n",
    "\n",
    "В третьем регионе (data_2) медианы и средние признаков примерно равны, значит, можно говорить о нормальном распределении данных, но стандартное отклонение значительно больше среднего, что наоборот говорит о серьезных аномалиях в данных. Медиана и среднее целевого признака примерно равны, можно предположить нормальное распределение, стандартное отклонение в 2 раза меньше среднего, значит аномальных значений нет.\n",
    "\n",
    "Наши выводы получились довольно сумбурные, проверим, что нам покажет диаграмма размаха."
   ]
  },
  {
   "cell_type": "code",
   "execution_count": 10,
   "metadata": {
    "scrolled": true
   },
   "outputs": [
    {
     "data": {
      "text/plain": [
       "<AxesSubplot:>"
      ]
     },
     "execution_count": 10,
     "metadata": {},
     "output_type": "execute_result"
    },
    {
     "data": {
      "image/png": "[encoded data removed]",
      "text/plain": [
       "<Figure size 432x288 with 1 Axes>"
      ]
     },
     "metadata": {
      "needs_background": "light"
     },
     "output_type": "display_data"
    }
   ],
   "source": [
    "# строим диаграмму размаха для признаков первого региона\n",
    "\n",
    "features_0.boxplot()\n"
   ]
  },
  {
   "cell_type": "code",
   "execution_count": 11,
   "metadata": {},
   "outputs": [
    {
     "data": {
      "text/plain": [
       "<AxesSubplot:>"
      ]
     },
     "execution_count": 11,
     "metadata": {},
     "output_type": "execute_result"
    },
    {
     "data": {
      "image/png": "[encoded data removed]",
      "text/plain": [
       "<Figure size 432x288 with 1 Axes>"
      ]
     },
     "metadata": {
      "needs_background": "light"
     },
     "output_type": "display_data"
    }
   ],
   "source": [
    "# а также для целевого признака первого региона\n",
    "\n",
    "data_0.boxplot(column=['product'])"
   ]
  },
  {
   "cell_type": "markdown",
   "metadata": {},
   "source": [
    "У значений признака f2 много вылетов(аномальных значений). Нужно уточнить у коллег, с чем связаны выбросы этого показателя и можно ли откинуть аномальные значения."
   ]
  },
  {
   "cell_type": "code",
   "execution_count": 12,
   "metadata": {
    "scrolled": true
   },
   "outputs": [
    {
     "data": {
      "text/plain": [
       "<AxesSubplot:>"
      ]
     },
     "execution_count": 12,
     "metadata": {},
     "output_type": "execute_result"
    },
    {
     "data": {
      "image/png": "[encoded data removed]",
      "text/plain": [
       "<Figure size 432x288 with 1 Axes>"
      ]
     },
     "metadata": {
      "needs_background": "light"
     },
     "output_type": "display_data"
    }
   ],
   "source": [
    "# строим диаграмму размаха для признаков второго региона\n",
    "\n",
    "features_1.boxplot()"
   ]
  },
  {
   "cell_type": "code",
   "execution_count": 13,
   "metadata": {},
   "outputs": [
    {
     "data": {
      "text/plain": [
       "<AxesSubplot:>"
      ]
     },
     "execution_count": 13,
     "metadata": {},
     "output_type": "execute_result"
    },
    {
     "data": {
      "image/png": "[encoded data removed]",
      "text/plain": [
       "<Figure size 432x288 with 1 Axes>"
      ]
     },
     "metadata": {
      "needs_background": "light"
     },
     "output_type": "display_data"
    }
   ],
   "source": [
    "# а также для целевого признака второго региона\n",
    "\n",
    "data_1.boxplot(column=['product'])"
   ]
  },
  {
   "cell_type": "markdown",
   "metadata": {},
   "source": [
    "Значения целевого признака не имеют вылетов, а значения признаков f0 и f1 имеют вылеты. У f0 единичный вылет, у f1 - вылетов много. Нужно уточнить у коллег, с чем связаны выбросы этого показателя и можно ли откинуть аномальные значения."
   ]
  },
  {
   "cell_type": "code",
   "execution_count": 14,
   "metadata": {
    "scrolled": true
   },
   "outputs": [
    {
     "data": {
      "text/plain": [
       "<AxesSubplot:>"
      ]
     },
     "execution_count": 14,
     "metadata": {},
     "output_type": "execute_result"
    },
    {
     "data": {
      "image/png": "[encoded data removed]",
      "text/plain": [
       "<Figure size 432x288 with 1 Axes>"
      ]
     },
     "metadata": {
      "needs_background": "light"
     },
     "output_type": "display_data"
    }
   ],
   "source": [
    "# строим диаграмму размаха для признаков третьего региона\n",
    "\n",
    "features_2.boxplot()"
   ]
  },
  {
   "cell_type": "code",
   "execution_count": 15,
   "metadata": {},
   "outputs": [
    {
     "data": {
      "text/plain": [
       "<AxesSubplot:>"
      ]
     },
     "execution_count": 15,
     "metadata": {},
     "output_type": "execute_result"
    },
    {
     "data": {
      "image/png": "[encoded data removed]",
      "text/plain": [
       "<Figure size 432x288 with 1 Axes>"
      ]
     },
     "metadata": {
      "needs_background": "light"
     },
     "output_type": "display_data"
    }
   ],
   "source": [
    "# а также для целевого признака третьего региона\n",
    "\n",
    "data_2.boxplot(column=['product'])"
   ]
  },
  {
   "cell_type": "markdown",
   "metadata": {},
   "source": [
    "Значения целевого признака без вылетов, а признаки все с вылетами. Построим тепловые карты для проверки мультиколлинеарности признаков."
   ]
  },
  {
   "cell_type": "code",
   "execution_count": 16,
   "metadata": {
    "scrolled": false
   },
   "outputs": [
    {
     "data": {
      "text/plain": [
       "<AxesSubplot:>"
      ]
     },
     "execution_count": 16,
     "metadata": {},
     "output_type": "execute_result"
    },
    {
     "data": {
      "image/png": "[encoded data removed]",
      "text/plain": [
       "<Figure size 432x288 with 2 Axes>"
      ]
     },
     "metadata": {
      "needs_background": "light"
     },
     "output_type": "display_data"
    }
   ],
   "source": [
    "# построим тепловую карту для первого региона\n",
    "\n",
    "sns.heatmap(data_0.corr())"
   ]
  },
  {
   "cell_type": "markdown",
   "metadata": {},
   "source": [
    "Сильной корреляции между признаками не наблюдается."
   ]
  },
  {
   "cell_type": "code",
   "execution_count": 17,
   "metadata": {
    "scrolled": true
   },
   "outputs": [
    {
     "data": {
      "text/plain": [
       "<AxesSubplot:>"
      ]
     },
     "execution_count": 17,
     "metadata": {},
     "output_type": "execute_result"
    },
    {
     "data": {
      "image/png": "[encoded data removed]",
      "text/plain": [
       "<Figure size 432x288 with 2 Axes>"
      ]
     },
     "metadata": {
      "needs_background": "light"
     },
     "output_type": "display_data"
    }
   ],
   "source": [
    "# построим тепловую карту для второго региона\n",
    "\n",
    "sns.heatmap(data_1.corr())"
   ]
  },
  {
   "cell_type": "markdown",
   "metadata": {},
   "source": [
    "Наблюдаем прямую сильную корреляцию между признаком f2 и целевым признаком. В будущем это может сказаться на модели. Уточним у коллег, с чем связана такая зависимость признаков."
   ]
  },
  {
   "cell_type": "code",
   "execution_count": 18,
   "metadata": {
    "scrolled": true
   },
   "outputs": [
    {
     "data": {
      "text/plain": [
       "<AxesSubplot:>"
      ]
     },
     "execution_count": 18,
     "metadata": {},
     "output_type": "execute_result"
    },
    {
     "data": {
      "image/png": "[encoded data removed]",
      "text/plain": [
       "<Figure size 432x288 with 2 Axes>"
      ]
     },
     "metadata": {
      "needs_background": "light"
     },
     "output_type": "display_data"
    }
   ],
   "source": [
    "# построим тепловую карту для третьего региона\n",
    "\n",
    "sns.heatmap(data_2.corr())"
   ]
  },
  {
   "cell_type": "markdown",
   "metadata": {},
   "source": [
    "Сильной корреляции между признаками не наблюдается."
   ]
  },
  {
   "cell_type": "markdown",
   "metadata": {},
   "source": [
    "**Вывод** наблюдаются аномалии в значениях признаков, обратимся к коллегам для уточнения информации и вопросом, можно ли откинуть вылеты. Кроме этого, обнаружена прямая сильная корреляция между признаком f2 и целевым признаком во втором регионе. В будущем это может сказаться на модели. Уточним у коллег, с чем связана такая зависимость признаков."
   ]
  },
  {
   "cell_type": "markdown",
   "metadata": {},
   "source": [
    "## Обучение и проверка модели"
   ]
  },
  {
   "cell_type": "code",
   "execution_count": 19,
   "metadata": {
    "scrolled": false
   },
   "outputs": [
    {
     "data": {
      "text/plain": [
       "(             f0        f1         f2\n",
       " 27212  0.022450  0.951034   2.197333\n",
       " 7866   1.766731  0.007835   6.436602\n",
       " 62041  0.724514  0.666063   1.840177\n",
       " 70185 -1.104181  0.255268   2.026156\n",
       " 82230 -0.635263  0.747990   6.643327\n",
       " ...         ...       ...        ...\n",
       " 4094   1.863680 -0.298123   1.621324\n",
       " 85412 -1.162682 -0.014822   6.819941\n",
       " 2177   0.862688 -0.403776   1.867662\n",
       " 77285  0.846235 -0.489533   1.058786\n",
       " 86498  2.019850  0.263887  11.497239\n",
       " \n",
       " [75000 rows x 3 columns],\n",
       "              f0        f1        f2\n",
       " 71751  0.948970 -0.057547  2.095727\n",
       " 80493  0.992974  0.206671 -0.142278\n",
       " 2655   1.199854 -0.563356 -1.852991\n",
       " 53233  0.691422 -0.433347  0.564974\n",
       " 91141  0.420772  0.972638  0.736190\n",
       " ...         ...       ...       ...\n",
       " 12581  1.841106 -0.107678  2.585648\n",
       " 18456  0.041859  0.489280  2.168001\n",
       " 73035  0.376389  1.054298 -0.430104\n",
       " 63834  1.071330 -0.470046  4.527099\n",
       " 43558  1.726318 -0.077871  5.007083\n",
       " \n",
       " [25000 rows x 3 columns],\n",
       " 27212    147\n",
       " 7866     147\n",
       " 62041     77\n",
       " 70185     55\n",
       " 82230    113\n",
       "         ... \n",
       " 4094     124\n",
       " 85412    144\n",
       " 2177     134\n",
       " 77285     64\n",
       " 86498    151\n",
       " Name: product, Length: 75000, dtype: int64,\n",
       " 71751     10\n",
       " 80493    114\n",
       " 2655     132\n",
       " 53233    169\n",
       " 91141    122\n",
       "         ... \n",
       " 12581    170\n",
       " 18456     93\n",
       " 73035    127\n",
       " 63834     99\n",
       " 43558    177\n",
       " Name: product, Length: 25000, dtype: int64)"
      ]
     },
     "execution_count": 19,
     "metadata": {},
     "output_type": "execute_result"
    }
   ],
   "source": [
    "# Разделим данные на обучающую и валидационную выборки в соотношении 75:25\n",
    "\n",
    "def train_valid(features, target):\n",
    "    \n",
    "    features_train, features_valid, target_train, target_valid = train_test_split(features, target, test_size=0.25, random_state= 12345)\n",
    " \n",
    "    return features_train, features_valid, target_train, target_valid\n",
    "\n",
    "features_train_0, features_valid_0, target_train_0, target_valid_0 = train_valid(features_0, target_0)\n",
    "\n",
    "\n",
    "features_train_1, features_valid_1, target_train_1, target_valid_1 = train_valid(features_1, target_1)\n",
    "\n",
    "\n",
    "features_train_2, features_valid_2, target_train_2, target_valid_2 = train_valid(features_2, target_2)\n",
    "\n",
    "# проверим, как работает функция\n",
    "\n",
    "features_train_0, features_valid_0, target_train_0, target_valid_0\n",
    "\n"
   ]
  },
  {
   "cell_type": "markdown",
   "metadata": {},
   "source": [
    "Суммарное количество обьектов соответствует первоначальным данным (75 000 + 25 000), значит разделение на выборки прошло успешно. Приступим к обучению модели. Для обучения модели подходит только линейная регрессия (остальные — недостаточно предсказуемые)"
   ]
  },
  {
   "cell_type": "code",
   "execution_count": 20,
   "metadata": {},
   "outputs": [
    {
     "data": {
      "text/plain": [
       "0         95\n",
       "1         77\n",
       "2         77\n",
       "3         89\n",
       "4         70\n",
       "        ... \n",
       "24995    102\n",
       "24996     84\n",
       "24997     61\n",
       "24998    117\n",
       "24999    117\n",
       "Length: 25000, dtype: int64"
      ]
     },
     "execution_count": 20,
     "metadata": {},
     "output_type": "execute_result"
    }
   ],
   "source": [
    "# обучим модель и сделаем предсказания на валидационной выборке\n",
    "\n",
    "def train_model(features_train, target_train, features_valid):\n",
    "\n",
    "    model_lr = LinearRegression()\n",
    "\n",
    "    model_lr.fit(features_train, target_train)\n",
    "\n",
    "    predictions_valid = model_lr.predict(features_valid)\n",
    "    \n",
    "    return pd.Series(predictions_valid).astype(int)\n",
    "\n",
    "predictions_valid_0 = train_model(features_train_0, target_train_0, features_valid_0)\n",
    "\n",
    "predictions_valid_1 = train_model(features_train_1, target_train_1, features_valid_1)\n",
    "\n",
    "predictions_valid_2 = train_model(features_train_2, target_train_2, features_valid_2)\n",
    "\n",
    "# проверим результат предсказаний модели первого региона\n",
    "\n",
    "predictions_valid_0\n"
   ]
  },
  {
   "cell_type": "code",
   "execution_count": 21,
   "metadata": {},
   "outputs": [
    {
     "data": {
      "text/plain": [
       "0         10\n",
       "1        114\n",
       "2        132\n",
       "3        169\n",
       "4        122\n",
       "        ... \n",
       "24995    170\n",
       "24996     93\n",
       "24997    127\n",
       "24998     99\n",
       "24999    177\n",
       "Name: product, Length: 25000, dtype: int64"
      ]
     },
     "execution_count": 21,
     "metadata": {},
     "output_type": "execute_result"
    }
   ],
   "source": [
    "# аналогично сохраним правильные ответы на валидационной выборке, изменив индексацию, чтобы совпадала с индексаций predictions_valid\n",
    "    \n",
    "def target_valid(target_valid):\n",
    "    \n",
    "    target_valid = pd.Series(target_valid).astype(int).reset_index(drop=True)\n",
    "    \n",
    "    return target_valid\n",
    "\n",
    "\n",
    "target_valid_0 = target_valid(target_valid_0)\n",
    "\n",
    "target_valid_1 = target_valid(target_valid_1)\n",
    "\n",
    "target_valid_2 = target_valid(target_valid_2)\n",
    "\n",
    "# проверяем, что получилось\n",
    "\n",
    "target_valid_0"
   ]
  },
  {
   "cell_type": "markdown",
   "metadata": {},
   "source": [
    "Модель обучили и сделали предсказания на валидационной выборке, сохранили предсказания и правильные ответы на валидационной выборке.\n",
    "\n",
    "Далее расчитаем средний запас предсказанного сырья и проверим качество модели."
   ]
  },
  {
   "cell_type": "code",
   "execution_count": 22,
   "metadata": {},
   "outputs": [
    {
     "name": "stdout",
     "output_type": "stream",
     "text": [
      "Средний запас предсказанного сырья региона 1: 91\n",
      "Средний запас предсказанного сырья региона 2: 67\n",
      "Средний запас предсказанного сырья региона 3: 93\n",
      "91\n",
      "67\n",
      "93\n"
     ]
    }
   ],
   "source": [
    "# расчитаем и напечатаем на экране средний запас предсказанного сырья \n",
    "\n",
    "def middle_product_predicted(predictions_valid, n):\n",
    "    \n",
    "        middle_product_predicted = int(predictions_valid.mean())\n",
    "          \n",
    "        print(f'Средний запас предсказанного сырья региона {n}:', middle_product_predicted)\n",
    "        \n",
    "        return middle_product_predicted\n",
    "    \n",
    "middle_product_predicted_0 = middle_product_predicted(predictions_valid_0, 1)\n",
    "\n",
    "middle_product_predicted_1 = middle_product_predicted(predictions_valid_1, 2)\n",
    "\n",
    "middle_product_predicted_2 = middle_product_predicted(predictions_valid_2, 3)\n",
    "\n",
    "print(middle_product_predicted_0)\n",
    "\n",
    "print(middle_product_predicted_1)\n",
    "\n",
    "print(middle_product_predicted_2)"
   ]
  },
  {
   "cell_type": "markdown",
   "metadata": {},
   "source": [
    "Средний запас предсказанного сырья составляет:\n",
    "\n",
    "регион 1: 91 тыс баррелей\n",
    "\n",
    "регион 2: 67 тыс баррелей\n",
    "\n",
    "регион 3: 93 тыс баррелей"
   ]
  },
  {
   "cell_type": "code",
   "execution_count": 23,
   "metadata": {
    "scrolled": true
   },
   "outputs": [
    {
     "name": "stdout",
     "output_type": "stream",
     "text": [
      "RMSE модели для 1 региона: 37.58105214067323\n",
      "RMSE модели для 2 региона: 1.153152201576184\n",
      "RMSE модели для 3 региона: 40.03349147901042\n"
     ]
    }
   ],
   "source": [
    "# проверяем качество (RMSE модели)\n",
    "\n",
    "def rmse(target_valid, predictions_valid, n):\n",
    "    \n",
    "    rmse = mean_squared_error(target_valid, predictions_valid) ** 0.5\n",
    "    \n",
    "    print(f'RMSE модели для {n} региона:', rmse)\n",
    "    \n",
    "rmse_0 = rmse(target_valid_0, predictions_valid_0, 1)\n",
    "\n",
    "rmse_1 = rmse(target_valid_1, predictions_valid_1, 2)\n",
    "\n",
    "rmse_2 = rmse(target_valid_2, predictions_valid_2, 3)"
   ]
  },
  {
   "cell_type": "markdown",
   "metadata": {},
   "source": [
    "На данных второго региона модель показывает наилучшее качество предсказания (RMSE значительно ниже, чем на других регионах).\n",
    "\n",
    "Проанализируем, с чем это может быть связано. Проверим зависимость признаков друг от друга."
   ]
  },
  {
   "cell_type": "code",
   "execution_count": 24,
   "metadata": {
    "scrolled": false
   },
   "outputs": [
    {
     "data": {
      "text/html": [
       "<div>\n",
       "<style scoped>\n",
       "    .dataframe tbody tr th:only-of-type {\n",
       "        vertical-align: middle;\n",
       "    }\n",
       "\n",
       "    .dataframe tbody tr th {\n",
       "        vertical-align: top;\n",
       "    }\n",
       "\n",
       "    .dataframe thead th {\n",
       "        text-align: right;\n",
       "    }\n",
       "</style>\n",
       "<table border=\"1\" class=\"dataframe\">\n",
       "  <thead>\n",
       "    <tr style=\"text-align: right;\">\n",
       "      <th></th>\n",
       "      <th>f0</th>\n",
       "      <th>f1</th>\n",
       "      <th>f2</th>\n",
       "      <th>product</th>\n",
       "    </tr>\n",
       "  </thead>\n",
       "  <tbody>\n",
       "    <tr>\n",
       "      <th>f0</th>\n",
       "      <td>1.000000</td>\n",
       "      <td>-0.440723</td>\n",
       "      <td>-0.003153</td>\n",
       "      <td>0.143536</td>\n",
       "    </tr>\n",
       "    <tr>\n",
       "      <th>f1</th>\n",
       "      <td>-0.440723</td>\n",
       "      <td>1.000000</td>\n",
       "      <td>0.001724</td>\n",
       "      <td>-0.192356</td>\n",
       "    </tr>\n",
       "    <tr>\n",
       "      <th>f2</th>\n",
       "      <td>-0.003153</td>\n",
       "      <td>0.001724</td>\n",
       "      <td>1.000000</td>\n",
       "      <td>0.483663</td>\n",
       "    </tr>\n",
       "    <tr>\n",
       "      <th>product</th>\n",
       "      <td>0.143536</td>\n",
       "      <td>-0.192356</td>\n",
       "      <td>0.483663</td>\n",
       "      <td>1.000000</td>\n",
       "    </tr>\n",
       "  </tbody>\n",
       "</table>\n",
       "</div>"
      ],
      "text/plain": [
       "               f0        f1        f2   product\n",
       "f0       1.000000 -0.440723 -0.003153  0.143536\n",
       "f1      -0.440723  1.000000  0.001724 -0.192356\n",
       "f2      -0.003153  0.001724  1.000000  0.483663\n",
       "product  0.143536 -0.192356  0.483663  1.000000"
      ]
     },
     "execution_count": 24,
     "metadata": {},
     "output_type": "execute_result"
    }
   ],
   "source": [
    "# проверяем корреляцию признаков первого региона\n",
    "\n",
    "data_0[['f0', 'f1', 'f2', 'product']].corr()"
   ]
  },
  {
   "cell_type": "markdown",
   "metadata": {},
   "source": [
    "Наибольшую прямую зависимость наблюдаем между параметрами f2 и целевым признаком, а наибольшая обратная зависимость между f1 и f0. Остальные зависимости не значительны."
   ]
  },
  {
   "cell_type": "code",
   "execution_count": 25,
   "metadata": {
    "scrolled": false
   },
   "outputs": [
    {
     "data": {
      "text/html": [
       "<div>\n",
       "<style scoped>\n",
       "    .dataframe tbody tr th:only-of-type {\n",
       "        vertical-align: middle;\n",
       "    }\n",
       "\n",
       "    .dataframe tbody tr th {\n",
       "        vertical-align: top;\n",
       "    }\n",
       "\n",
       "    .dataframe thead th {\n",
       "        text-align: right;\n",
       "    }\n",
       "</style>\n",
       "<table border=\"1\" class=\"dataframe\">\n",
       "  <thead>\n",
       "    <tr style=\"text-align: right;\">\n",
       "      <th></th>\n",
       "      <th>f0</th>\n",
       "      <th>f1</th>\n",
       "      <th>f2</th>\n",
       "      <th>product</th>\n",
       "    </tr>\n",
       "  </thead>\n",
       "  <tbody>\n",
       "    <tr>\n",
       "      <th>f0</th>\n",
       "      <td>1.000000</td>\n",
       "      <td>0.182287</td>\n",
       "      <td>-0.001777</td>\n",
       "      <td>-0.030491</td>\n",
       "    </tr>\n",
       "    <tr>\n",
       "      <th>f1</th>\n",
       "      <td>0.182287</td>\n",
       "      <td>1.000000</td>\n",
       "      <td>-0.002595</td>\n",
       "      <td>-0.010155</td>\n",
       "    </tr>\n",
       "    <tr>\n",
       "      <th>f2</th>\n",
       "      <td>-0.001777</td>\n",
       "      <td>-0.002595</td>\n",
       "      <td>1.000000</td>\n",
       "      <td>0.999397</td>\n",
       "    </tr>\n",
       "    <tr>\n",
       "      <th>product</th>\n",
       "      <td>-0.030491</td>\n",
       "      <td>-0.010155</td>\n",
       "      <td>0.999397</td>\n",
       "      <td>1.000000</td>\n",
       "    </tr>\n",
       "  </tbody>\n",
       "</table>\n",
       "</div>"
      ],
      "text/plain": [
       "               f0        f1        f2   product\n",
       "f0       1.000000  0.182287 -0.001777 -0.030491\n",
       "f1       0.182287  1.000000 -0.002595 -0.010155\n",
       "f2      -0.001777 -0.002595  1.000000  0.999397\n",
       "product -0.030491 -0.010155  0.999397  1.000000"
      ]
     },
     "execution_count": 25,
     "metadata": {},
     "output_type": "execute_result"
    }
   ],
   "source": [
    "# проверяем корреляцию признаков второго региона\n",
    "\n",
    "data_1[['f0', 'f1', 'f2', 'product']].corr()"
   ]
  },
  {
   "cell_type": "markdown",
   "metadata": {},
   "source": [
    "Наибольшую прямую зависимость наблюдаем между признаком f2 и целевым признаком, она составляет почти 1, то есть, это абсолютная зависимость целевого показателя от признака f2. Именно в связи с этим, модель так хорошо предсказывает, то есть она опирается на изменение значений признака f2."
   ]
  },
  {
   "cell_type": "code",
   "execution_count": 26,
   "metadata": {
    "scrolled": true
   },
   "outputs": [
    {
     "data": {
      "text/html": [
       "<div>\n",
       "<style scoped>\n",
       "    .dataframe tbody tr th:only-of-type {\n",
       "        vertical-align: middle;\n",
       "    }\n",
       "\n",
       "    .dataframe tbody tr th {\n",
       "        vertical-align: top;\n",
       "    }\n",
       "\n",
       "    .dataframe thead th {\n",
       "        text-align: right;\n",
       "    }\n",
       "</style>\n",
       "<table border=\"1\" class=\"dataframe\">\n",
       "  <thead>\n",
       "    <tr style=\"text-align: right;\">\n",
       "      <th></th>\n",
       "      <th>f0</th>\n",
       "      <th>f1</th>\n",
       "      <th>f2</th>\n",
       "      <th>product</th>\n",
       "    </tr>\n",
       "  </thead>\n",
       "  <tbody>\n",
       "    <tr>\n",
       "      <th>f0</th>\n",
       "      <td>1.000000</td>\n",
       "      <td>0.000528</td>\n",
       "      <td>-0.000448</td>\n",
       "      <td>-0.001987</td>\n",
       "    </tr>\n",
       "    <tr>\n",
       "      <th>f1</th>\n",
       "      <td>0.000528</td>\n",
       "      <td>1.000000</td>\n",
       "      <td>0.000779</td>\n",
       "      <td>-0.001012</td>\n",
       "    </tr>\n",
       "    <tr>\n",
       "      <th>f2</th>\n",
       "      <td>-0.000448</td>\n",
       "      <td>0.000779</td>\n",
       "      <td>1.000000</td>\n",
       "      <td>0.445871</td>\n",
       "    </tr>\n",
       "    <tr>\n",
       "      <th>product</th>\n",
       "      <td>-0.001987</td>\n",
       "      <td>-0.001012</td>\n",
       "      <td>0.445871</td>\n",
       "      <td>1.000000</td>\n",
       "    </tr>\n",
       "  </tbody>\n",
       "</table>\n",
       "</div>"
      ],
      "text/plain": [
       "               f0        f1        f2   product\n",
       "f0       1.000000  0.000528 -0.000448 -0.001987\n",
       "f1       0.000528  1.000000  0.000779 -0.001012\n",
       "f2      -0.000448  0.000779  1.000000  0.445871\n",
       "product -0.001987 -0.001012  0.445871  1.000000"
      ]
     },
     "execution_count": 26,
     "metadata": {},
     "output_type": "execute_result"
    }
   ],
   "source": [
    "# проверяем корреляцию признаков третьего региона\n",
    "\n",
    "data_2[['f0', 'f1', 'f2', 'product']].corr()"
   ]
  },
  {
   "cell_type": "markdown",
   "metadata": {},
   "source": [
    "Наибольшую прямую зависимость наблюдаем между параметрами f2 и целевым признаком. Остальные зависимости не значительны."
   ]
  },
  {
   "cell_type": "markdown",
   "metadata": {},
   "source": [
    "**Вывод** при обучении и проверке модели была выявлена разница в качестве модели для данных разных регионов. Поэтому, стоит обратиться к коллегам для выяснения причин прямой зависимости признака f2 и целевого признака во втором регионе, и почему в других регионах такой зависимости нет."
   ]
  },
  {
   "cell_type": "markdown",
   "metadata": {},
   "source": [
    "## Подготовка к расчёту прибыли"
   ]
  },
  {
   "cell_type": "markdown",
   "metadata": {},
   "source": [
    "Рассчитаем достаточный объём сырья для безубыточной разработки новой скважины. "
   ]
  },
  {
   "cell_type": "code",
   "execution_count": 27,
   "metadata": {},
   "outputs": [
    {
     "data": {
      "text/plain": [
       "111"
      ]
     },
     "execution_count": 27,
     "metadata": {},
     "output_type": "execute_result"
    }
   ],
   "source": [
    "nonrevenue_product = int(BUDGET / REVENUE_UNIT / COUNT)\n",
    "\n",
    "nonrevenue_product"
   ]
  },
  {
   "cell_type": "markdown",
   "metadata": {},
   "source": [
    "Для безубыточной разработки новой скважины необходимый средний объем сырья составляет 111 тыс баррелей."
   ]
  },
  {
   "cell_type": "code",
   "execution_count": 28,
   "metadata": {},
   "outputs": [
    {
     "name": "stdout",
     "output_type": "stream",
     "text": [
      "В регионе 1 недостаточный средний объем сырья для безубыточной разработки новой скважины\n",
      "В регионе 2 недостаточный средний объем сырья для безубыточной разработки новой скважины\n",
      "В регионе 3 недостаточный средний объем сырья для безубыточной разработки новой скважины\n"
     ]
    }
   ],
   "source": [
    "# Сравним полученный объём сырья со средним запасом в каждом регионе\n",
    "\n",
    "def compare_product(middle_product_predicted, n):\n",
    "    \n",
    "    if middle_product_predicted < nonrevenue_product:\n",
    "        \n",
    "        return(print(f'В регионе {n} недостаточный средний объем сырья для безубыточной разработки новой скважины'))\n",
    "        \n",
    "    elif middle_product_predicted == nonrevenue_product:\n",
    "            \n",
    "        return(print(f'В регионе {n}  средний объем сырья соответствует объему, необходимому для безубыточной разработки новой скважины'))\n",
    "            \n",
    "    else:\n",
    "                \n",
    "        return(print(f'В регионе {n}  средний объем сырья превышает объем, необходимый для безубыточной разработки новой скважины'))\n",
    "        \n",
    "        \n",
    "compare_product_0 = compare_product(middle_product_predicted_0, 1)\n",
    "compare_product_1 = compare_product(middle_product_predicted_1, 2)\n",
    "compare_product_2 = compare_product(middle_product_predicted_2, 3)\n",
    "                "
   ]
  },
  {
   "cell_type": "markdown",
   "metadata": {},
   "source": [
    "**Вывод:** Получается, что в каждом регионе **средний** объем сырья недостаточен для безубыточной разработки новой скважины. Поэтому из 500 скважин будем выбирать 200 скважин с максимальными значениями предсказаний. "
   ]
  },
  {
   "cell_type": "markdown",
   "metadata": {},
   "source": [
    "## Расчёт прибыли и рисков "
   ]
  },
  {
   "cell_type": "code",
   "execution_count": 29,
   "metadata": {
    "scrolled": false
   },
   "outputs": [
    {
     "data": {
      "text/plain": [
       "9317     179\n",
       "10015    175\n",
       "11584    175\n",
       "219      175\n",
       "4296     172\n",
       "        ... \n",
       "12633    148\n",
       "13551    147\n",
       "21629    147\n",
       "6433     147\n",
       "20340    147\n",
       "Length: 200, dtype: int64"
      ]
     },
     "metadata": {},
     "output_type": "display_data"
    }
   ],
   "source": [
    "#  Выберим 200 скважин с максимальными значениями предсказаний.\n",
    "\n",
    "count = 200\n",
    "\n",
    "def predictions_max(predictions_valid):\n",
    "    \n",
    "    predictions_sorted = predictions_valid.sort_values(ascending=False)\n",
    "    \n",
    "    selected = predictions_sorted[:count]\n",
    "    \n",
    "    selected = pd.Series(selected)\n",
    "    \n",
    "    return selected\n",
    "\n",
    "\n",
    "predictions_max_0 =predictions_max(predictions_valid_0)\n",
    "\n",
    "predictions_max_1 =predictions_max(predictions_valid_1)\n",
    "\n",
    "predictions_max_2 =predictions_max(predictions_valid_2)\n",
    "\n",
    "display(predictions_max_0) \n",
    "\n",
    "  "
   ]
  },
  {
   "cell_type": "code",
   "execution_count": 30,
   "metadata": {},
   "outputs": [
    {
     "name": "stdout",
     "output_type": "stream",
     "text": [
      "Сумма целевого значения объема сырья региона 1, соответствующего максимальным предсказаниям, 29612 тыс баррелей\n",
      "Сумма целевого значения объема сырья региона 2, соответствующего максимальным предсказаниям, 27397 тыс баррелей\n",
      "Сумма целевого значения объема сырья региона 3, соответствующего максимальным предсказаниям, 28191 тыс баррелей\n"
     ]
    }
   ],
   "source": [
    "#Просуммируем целевое значение объёма сырья, соответствующее предсказаниям\n",
    "\n",
    "def sum_target(target_valid, predictions_max):\n",
    "    \n",
    "    target_predictions = target_valid[predictions_max.index]\n",
    "    \n",
    "    sum_target_predictions = target_predictions.sum()\n",
    "    \n",
    "    return sum_target_predictions\n",
    "\n",
    "\n",
    "sum_target_predictions_0 = sum_target(target_valid_0, predictions_max_0)\n",
    "\n",
    "sum_target_predictions_1 = sum_target(target_valid_1, predictions_max_1)\n",
    "\n",
    "sum_target_predictions_2 = sum_target(target_valid_2, predictions_max_2)\n",
    "\n",
    "\n",
    "\n",
    "# выведем значения на экран\n",
    "\n",
    "def print_sum_target_predictions(sum_target_predictions, n):\n",
    "\n",
    "    print(f'Сумма целевого значения объема сырья региона {n}, соответствующего максимальным предсказаниям, {sum_target_predictions} тыс баррелей')\n",
    "\n",
    "print_sum_target_predictions_0 = print_sum_target_predictions(sum_target_predictions_0, 1)\n",
    "\n",
    "print_sum_target_predictions_1 = print_sum_target_predictions(sum_target_predictions_1, 2)\n",
    "\n",
    "print_sum_target_predictions_2 = print_sum_target_predictions(sum_target_predictions_2, 3)"
   ]
  },
  {
   "cell_type": "code",
   "execution_count": 31,
   "metadata": {
    "scrolled": true
   },
   "outputs": [
    {
     "name": "stdout",
     "output_type": "stream",
     "text": [
      "Целевая прибыль двухста скважин региона 1 с наилучшими предсказаниями, 3325400000 руб\n",
      "Целевая прибыль двухста скважин региона 2 с наилучшими предсказаниями, 2328650000 руб\n",
      "Целевая прибыль двухста скважин региона 3 с наилучшими предсказаниями, 2685950000 руб\n",
      "3325400000\n",
      "2328650000\n"
     ]
    },
    {
     "data": {
      "text/plain": [
       "2685950000"
      ]
     },
     "execution_count": 31,
     "metadata": {},
     "output_type": "execute_result"
    }
   ],
   "source": [
    "#Рассчитаем прибыль для полученного объёма сырья\n",
    "\n",
    "def profit_selected(sum_target_predictions, n):\n",
    "    \n",
    "    profit_selected = REVENUE_UNIT * sum_target_predictions - BUDGET\n",
    "    \n",
    "    print(f'Целевая прибыль двухста скважин региона {n} с наилучшими предсказаниями, {profit_selected} руб') \n",
    "    \n",
    "    return profit_selected\n",
    "\n",
    "profit_selected_0 = profit_selected(sum_target_predictions_0, 1)\n",
    "\n",
    "profit_selected_1 = profit_selected(sum_target_predictions_1, 2)\n",
    "\n",
    "profit_selected_2 = profit_selected(sum_target_predictions_2, 3)\n",
    "\n",
    "# выведем на экран\n",
    "\n",
    "print(profit_selected_0)\n",
    "\n",
    "print(profit_selected_1)\n",
    "\n",
    "profit_selected_2"
   ]
  },
  {
   "cell_type": "markdown",
   "metadata": {},
   "source": [
    "**Вывод:** Целевая прибыль двухста скважин региона 1 с наилучшими предсказаниями составляет более 3,3 млр руб (3 325 400 000 руб)\n",
    "\n",
    "Целевая прибыль двухста скважин региона 2 с наилучшими предсказаниями составляет более 2,3 млрд руб (2 328 650 000 руб)\n",
    "\n",
    "Целевая прибыль двухста скважин региона 3 с наилучшими предсказаниями составляет более 2,6 млрд руб ( 2 685 950 000 руб)"
   ]
  },
  {
   "cell_type": "markdown",
   "metadata": {},
   "source": [
    "## **Расчет рисков и прибыли для каждого региона**"
   ]
  },
  {
   "cell_type": "code",
   "execution_count": 32,
   "metadata": {},
   "outputs": [],
   "source": [
    "# для удобства запишем функцию для расчета прибыли в виде одной функции:\n",
    "\n",
    "def profit_selected(predictions_valid, target_valid, count):\n",
    "    \n",
    "    predictions_sorted = predictions_valid.sort_values(ascending=False)\n",
    "    \n",
    "    predictions_max = predictions_sorted[:count] \n",
    "    \n",
    "    target_predictions = target_valid[predictions_max.index]\n",
    "    \n",
    "    sum_target_predictions = target_predictions.sum()\n",
    "    \n",
    "    profit_selected = REVENUE_UNIT * sum_target_predictions - BUDGET\n",
    "    \n",
    "    return profit_selected\n",
    "    "
   ]
  },
  {
   "cell_type": "code",
   "execution_count": 33,
   "metadata": {},
   "outputs": [
    {
     "data": {
      "text/plain": [
       "0      910700000\n",
       "1      450350000\n",
       "2      514700000\n",
       "3      547100000\n",
       "4      252800000\n",
       "         ...    \n",
       "995    480500000\n",
       "996    891350000\n",
       "997    984500000\n",
       "998    486350000\n",
       "999    445850000\n",
       "Length: 1000, dtype: int64"
      ]
     },
     "execution_count": 33,
     "metadata": {},
     "output_type": "execute_result"
    }
   ],
   "source": [
    "#Применим технику Bootstrap с 1000 выборками, чтобы найти распределение прибыли.\n",
    "\n",
    "state = RandomState(12345)\n",
    "\n",
    "def bootstrap(target_valid, predictions_valid):\n",
    "    \n",
    "    values = []\n",
    "\n",
    "    for i in range(1000):\n",
    "    \n",
    "        product_subsample = target_valid.sample(n = 500, replace=True, random_state=state)\n",
    "        \n",
    "        prediction_valid_subsample = predictions_valid[product_subsample.index]\n",
    "        \n",
    "        values.append(profit_selected(prediction_valid_subsample, product_subsample, 200))\n",
    "        \n",
    "    return values\n",
    "\n",
    "bootstrap_0 = bootstrap(target_valid_0, predictions_valid_0)\n",
    "\n",
    "bootstrap_1 = bootstrap(target_valid_1, predictions_valid_1)\n",
    "\n",
    "bootstrap_2 = bootstrap(target_valid_2, predictions_valid_2)\n",
    "\n",
    "# перезапишем в формате Series\n",
    "        \n",
    "bootstrap_0 = pd.Series(bootstrap_0)\n",
    "\n",
    "bootstrap_1 = pd.Series(bootstrap_1)\n",
    "\n",
    "bootstrap_2 = pd.Series(bootstrap_2)\n",
    "\n",
    "# проверим, как работает функция\n",
    "\n",
    "bootstrap_0"
   ]
  },
  {
   "cell_type": "markdown",
   "metadata": {},
   "source": [
    "Посчитаем среднюю прибыль, 95%-й доверительный интервал и риски для каждого региона."
   ]
  },
  {
   "cell_type": "code",
   "execution_count": 34,
   "metadata": {},
   "outputs": [
    {
     "name": "stdout",
     "output_type": "stream",
     "text": [
      "Средняя прибыль региона 1, рассчитанная техникой бустреп, составляет 554403050.0 рублей\n",
      "Средняя прибыль региона 2, рассчитанная техникой бустреп, составляет 593886500.0 рублей\n",
      "Средняя прибыль региона 3, рассчитанная техникой бустреп, составляет 552954950.0 рублей\n"
     ]
    }
   ],
   "source": [
    "# средняя прибыль\n",
    "\n",
    "def revenue_mean(bootstrap):\n",
    "    \n",
    "    revenue_mean = bootstrap.mean()\n",
    "    \n",
    "    return revenue_mean\n",
    "\n",
    "revenue_mean_0 = revenue_mean(bootstrap_0) \n",
    "\n",
    "revenue_mean_1 = revenue_mean(bootstrap_1)\n",
    "\n",
    "revenue_mean_2 = revenue_mean(bootstrap_2)\n",
    "\n",
    "\n",
    "# выведем на экран среднюю прибыль\n",
    "\n",
    "def print_revenue_mean(revenue_mean, n):\n",
    "    \n",
    "    print(f'Средняя прибыль региона {n}, рассчитанная техникой бустреп, составляет {revenue_mean} рублей')\n",
    "\n",
    "print_revenue_mean_0 = print_revenue_mean(revenue_mean_0, 1) \n",
    "\n",
    "print_revenue_mean_1 = print_revenue_mean(revenue_mean_1, 2)\n",
    "\n",
    "print_revenue_mean_2 = print_revenue_mean(revenue_mean_2, 3)"
   ]
  },
  {
   "cell_type": "code",
   "execution_count": 35,
   "metadata": {},
   "outputs": [
    {
     "name": "stdout",
     "output_type": "stream",
     "text": [
      "Доверительный интервал средней прибыли для региона 1 находится в диапазоне от -20856249 до 1163228750 рублей\n",
      "Доверительный интервал средней прибыли для региона 2 находится в диапазоне от 143360000 до 1113211250 рублей\n",
      "Доверительный интервал средней прибыли для региона 3 находится в диапазоне от -36145000 до 1220761250 рублей\n",
      "(-20856249, 1163228750)\n",
      "(143360000, 1113211250)\n",
      "(-36145000, 1220761250)\n"
     ]
    }
   ],
   "source": [
    "# расчитаем доверительный интервал средней прибыли для каждого региона:\n",
    "\n",
    "def confidence_interval(bootstrap, n):\n",
    "    \n",
    "    lower = int(bootstrap.quantile(0.025))\n",
    "    \n",
    "    upper = int(bootstrap.quantile(0.975))\n",
    "    \n",
    "    print(f'Доверительный интервал средней прибыли для региона {n} находится в диапазоне от {lower} до {upper} рублей')\n",
    "    \n",
    "    return lower, upper\n",
    "\n",
    "    \n",
    "confidence_interval_0 = confidence_interval(bootstrap_0, 1)   \n",
    "\n",
    "confidence_interval_1 = confidence_interval(bootstrap_1, 2)\n",
    "\n",
    "confidence_interval_2 = confidence_interval(bootstrap_2, 3)\n",
    "\n",
    "print(confidence_interval_0)\n",
    "\n",
    "print(confidence_interval_1)\n",
    "\n",
    "print(confidence_interval_2)\n"
   ]
  },
  {
   "cell_type": "code",
   "execution_count": 37,
   "metadata": {},
   "outputs": [
    {
     "name": "stdout",
     "output_type": "stream",
     "text": [
      "Риск убытков = 3.40% \n",
      "Риск убытков = 0.50% \n",
      "Риск убытков = 3.50% \n",
      "None\n",
      "None\n",
      "None\n"
     ]
    }
   ],
   "source": [
    "# расчитаем риск убытков для каждого региона\n",
    "\n",
    "def peril_loss(bootstrap, n):\n",
    "\n",
    "    print('Риск убытков = {:.2%} '.format((bootstrap<0).mean()))\n",
    "    \n",
    "\n",
    "peril_loss_0 = peril_loss(bootstrap_0, 1)\n",
    "\n",
    "peril_loss_1 = peril_loss(bootstrap_1, 2)\n",
    "\n",
    "peril_loss_2 = peril_loss(bootstrap_2, 3)\n",
    "\n",
    "\n",
    "print(peril_loss_0)\n",
    "\n",
    "print(peril_loss_1)\n",
    "\n",
    "print(peril_loss_2)"
   ]
  },
  {
   "cell_type": "markdown",
   "metadata": {},
   "source": [
    "У второго региона самая низкая вероятность убытков 0,5% и наибольшая средняя прибыль (более 593 млн руб). Именно этот регион предлагаем для разработки."
   ]
  },
  {
   "cell_type": "markdown",
   "metadata": {},
   "source": [
    "**Общий вывод:** \n",
    "Для выбора региона, где добыча принесёт наибольшую прибыль, была обучена модель для предсказания объема сырья.\n",
    "\n",
    "На данных второго региона модель показала наилучшее качество предсказания (RMSE значительно ниже, чем на других регионах). Это произошло в связи с тем, что между признаком f2 и целевым признаком наблюдается абсолютная прямая зависимость. В связи с этим модель хорошо предсказывает, она опирается на изменение значений признака f2. \n",
    "\n",
    "Средний запас предсказанного сырья составляет:\n",
    "\n",
    "регион 1: 91 тыс баррелей\n",
    "\n",
    "регион 2: 67 тыс баррелей\n",
    "\n",
    "регион 3: 93 тыс баррелей\n",
    "\n",
    "\n",
    "Эти показатели оказались недостаточными для безубыточной разработки региона, поэтому, в дальнейшем были выбраны 200 скважин с максимальными значениями предсказаний. И на основе этих данных расчитана целевая прибыль:\n",
    "\n",
    "1 регион -  более 3,3 млр руб (3 325 400 000 руб)\n",
    "\n",
    "2 регион - более 2,3 млрд руб (2 328 650 000 руб)\n",
    "\n",
    "3 регион - более 2,6 млрд руб ( 2 685 950 000 руб)\n",
    "\n",
    "После этого техникой бустреп расчитана средняя прибыль, 95%-й доверительный интервал и риски для каждого региона.\n",
    "\n",
    "**По результатам сделаны выводы, что у второго региона самая низкая вероятность убытков - 0,5% и наибольшая средняя прибыль (более 593 млн руб). Именно этот регион предлагаем для разработки**.\n",
    "\n",
    "Хотелось бы добавить, что несмотря на то, что средний запас предсказанного сырья, а также целевая прибыль у второго региона имеют самые низкие показатели по сравнению с двумя другими регионами, выводы получились, наоборот, в пользу второго региона. Можно предположить, что это связано с тем, что в первом и третьем регионе помимо очень прибыльных скважин, есть и много убыточных скважин, попасть в которые вероятность, достаточно, высокая, в отличие от второго региона, где скважины распределены более равномерно - они хоть и имеют меньшие запасы предсказанного сырья, но зато имеют очень маленький процент убыточных.  \n",
    "\n",
    "Также просим  коллег уточнить следующие моменты:\n",
    "\n",
    "* обнаружены неявные дубликаты с повторяющимися id  по всех трех датафреймах.\n",
    "\n",
    "* с чем связаны выбросы  показателей признаков и можно ли откинуть аномальные значения признаков (у значений признака f2 первого региона, у f1 второго региона, у всех признаков третьего региона много вылетов(аномальных значений).  \n",
    "\n",
    "* каковы причины прямой сильной корреляции признака f2 и целевого признака во втором регионе, и почему в других регионах такой зависимости нет."
   ]
  },
  {
   "cell_type": "code",
   "execution_count": null,
   "metadata": {},
   "outputs": [],
   "source": []
  }
 ],
 "metadata": {
  "ExecuteTimeLog": [
   {
    "duration": 524,
    "start_time": "2023-04-01T13:34:20.738Z"
   },
   {
    "duration": 683,
    "start_time": "2023-04-01T13:34:25.691Z"
   },
   {
    "duration": 751,
    "start_time": "2023-04-01T13:35:19.604Z"
   },
   {
    "duration": 56,
    "start_time": "2023-04-01T13:36:22.216Z"
   },
   {
    "duration": 36,
    "start_time": "2023-04-01T13:41:28.209Z"
   },
   {
    "duration": 51,
    "start_time": "2023-04-01T14:05:48.179Z"
   },
   {
    "duration": 57,
    "start_time": "2023-04-01T14:05:59.418Z"
   },
   {
    "duration": 158,
    "start_time": "2023-04-01T14:06:39.683Z"
   },
   {
    "duration": 146,
    "start_time": "2023-04-01T14:07:00.383Z"
   },
   {
    "duration": 48,
    "start_time": "2023-04-01T18:04:27.725Z"
   },
   {
    "duration": 366,
    "start_time": "2023-04-01T18:04:35.801Z"
   },
   {
    "duration": 1149,
    "start_time": "2023-04-01T18:04:37.811Z"
   },
   {
    "duration": 33,
    "start_time": "2023-04-01T18:04:39.344Z"
   },
   {
    "duration": 31,
    "start_time": "2023-04-01T18:04:42.054Z"
   },
   {
    "duration": 119,
    "start_time": "2023-04-01T18:04:44.744Z"
   },
   {
    "duration": 43,
    "start_time": "2023-04-01T18:04:47.995Z"
   },
   {
    "duration": 12,
    "start_time": "2023-04-01T18:06:09.162Z"
   },
   {
    "duration": 13,
    "start_time": "2023-04-01T18:07:08.391Z"
   },
   {
    "duration": 23,
    "start_time": "2023-04-01T18:07:56.304Z"
   },
   {
    "duration": 11,
    "start_time": "2023-04-01T18:23:52.370Z"
   },
   {
    "duration": 684,
    "start_time": "2023-04-01T18:24:28.495Z"
   },
   {
    "duration": 376,
    "start_time": "2023-04-01T18:24:29.181Z"
   },
   {
    "duration": 31,
    "start_time": "2023-04-01T18:24:29.570Z"
   },
   {
    "duration": 30,
    "start_time": "2023-04-01T18:24:29.602Z"
   },
   {
    "duration": 132,
    "start_time": "2023-04-01T18:24:29.634Z"
   },
   {
    "duration": 23,
    "start_time": "2023-04-01T18:24:29.767Z"
   },
   {
    "duration": 3,
    "start_time": "2023-04-01T18:24:40.475Z"
   },
   {
    "duration": 364,
    "start_time": "2023-04-01T18:24:41.475Z"
   },
   {
    "duration": 45,
    "start_time": "2023-04-01T18:24:42.233Z"
   },
   {
    "duration": 52,
    "start_time": "2023-04-01T18:24:43.922Z"
   },
   {
    "duration": 122,
    "start_time": "2023-04-01T18:24:45.471Z"
   },
   {
    "duration": 20,
    "start_time": "2023-04-01T18:24:48.875Z"
   },
   {
    "duration": 43,
    "start_time": "2023-04-01T18:24:51.634Z"
   },
   {
    "duration": 3,
    "start_time": "2023-04-01T18:27:18.774Z"
   },
   {
    "duration": 382,
    "start_time": "2023-04-01T18:27:20.315Z"
   },
   {
    "duration": 26,
    "start_time": "2023-04-01T18:27:26.107Z"
   },
   {
    "duration": 32,
    "start_time": "2023-04-01T18:27:40.970Z"
   },
   {
    "duration": 121,
    "start_time": "2023-04-01T18:27:48.662Z"
   },
   {
    "duration": 19,
    "start_time": "2023-04-01T18:27:59.307Z"
   },
   {
    "duration": 31,
    "start_time": "2023-04-01T18:28:11.159Z"
   },
   {
    "duration": 21,
    "start_time": "2023-04-01T18:31:27.318Z"
   },
   {
    "duration": 1085,
    "start_time": "2023-04-02T10:28:04.501Z"
   },
   {
    "duration": 910,
    "start_time": "2023-04-02T10:28:05.742Z"
   },
   {
    "duration": 42,
    "start_time": "2023-04-02T10:28:07.152Z"
   },
   {
    "duration": 35,
    "start_time": "2023-04-02T10:28:10.596Z"
   },
   {
    "duration": 150,
    "start_time": "2023-04-02T10:28:12.760Z"
   },
   {
    "duration": 23,
    "start_time": "2023-04-02T10:28:18.560Z"
   },
   {
    "duration": 30,
    "start_time": "2023-04-02T10:28:22.129Z"
   },
   {
    "duration": 147,
    "start_time": "2023-04-02T10:34:42.647Z"
   },
   {
    "duration": 68,
    "start_time": "2023-04-02T10:36:51.069Z"
   },
   {
    "duration": 50,
    "start_time": "2023-04-02T10:36:54.241Z"
   },
   {
    "duration": 37,
    "start_time": "2023-04-02T10:37:59.669Z"
   },
   {
    "duration": 18,
    "start_time": "2023-04-02T10:42:53.444Z"
   },
   {
    "duration": 40,
    "start_time": "2023-04-02T10:42:59.294Z"
   },
   {
    "duration": 168,
    "start_time": "2023-04-02T10:43:02.495Z"
   },
   {
    "duration": 193,
    "start_time": "2023-04-02T10:43:08.073Z"
   },
   {
    "duration": 829,
    "start_time": "2023-04-02T10:45:06.342Z"
   },
   {
    "duration": 144,
    "start_time": "2023-04-02T10:46:20.174Z"
   },
   {
    "duration": 143,
    "start_time": "2023-04-02T10:46:52.080Z"
   },
   {
    "duration": 151,
    "start_time": "2023-04-02T10:47:07.302Z"
   },
   {
    "duration": 819,
    "start_time": "2023-04-02T10:47:56.293Z"
   },
   {
    "duration": 765,
    "start_time": "2023-04-02T10:48:11.433Z"
   },
   {
    "duration": 19,
    "start_time": "2023-04-02T10:48:18.203Z"
   },
   {
    "duration": 821,
    "start_time": "2023-04-02T10:48:22.193Z"
   },
   {
    "duration": 399,
    "start_time": "2023-04-02T10:48:55.718Z"
   },
   {
    "duration": 418,
    "start_time": "2023-04-02T10:50:00.425Z"
   },
   {
    "duration": 466,
    "start_time": "2023-04-02T10:50:44.004Z"
   },
   {
    "duration": 717,
    "start_time": "2023-04-02T10:51:05.700Z"
   },
   {
    "duration": 492,
    "start_time": "2023-04-02T10:51:32.046Z"
   },
   {
    "duration": 3,
    "start_time": "2023-04-02T10:52:18.856Z"
   },
   {
    "duration": 689,
    "start_time": "2023-04-02T10:53:34.905Z"
   },
   {
    "duration": 373,
    "start_time": "2023-04-02T10:53:57.915Z"
   },
   {
    "duration": 32,
    "start_time": "2023-04-02T10:54:28.680Z"
   },
   {
    "duration": 14,
    "start_time": "2023-04-02T10:56:33.127Z"
   },
   {
    "duration": 148,
    "start_time": "2023-04-02T10:59:16.047Z"
   },
   {
    "duration": 14,
    "start_time": "2023-04-02T11:10:09.046Z"
   },
   {
    "duration": 128,
    "start_time": "2023-04-02T11:10:22.817Z"
   },
   {
    "duration": 559,
    "start_time": "2023-04-02T11:26:35.536Z"
   },
   {
    "duration": 448,
    "start_time": "2023-04-02T11:27:35.259Z"
   },
   {
    "duration": 520,
    "start_time": "2023-04-02T11:28:26.021Z"
   },
   {
    "duration": 401,
    "start_time": "2023-04-02T11:29:04.896Z"
   },
   {
    "duration": 496,
    "start_time": "2023-04-02T11:30:00.486Z"
   },
   {
    "duration": 533,
    "start_time": "2023-04-02T11:30:15.086Z"
   },
   {
    "duration": 393,
    "start_time": "2023-04-02T12:10:10.290Z"
   },
   {
    "duration": 45,
    "start_time": "2023-04-02T12:11:28.972Z"
   },
   {
    "duration": 305,
    "start_time": "2023-04-02T12:12:02.517Z"
   },
   {
    "duration": 475,
    "start_time": "2023-04-02T12:14:32.762Z"
   },
   {
    "duration": 395,
    "start_time": "2023-04-02T12:16:22.325Z"
   },
   {
    "duration": 468,
    "start_time": "2023-04-02T12:18:03.420Z"
   },
   {
    "duration": 388,
    "start_time": "2023-04-02T12:19:04.743Z"
   },
   {
    "duration": 64,
    "start_time": "2023-04-02T12:22:48.917Z"
   },
   {
    "duration": 273,
    "start_time": "2023-04-02T12:22:57.407Z"
   },
   {
    "duration": 5,
    "start_time": "2023-04-02T12:34:00.808Z"
   },
   {
    "duration": 9,
    "start_time": "2023-04-02T12:34:15.859Z"
   },
   {
    "duration": 5,
    "start_time": "2023-04-02T12:34:56.323Z"
   },
   {
    "duration": 5,
    "start_time": "2023-04-02T12:35:18.422Z"
   },
   {
    "duration": 10,
    "start_time": "2023-04-02T12:39:33.117Z"
   },
   {
    "duration": 4,
    "start_time": "2023-04-02T12:40:36.892Z"
   },
   {
    "duration": 4,
    "start_time": "2023-04-02T12:45:11.228Z"
   },
   {
    "duration": 7,
    "start_time": "2023-04-02T12:45:34.627Z"
   },
   {
    "duration": 8,
    "start_time": "2023-04-02T12:46:06.993Z"
   },
   {
    "duration": 12,
    "start_time": "2023-04-02T13:01:37.877Z"
   },
   {
    "duration": 49,
    "start_time": "2023-04-02T13:01:41.756Z"
   },
   {
    "duration": 4,
    "start_time": "2023-04-02T13:02:00.875Z"
   },
   {
    "duration": 14,
    "start_time": "2023-04-02T13:02:03.362Z"
   },
   {
    "duration": 9,
    "start_time": "2023-04-02T13:03:12.239Z"
   },
   {
    "duration": 3,
    "start_time": "2023-04-02T13:03:14.329Z"
   },
   {
    "duration": 4,
    "start_time": "2023-04-02T13:03:15.228Z"
   },
   {
    "duration": 4,
    "start_time": "2023-04-02T13:04:57.221Z"
   },
   {
    "duration": 3,
    "start_time": "2023-04-02T13:08:03.917Z"
   },
   {
    "duration": 4,
    "start_time": "2023-04-02T13:08:04.904Z"
   },
   {
    "duration": 4,
    "start_time": "2023-04-02T13:11:42.450Z"
   },
   {
    "duration": 63,
    "start_time": "2023-04-02T13:11:43.780Z"
   },
   {
    "duration": 60,
    "start_time": "2023-04-02T13:34:12.489Z"
   },
   {
    "duration": 48,
    "start_time": "2023-04-02T13:34:23.180Z"
   },
   {
    "duration": 67,
    "start_time": "2023-04-02T13:35:24.920Z"
   },
   {
    "duration": 89,
    "start_time": "2023-04-02T13:37:21.749Z"
   },
   {
    "duration": 6,
    "start_time": "2023-04-02T13:37:50.479Z"
   },
   {
    "duration": 20,
    "start_time": "2023-04-02T13:38:35.081Z"
   },
   {
    "duration": 4,
    "start_time": "2023-04-02T13:39:32.326Z"
   },
   {
    "duration": 9,
    "start_time": "2023-04-02T13:39:46.518Z"
   },
   {
    "duration": 9,
    "start_time": "2023-04-02T13:40:01.929Z"
   },
   {
    "duration": 11,
    "start_time": "2023-04-02T13:40:10.244Z"
   },
   {
    "duration": 4,
    "start_time": "2023-04-02T13:40:47.487Z"
   },
   {
    "duration": 8,
    "start_time": "2023-04-02T13:41:29.581Z"
   },
   {
    "duration": 7,
    "start_time": "2023-04-02T13:41:31.708Z"
   },
   {
    "duration": 3,
    "start_time": "2023-04-02T13:41:33.916Z"
   },
   {
    "duration": 4,
    "start_time": "2023-04-02T13:41:36.809Z"
   },
   {
    "duration": 15,
    "start_time": "2023-04-02T13:41:53.709Z"
   },
   {
    "duration": 4,
    "start_time": "2023-04-02T13:42:11.093Z"
   },
   {
    "duration": 14,
    "start_time": "2023-04-02T13:42:24.895Z"
   },
   {
    "duration": 14,
    "start_time": "2023-04-02T13:43:33.115Z"
   },
   {
    "duration": 27,
    "start_time": "2023-04-02T13:43:41.149Z"
   },
   {
    "duration": 39,
    "start_time": "2023-04-02T13:43:50.650Z"
   },
   {
    "duration": 14,
    "start_time": "2023-04-02T13:44:11.430Z"
   },
   {
    "duration": 15,
    "start_time": "2023-04-02T13:44:15.984Z"
   },
   {
    "duration": 12,
    "start_time": "2023-04-02T13:45:29.405Z"
   },
   {
    "duration": 8,
    "start_time": "2023-04-02T13:47:11.543Z"
   },
   {
    "duration": 65,
    "start_time": "2023-04-02T13:47:49.942Z"
   },
   {
    "duration": 7,
    "start_time": "2023-04-02T13:48:49.207Z"
   },
   {
    "duration": 10,
    "start_time": "2023-04-02T13:50:50.611Z"
   },
   {
    "duration": 10,
    "start_time": "2023-04-02T13:51:12.231Z"
   },
   {
    "duration": 7,
    "start_time": "2023-04-02T13:51:55.893Z"
   },
   {
    "duration": 7,
    "start_time": "2023-04-02T13:52:01.851Z"
   },
   {
    "duration": 4,
    "start_time": "2023-04-02T13:52:03.393Z"
   },
   {
    "duration": 10,
    "start_time": "2023-04-02T13:52:04.762Z"
   },
   {
    "duration": 28,
    "start_time": "2023-04-02T13:52:08.469Z"
   },
   {
    "duration": 4,
    "start_time": "2023-04-02T13:54:41.330Z"
   },
   {
    "duration": 7,
    "start_time": "2023-04-02T13:54:50.206Z"
   },
   {
    "duration": 8,
    "start_time": "2023-04-02T13:55:33.840Z"
   },
   {
    "duration": 181,
    "start_time": "2023-04-02T13:56:11.391Z"
   },
   {
    "duration": 10,
    "start_time": "2023-04-02T13:56:12.382Z"
   },
   {
    "duration": 10,
    "start_time": "2023-04-02T13:56:15.405Z"
   },
   {
    "duration": 8,
    "start_time": "2023-04-02T13:56:17.033Z"
   },
   {
    "duration": 3,
    "start_time": "2023-04-02T13:56:18.993Z"
   },
   {
    "duration": 4,
    "start_time": "2023-04-02T13:56:20.624Z"
   },
   {
    "duration": 18,
    "start_time": "2023-04-02T13:56:22.479Z"
   },
   {
    "duration": 12,
    "start_time": "2023-04-02T13:56:47.203Z"
   },
   {
    "duration": 27,
    "start_time": "2023-04-02T13:57:25.553Z"
   },
   {
    "duration": 8,
    "start_time": "2023-04-02T13:57:54.880Z"
   },
   {
    "duration": 8,
    "start_time": "2023-04-02T13:59:15.343Z"
   },
   {
    "duration": 7,
    "start_time": "2023-04-02T13:59:25.811Z"
   },
   {
    "duration": 8,
    "start_time": "2023-04-02T13:59:52.387Z"
   },
   {
    "duration": 5,
    "start_time": "2023-04-02T14:02:38.089Z"
   },
   {
    "duration": 520,
    "start_time": "2023-04-02T14:02:39.152Z"
   },
   {
    "duration": 40,
    "start_time": "2023-04-02T14:02:39.842Z"
   },
   {
    "duration": 56,
    "start_time": "2023-04-02T14:02:41.542Z"
   },
   {
    "duration": 149,
    "start_time": "2023-04-02T14:02:43.283Z"
   },
   {
    "duration": 15,
    "start_time": "2023-04-02T14:02:45.703Z"
   },
   {
    "duration": 149,
    "start_time": "2023-04-02T14:03:58.582Z"
   },
   {
    "duration": 15,
    "start_time": "2023-04-02T14:04:06.503Z"
   },
   {
    "duration": 32,
    "start_time": "2023-04-02T14:05:03.059Z"
   },
   {
    "duration": 14,
    "start_time": "2023-04-02T14:05:38.485Z"
   },
   {
    "duration": 117,
    "start_time": "2023-04-02T14:05:45.208Z"
   },
   {
    "duration": 527,
    "start_time": "2023-04-02T14:05:47.086Z"
   },
   {
    "duration": 364,
    "start_time": "2023-04-02T14:05:48.544Z"
   },
   {
    "duration": 454,
    "start_time": "2023-04-02T14:05:50.852Z"
   },
   {
    "duration": 374,
    "start_time": "2023-04-02T14:05:53.242Z"
   },
   {
    "duration": 630,
    "start_time": "2023-04-02T14:05:54.961Z"
   },
   {
    "duration": 377,
    "start_time": "2023-04-02T14:05:56.837Z"
   },
   {
    "duration": 44,
    "start_time": "2023-04-02T14:05:59.642Z"
   },
   {
    "duration": 187,
    "start_time": "2023-04-02T14:06:03.185Z"
   },
   {
    "duration": 8,
    "start_time": "2023-04-02T14:06:05.351Z"
   },
   {
    "duration": 39,
    "start_time": "2023-04-02T14:07:46.430Z"
   },
   {
    "duration": 198,
    "start_time": "2023-04-02T14:08:22.487Z"
   },
   {
    "duration": 13,
    "start_time": "2023-04-02T14:08:25.860Z"
   },
   {
    "duration": 14,
    "start_time": "2023-04-02T14:08:28.858Z"
   },
   {
    "duration": 8,
    "start_time": "2023-04-02T14:09:00.908Z"
   },
   {
    "duration": 23,
    "start_time": "2023-04-02T14:09:51.465Z"
   },
   {
    "duration": 8,
    "start_time": "2023-04-02T14:11:28.345Z"
   },
   {
    "duration": 46,
    "start_time": "2023-04-02T14:13:38.604Z"
   },
   {
    "duration": 9,
    "start_time": "2023-04-02T14:13:47.250Z"
   },
   {
    "duration": 7,
    "start_time": "2023-04-02T14:13:50.229Z"
   },
   {
    "duration": 3,
    "start_time": "2023-04-02T14:13:51.839Z"
   },
   {
    "duration": 4,
    "start_time": "2023-04-02T14:13:53.719Z"
   },
   {
    "duration": 29,
    "start_time": "2023-04-02T14:13:55.460Z"
   },
   {
    "duration": 15,
    "start_time": "2023-04-02T14:14:13.430Z"
   },
   {
    "duration": 53,
    "start_time": "2023-04-02T14:17:58.597Z"
   },
   {
    "duration": 12,
    "start_time": "2023-04-02T14:18:39.367Z"
   },
   {
    "duration": 1389,
    "start_time": "2023-04-02T18:08:35.277Z"
   },
   {
    "duration": 1157,
    "start_time": "2023-04-02T18:08:38.286Z"
   },
   {
    "duration": 30,
    "start_time": "2023-04-02T18:08:39.953Z"
   },
   {
    "duration": 33,
    "start_time": "2023-04-02T18:09:17.682Z"
   },
   {
    "duration": 124,
    "start_time": "2023-04-02T18:09:19.917Z"
   },
   {
    "duration": 14,
    "start_time": "2023-04-02T18:09:22.795Z"
   },
   {
    "duration": 97,
    "start_time": "2023-04-02T18:09:28.903Z"
   },
   {
    "duration": 373,
    "start_time": "2023-04-02T18:09:47.751Z"
   },
   {
    "duration": 293,
    "start_time": "2023-04-02T18:09:50.695Z"
   },
   {
    "duration": 371,
    "start_time": "2023-04-02T18:09:52.216Z"
   },
   {
    "duration": 307,
    "start_time": "2023-04-02T18:09:54.081Z"
   },
   {
    "duration": 417,
    "start_time": "2023-04-02T18:09:56.003Z"
   },
   {
    "duration": 385,
    "start_time": "2023-04-02T18:09:57.746Z"
   },
   {
    "duration": 35,
    "start_time": "2023-04-02T18:10:00.996Z"
   },
   {
    "duration": 142,
    "start_time": "2023-04-02T18:10:32.707Z"
   },
   {
    "duration": 6,
    "start_time": "2023-04-02T18:10:39.511Z"
   },
   {
    "duration": 43,
    "start_time": "2023-04-02T18:11:30.137Z"
   },
   {
    "duration": 117,
    "start_time": "2023-04-02T18:11:55.016Z"
   },
   {
    "duration": 6,
    "start_time": "2023-04-02T18:12:07.786Z"
   },
   {
    "duration": 7,
    "start_time": "2023-04-02T18:12:32.879Z"
   },
   {
    "duration": 6,
    "start_time": "2023-04-02T18:13:11.787Z"
   },
   {
    "duration": 10,
    "start_time": "2023-04-02T18:15:41.673Z"
   },
   {
    "duration": 9,
    "start_time": "2023-04-02T18:18:21.199Z"
   },
   {
    "duration": 8,
    "start_time": "2023-04-02T18:19:01.226Z"
   },
   {
    "duration": 5,
    "start_time": "2023-04-02T18:19:43.010Z"
   },
   {
    "duration": 7,
    "start_time": "2023-04-02T18:19:51.116Z"
   },
   {
    "duration": 3,
    "start_time": "2023-04-02T18:19:59.714Z"
   },
   {
    "duration": 4,
    "start_time": "2023-04-02T18:20:04.127Z"
   },
   {
    "duration": 14,
    "start_time": "2023-04-02T18:20:06.289Z"
   },
   {
    "duration": 4,
    "start_time": "2023-04-02T18:20:55.875Z"
   },
   {
    "duration": 4,
    "start_time": "2023-04-02T18:21:43.806Z"
   },
   {
    "duration": 10,
    "start_time": "2023-04-02T18:26:36.277Z"
   },
   {
    "duration": 8,
    "start_time": "2023-04-02T18:26:51.091Z"
   },
   {
    "duration": 4,
    "start_time": "2023-04-02T18:32:31.368Z"
   },
   {
    "duration": 9,
    "start_time": "2023-04-02T18:40:38.269Z"
   },
   {
    "duration": 15,
    "start_time": "2023-04-02T18:41:17.456Z"
   },
   {
    "duration": 13,
    "start_time": "2023-04-02T18:42:16.359Z"
   },
   {
    "duration": 2,
    "start_time": "2023-04-02T18:45:17.942Z"
   },
   {
    "duration": 14,
    "start_time": "2023-04-02T18:45:27.798Z"
   },
   {
    "duration": 113,
    "start_time": "2023-04-02T18:46:36.128Z"
   },
   {
    "duration": 6,
    "start_time": "2023-04-02T18:46:37.371Z"
   },
   {
    "duration": 6,
    "start_time": "2023-04-02T18:46:39.808Z"
   },
   {
    "duration": 5,
    "start_time": "2023-04-02T18:46:41.419Z"
   },
   {
    "duration": 2,
    "start_time": "2023-04-02T18:46:43.474Z"
   },
   {
    "duration": 3,
    "start_time": "2023-04-02T18:46:45.828Z"
   },
   {
    "duration": 4,
    "start_time": "2023-04-02T18:46:47.726Z"
   },
   {
    "duration": 13,
    "start_time": "2023-04-02T18:46:50.986Z"
   },
   {
    "duration": 54,
    "start_time": "2023-04-02T18:49:27.594Z"
   },
   {
    "duration": 6,
    "start_time": "2023-04-02T18:49:30.179Z"
   },
   {
    "duration": 6,
    "start_time": "2023-04-02T18:49:32.991Z"
   },
   {
    "duration": 6,
    "start_time": "2023-04-02T18:49:33.971Z"
   },
   {
    "duration": 8,
    "start_time": "2023-04-02T18:49:36.038Z"
   },
   {
    "duration": 4,
    "start_time": "2023-04-02T18:49:37.708Z"
   },
   {
    "duration": 7,
    "start_time": "2023-04-02T18:49:40.371Z"
   },
   {
    "duration": 16,
    "start_time": "2023-04-02T18:49:53.530Z"
   },
   {
    "duration": 18,
    "start_time": "2023-04-02T18:52:26.558Z"
   },
   {
    "duration": 12,
    "start_time": "2023-04-02T18:53:31.526Z"
   },
   {
    "duration": 271,
    "start_time": "2023-04-02T18:54:47.776Z"
   },
   {
    "duration": 7,
    "start_time": "2023-04-02T18:54:50.191Z"
   },
   {
    "duration": 6,
    "start_time": "2023-04-02T18:54:51.803Z"
   },
   {
    "duration": 7,
    "start_time": "2023-04-02T18:54:52.329Z"
   },
   {
    "duration": 3,
    "start_time": "2023-04-02T18:54:54.030Z"
   },
   {
    "duration": 3,
    "start_time": "2023-04-02T18:54:55.619Z"
   },
   {
    "duration": 7,
    "start_time": "2023-04-02T18:54:56.835Z"
   },
   {
    "duration": 12,
    "start_time": "2023-04-02T18:54:58.762Z"
   },
   {
    "duration": 239,
    "start_time": "2023-04-02T18:55:57.604Z"
   },
   {
    "duration": 6,
    "start_time": "2023-04-02T18:55:58.795Z"
   },
   {
    "duration": 8,
    "start_time": "2023-04-02T18:56:00.391Z"
   },
   {
    "duration": 7,
    "start_time": "2023-04-02T18:56:00.897Z"
   },
   {
    "duration": 4,
    "start_time": "2023-04-02T18:56:02.739Z"
   },
   {
    "duration": 4,
    "start_time": "2023-04-02T18:56:03.858Z"
   },
   {
    "duration": 6,
    "start_time": "2023-04-02T18:56:05.558Z"
   },
   {
    "duration": 12,
    "start_time": "2023-04-02T18:56:13.181Z"
   },
   {
    "duration": 12,
    "start_time": "2023-04-02T18:57:15.900Z"
   },
   {
    "duration": 92,
    "start_time": "2023-04-02T18:57:44.156Z"
   },
   {
    "duration": 6,
    "start_time": "2023-04-02T18:57:45.001Z"
   },
   {
    "duration": 6,
    "start_time": "2023-04-02T18:57:46.502Z"
   },
   {
    "duration": 6,
    "start_time": "2023-04-02T18:57:47.257Z"
   },
   {
    "duration": 5,
    "start_time": "2023-04-02T18:57:48.882Z"
   },
   {
    "duration": 4,
    "start_time": "2023-04-02T18:57:49.931Z"
   },
   {
    "duration": 5,
    "start_time": "2023-04-02T18:57:50.983Z"
   },
   {
    "duration": 15,
    "start_time": "2023-04-02T18:57:53.474Z"
   },
   {
    "duration": 12,
    "start_time": "2023-04-02T18:58:33.084Z"
   },
   {
    "duration": 255,
    "start_time": "2023-04-02T18:59:18.593Z"
   },
   {
    "duration": 6,
    "start_time": "2023-04-02T18:59:22.431Z"
   },
   {
    "duration": 5,
    "start_time": "2023-04-02T18:59:26.493Z"
   },
   {
    "duration": 7,
    "start_time": "2023-04-02T18:59:27.655Z"
   },
   {
    "duration": 5,
    "start_time": "2023-04-02T18:59:32.344Z"
   },
   {
    "duration": 4,
    "start_time": "2023-04-02T18:59:34.212Z"
   },
   {
    "duration": 4,
    "start_time": "2023-04-02T18:59:36.114Z"
   },
   {
    "duration": 11,
    "start_time": "2023-04-02T18:59:39.527Z"
   },
   {
    "duration": 18,
    "start_time": "2023-04-02T19:00:06.239Z"
   },
   {
    "duration": 3,
    "start_time": "2023-04-02T19:11:05.413Z"
   },
   {
    "duration": 364,
    "start_time": "2023-04-02T19:11:06.577Z"
   },
   {
    "duration": 26,
    "start_time": "2023-04-02T19:11:07.273Z"
   },
   {
    "duration": 31,
    "start_time": "2023-04-02T19:11:08.632Z"
   },
   {
    "duration": 115,
    "start_time": "2023-04-02T19:11:09.821Z"
   },
   {
    "duration": 14,
    "start_time": "2023-04-02T19:11:11.523Z"
   },
   {
    "duration": 85,
    "start_time": "2023-04-02T19:11:12.685Z"
   },
   {
    "duration": 344,
    "start_time": "2023-04-02T19:11:13.883Z"
   },
   {
    "duration": 289,
    "start_time": "2023-04-02T19:11:15.222Z"
   },
   {
    "duration": 352,
    "start_time": "2023-04-02T19:11:16.561Z"
   },
   {
    "duration": 333,
    "start_time": "2023-04-02T19:11:17.622Z"
   },
   {
    "duration": 368,
    "start_time": "2023-04-02T19:11:18.872Z"
   },
   {
    "duration": 317,
    "start_time": "2023-04-02T19:11:20.283Z"
   },
   {
    "duration": 32,
    "start_time": "2023-04-02T19:11:22.284Z"
   },
   {
    "duration": 94,
    "start_time": "2023-04-02T19:11:24.751Z"
   },
   {
    "duration": 11,
    "start_time": "2023-04-02T19:14:56.782Z"
   },
   {
    "duration": 3,
    "start_time": "2023-04-02T19:15:00.441Z"
   },
   {
    "duration": 3,
    "start_time": "2023-04-02T19:15:02.091Z"
   },
   {
    "duration": 5,
    "start_time": "2023-04-02T19:15:05.124Z"
   },
   {
    "duration": 19,
    "start_time": "2023-04-02T19:15:24.122Z"
   },
   {
    "duration": 3,
    "start_time": "2023-04-02T19:16:00.141Z"
   },
   {
    "duration": 85,
    "start_time": "2023-04-02T19:16:10.763Z"
   },
   {
    "duration": 817,
    "start_time": "2023-04-02T19:16:52.744Z"
   },
   {
    "duration": 762,
    "start_time": "2023-04-02T19:17:13.393Z"
   },
   {
    "duration": 828,
    "start_time": "2023-04-02T19:17:24.402Z"
   },
   {
    "duration": 827,
    "start_time": "2023-04-02T19:17:46.081Z"
   },
   {
    "duration": 819,
    "start_time": "2023-04-02T19:20:52.825Z"
   },
   {
    "duration": 13,
    "start_time": "2023-04-02T19:21:09.878Z"
   },
   {
    "duration": 11,
    "start_time": "2023-04-02T19:21:59.710Z"
   },
   {
    "duration": 12,
    "start_time": "2023-04-02T19:23:43.398Z"
   },
   {
    "duration": 12,
    "start_time": "2023-04-02T19:24:33.551Z"
   },
   {
    "duration": 21,
    "start_time": "2023-04-02T19:26:36.330Z"
   },
   {
    "duration": 17,
    "start_time": "2023-04-02T19:27:28.679Z"
   },
   {
    "duration": 22,
    "start_time": "2023-04-02T19:27:59.930Z"
   },
   {
    "duration": 69,
    "start_time": "2023-04-02T19:28:49.576Z"
   },
   {
    "duration": 12,
    "start_time": "2023-04-02T19:33:21.954Z"
   },
   {
    "duration": 14,
    "start_time": "2023-04-02T19:33:46.674Z"
   },
   {
    "duration": 10,
    "start_time": "2023-04-02T19:35:11.046Z"
   },
   {
    "duration": 19,
    "start_time": "2023-04-02T19:35:37.537Z"
   },
   {
    "duration": 24,
    "start_time": "2023-04-02T19:35:50.216Z"
   },
   {
    "duration": 16,
    "start_time": "2023-04-02T19:36:02.015Z"
   },
   {
    "duration": 12,
    "start_time": "2023-04-02T19:36:19.904Z"
   },
   {
    "duration": 1573,
    "start_time": "2023-04-03T14:58:51.986Z"
   },
   {
    "duration": 1078,
    "start_time": "2023-04-03T14:58:54.939Z"
   },
   {
    "duration": 45,
    "start_time": "2023-04-03T14:58:56.019Z"
   },
   {
    "duration": 34,
    "start_time": "2023-04-03T14:58:57.517Z"
   },
   {
    "duration": 142,
    "start_time": "2023-04-03T14:58:58.964Z"
   },
   {
    "duration": 36,
    "start_time": "2023-04-03T14:59:00.877Z"
   },
   {
    "duration": 117,
    "start_time": "2023-04-03T14:59:02.304Z"
   },
   {
    "duration": 491,
    "start_time": "2023-04-03T14:59:03.717Z"
   },
   {
    "duration": 366,
    "start_time": "2023-04-03T14:59:05.536Z"
   },
   {
    "duration": 488,
    "start_time": "2023-04-03T14:59:06.848Z"
   },
   {
    "duration": 340,
    "start_time": "2023-04-03T14:59:08.272Z"
   },
   {
    "duration": 531,
    "start_time": "2023-04-03T14:59:09.515Z"
   },
   {
    "duration": 435,
    "start_time": "2023-04-03T14:59:10.548Z"
   },
   {
    "duration": 44,
    "start_time": "2023-04-03T14:59:12.186Z"
   },
   {
    "duration": 209,
    "start_time": "2023-04-03T14:59:13.711Z"
   },
   {
    "duration": 9,
    "start_time": "2023-04-03T14:59:14.089Z"
   },
   {
    "duration": 6,
    "start_time": "2023-04-03T14:59:15.578Z"
   },
   {
    "duration": 7,
    "start_time": "2023-04-03T14:59:16.249Z"
   },
   {
    "duration": 11,
    "start_time": "2023-04-03T14:59:16.873Z"
   },
   {
    "duration": 2,
    "start_time": "2023-04-03T14:59:18.272Z"
   },
   {
    "duration": 11,
    "start_time": "2023-04-03T14:59:19.648Z"
   },
   {
    "duration": 6,
    "start_time": "2023-04-03T14:59:23.077Z"
   },
   {
    "duration": 16,
    "start_time": "2023-04-03T14:59:27.047Z"
   },
   {
    "duration": 79,
    "start_time": "2023-04-03T15:09:20.416Z"
   },
   {
    "duration": 4,
    "start_time": "2023-04-03T15:09:44.742Z"
   },
   {
    "duration": 5,
    "start_time": "2023-04-03T15:19:20.015Z"
   },
   {
    "duration": 3,
    "start_time": "2023-04-03T15:21:08.953Z"
   },
   {
    "duration": 19,
    "start_time": "2023-04-03T15:33:25.213Z"
   },
   {
    "duration": 18,
    "start_time": "2023-04-03T15:35:48.509Z"
   },
   {
    "duration": 19,
    "start_time": "2023-04-03T15:36:28.326Z"
   },
   {
    "duration": 46,
    "start_time": "2023-04-03T15:37:45.419Z"
   },
   {
    "duration": 73,
    "start_time": "2023-04-03T15:38:20.754Z"
   },
   {
    "duration": 8,
    "start_time": "2023-04-03T15:41:26.796Z"
   },
   {
    "duration": 110,
    "start_time": "2023-04-03T15:42:16.979Z"
   },
   {
    "duration": 15,
    "start_time": "2023-04-03T15:42:48.265Z"
   },
   {
    "duration": 14,
    "start_time": "2023-04-03T15:44:11.828Z"
   },
   {
    "duration": 13,
    "start_time": "2023-04-03T15:44:49.200Z"
   },
   {
    "duration": 45,
    "start_time": "2023-04-03T15:45:33.959Z"
   },
   {
    "duration": 17,
    "start_time": "2023-04-03T15:46:03.748Z"
   },
   {
    "duration": 3,
    "start_time": "2023-04-03T15:46:15.367Z"
   },
   {
    "duration": 401,
    "start_time": "2023-04-03T15:46:16.665Z"
   },
   {
    "duration": 27,
    "start_time": "2023-04-03T15:46:17.335Z"
   },
   {
    "duration": 43,
    "start_time": "2023-04-03T15:46:18.558Z"
   },
   {
    "duration": 122,
    "start_time": "2023-04-03T15:46:19.609Z"
   },
   {
    "duration": 14,
    "start_time": "2023-04-03T15:46:21.408Z"
   },
   {
    "duration": 90,
    "start_time": "2023-04-03T15:46:22.549Z"
   },
   {
    "duration": 377,
    "start_time": "2023-04-03T15:46:23.675Z"
   },
   {
    "duration": 340,
    "start_time": "2023-04-03T15:46:25.161Z"
   },
   {
    "duration": 402,
    "start_time": "2023-04-03T15:46:26.648Z"
   },
   {
    "duration": 328,
    "start_time": "2023-04-03T15:46:28.238Z"
   },
   {
    "duration": 482,
    "start_time": "2023-04-03T15:46:29.749Z"
   },
   {
    "duration": 325,
    "start_time": "2023-04-03T15:46:31.505Z"
   },
   {
    "duration": 38,
    "start_time": "2023-04-03T15:46:33.638Z"
   },
   {
    "duration": 47,
    "start_time": "2023-04-03T15:46:34.850Z"
   },
   {
    "duration": 7,
    "start_time": "2023-04-03T15:46:35.618Z"
   },
   {
    "duration": 7,
    "start_time": "2023-04-03T15:46:36.938Z"
   },
   {
    "duration": 8,
    "start_time": "2023-04-03T15:46:37.649Z"
   },
   {
    "duration": 12,
    "start_time": "2023-04-03T15:46:38.409Z"
   },
   {
    "duration": 3,
    "start_time": "2023-04-03T15:46:39.582Z"
   },
   {
    "duration": 4,
    "start_time": "2023-04-03T15:46:40.810Z"
   },
   {
    "duration": 5,
    "start_time": "2023-04-03T15:46:42.572Z"
   },
   {
    "duration": 4,
    "start_time": "2023-04-03T15:46:43.709Z"
   },
   {
    "duration": 15,
    "start_time": "2023-04-03T15:46:45.607Z"
   },
   {
    "duration": 8,
    "start_time": "2023-04-03T15:47:27.528Z"
   },
   {
    "duration": 14,
    "start_time": "2023-04-03T15:47:48.282Z"
   },
   {
    "duration": 14,
    "start_time": "2023-04-03T15:47:57.087Z"
   },
   {
    "duration": 14,
    "start_time": "2023-04-03T15:48:02.268Z"
   },
   {
    "duration": 4,
    "start_time": "2023-04-03T15:48:17.689Z"
   },
   {
    "duration": 365,
    "start_time": "2023-04-03T15:48:18.519Z"
   },
   {
    "duration": 29,
    "start_time": "2023-04-03T15:48:20.488Z"
   },
   {
    "duration": 33,
    "start_time": "2023-04-03T15:48:21.451Z"
   },
   {
    "duration": 116,
    "start_time": "2023-04-03T15:48:22.638Z"
   },
   {
    "duration": 14,
    "start_time": "2023-04-03T15:48:24.168Z"
   },
   {
    "duration": 98,
    "start_time": "2023-04-03T15:48:25.267Z"
   },
   {
    "duration": 380,
    "start_time": "2023-04-03T15:48:26.326Z"
   },
   {
    "duration": 288,
    "start_time": "2023-04-03T15:48:27.529Z"
   },
   {
    "duration": 392,
    "start_time": "2023-04-03T15:48:28.948Z"
   },
   {
    "duration": 323,
    "start_time": "2023-04-03T15:48:30.344Z"
   },
   {
    "duration": 477,
    "start_time": "2023-04-03T15:48:31.302Z"
   },
   {
    "duration": 298,
    "start_time": "2023-04-03T15:48:32.458Z"
   },
   {
    "duration": 33,
    "start_time": "2023-04-03T15:48:33.570Z"
   },
   {
    "duration": 122,
    "start_time": "2023-04-03T15:48:35.079Z"
   },
   {
    "duration": 6,
    "start_time": "2023-04-03T15:48:35.888Z"
   },
   {
    "duration": 9,
    "start_time": "2023-04-03T15:48:37.428Z"
   },
   {
    "duration": 8,
    "start_time": "2023-04-03T15:48:38.894Z"
   },
   {
    "duration": 10,
    "start_time": "2023-04-03T15:48:39.608Z"
   },
   {
    "duration": 4,
    "start_time": "2023-04-03T15:48:40.858Z"
   },
   {
    "duration": 4,
    "start_time": "2023-04-03T15:48:42.089Z"
   },
   {
    "duration": 7,
    "start_time": "2023-04-03T15:48:43.499Z"
   },
   {
    "duration": 5,
    "start_time": "2023-04-03T15:48:44.697Z"
   },
   {
    "duration": 12,
    "start_time": "2023-04-03T15:48:54.928Z"
   },
   {
    "duration": 51,
    "start_time": "2023-04-03T15:49:00.348Z"
   },
   {
    "duration": 16,
    "start_time": "2023-04-03T15:50:12.346Z"
   },
   {
    "duration": 16,
    "start_time": "2023-04-03T15:50:15.298Z"
   },
   {
    "duration": 62,
    "start_time": "2023-04-03T15:51:06.399Z"
   },
   {
    "duration": 5,
    "start_time": "2023-04-03T15:51:13.392Z"
   },
   {
    "duration": 347,
    "start_time": "2023-04-03T15:51:14.169Z"
   },
   {
    "duration": 28,
    "start_time": "2023-04-03T15:51:14.639Z"
   },
   {
    "duration": 38,
    "start_time": "2023-04-03T15:51:15.519Z"
   },
   {
    "duration": 123,
    "start_time": "2023-04-03T15:51:16.191Z"
   },
   {
    "duration": 15,
    "start_time": "2023-04-03T15:51:17.598Z"
   },
   {
    "duration": 100,
    "start_time": "2023-04-03T15:51:18.439Z"
   },
   {
    "duration": 413,
    "start_time": "2023-04-03T15:51:19.283Z"
   },
   {
    "duration": 300,
    "start_time": "2023-04-03T15:51:20.057Z"
   },
   {
    "duration": 395,
    "start_time": "2023-04-03T15:51:20.902Z"
   },
   {
    "duration": 313,
    "start_time": "2023-04-03T15:51:21.644Z"
   },
   {
    "duration": 432,
    "start_time": "2023-04-03T15:51:22.449Z"
   },
   {
    "duration": 362,
    "start_time": "2023-04-03T15:51:23.215Z"
   },
   {
    "duration": 35,
    "start_time": "2023-04-03T15:51:24.508Z"
   },
   {
    "duration": 335,
    "start_time": "2023-04-03T15:51:26.369Z"
   },
   {
    "duration": 6,
    "start_time": "2023-04-03T15:51:27.006Z"
   },
   {
    "duration": 7,
    "start_time": "2023-04-03T15:51:28.457Z"
   },
   {
    "duration": 7,
    "start_time": "2023-04-03T15:51:29.138Z"
   },
   {
    "duration": 15,
    "start_time": "2023-04-03T15:51:29.750Z"
   },
   {
    "duration": 3,
    "start_time": "2023-04-03T15:51:31.009Z"
   },
   {
    "duration": 4,
    "start_time": "2023-04-03T15:51:32.169Z"
   },
   {
    "duration": 7,
    "start_time": "2023-04-03T15:51:33.317Z"
   },
   {
    "duration": 3,
    "start_time": "2023-04-03T15:51:34.570Z"
   },
   {
    "duration": 8,
    "start_time": "2023-04-03T15:51:37.509Z"
   },
   {
    "duration": 44,
    "start_time": "2023-04-03T15:51:39.538Z"
   },
   {
    "duration": 61,
    "start_time": "2023-04-03T15:51:59.929Z"
   },
   {
    "duration": 53,
    "start_time": "2023-04-03T15:53:42.318Z"
   },
   {
    "duration": 66,
    "start_time": "2023-04-03T15:53:53.419Z"
   },
   {
    "duration": 46,
    "start_time": "2023-04-03T15:53:58.429Z"
   },
   {
    "duration": 52,
    "start_time": "2023-04-03T15:54:05.689Z"
   },
   {
    "duration": 1459,
    "start_time": "2023-04-03T15:54:33.174Z"
   },
   {
    "duration": 3,
    "start_time": "2023-04-03T16:09:51.220Z"
   },
   {
    "duration": 42,
    "start_time": "2023-04-03T16:10:49.340Z"
   },
   {
    "duration": 9,
    "start_time": "2023-04-03T16:11:00.670Z"
   },
   {
    "duration": 5,
    "start_time": "2023-04-03T16:11:40.063Z"
   },
   {
    "duration": 3,
    "start_time": "2023-04-03T16:18:26.893Z"
   },
   {
    "duration": 357,
    "start_time": "2023-04-03T16:18:28.579Z"
   },
   {
    "duration": 42,
    "start_time": "2023-04-03T16:18:29.726Z"
   },
   {
    "duration": 35,
    "start_time": "2023-04-03T16:18:37.885Z"
   },
   {
    "duration": 140,
    "start_time": "2023-04-03T16:18:39.976Z"
   },
   {
    "duration": 17,
    "start_time": "2023-04-03T16:18:44.966Z"
   },
   {
    "duration": 101,
    "start_time": "2023-04-03T16:18:49.133Z"
   },
   {
    "duration": 400,
    "start_time": "2023-04-03T16:18:50.658Z"
   },
   {
    "duration": 312,
    "start_time": "2023-04-03T16:18:51.870Z"
   },
   {
    "duration": 394,
    "start_time": "2023-04-03T16:18:53.730Z"
   },
   {
    "duration": 352,
    "start_time": "2023-04-03T16:18:55.164Z"
   },
   {
    "duration": 504,
    "start_time": "2023-04-03T16:18:57.577Z"
   },
   {
    "duration": 317,
    "start_time": "2023-04-03T16:18:59.137Z"
   },
   {
    "duration": 36,
    "start_time": "2023-04-03T16:19:10.206Z"
   },
   {
    "duration": 197,
    "start_time": "2023-04-03T16:19:33.193Z"
   },
   {
    "duration": 42,
    "start_time": "2023-04-03T16:37:35.618Z"
   },
   {
    "duration": 6,
    "start_time": "2023-04-03T16:37:43.625Z"
   },
   {
    "duration": 6,
    "start_time": "2023-04-03T16:37:49.851Z"
   },
   {
    "duration": 7,
    "start_time": "2023-04-03T16:37:50.446Z"
   },
   {
    "duration": 10,
    "start_time": "2023-04-03T16:37:51.132Z"
   },
   {
    "duration": 3,
    "start_time": "2023-04-03T16:37:52.420Z"
   },
   {
    "duration": 5,
    "start_time": "2023-04-03T16:37:54.009Z"
   },
   {
    "duration": 6,
    "start_time": "2023-04-03T16:37:58.307Z"
   },
   {
    "duration": 19,
    "start_time": "2023-04-03T16:53:56.560Z"
   },
   {
    "duration": 17,
    "start_time": "2023-04-03T16:54:15.219Z"
   },
   {
    "duration": 6,
    "start_time": "2023-04-03T16:55:01.258Z"
   },
   {
    "duration": 7,
    "start_time": "2023-04-03T16:55:03.570Z"
   },
   {
    "duration": 7,
    "start_time": "2023-04-03T16:55:08.622Z"
   },
   {
    "duration": 6,
    "start_time": "2023-04-03T16:55:09.388Z"
   },
   {
    "duration": 10,
    "start_time": "2023-04-03T16:55:10.148Z"
   },
   {
    "duration": 2,
    "start_time": "2023-04-03T16:55:11.419Z"
   },
   {
    "duration": 4,
    "start_time": "2023-04-03T16:55:12.601Z"
   },
   {
    "duration": 5,
    "start_time": "2023-04-03T16:55:14.007Z"
   },
   {
    "duration": 22,
    "start_time": "2023-04-03T16:55:15.349Z"
   },
   {
    "duration": 21,
    "start_time": "2023-04-03T16:56:06.866Z"
   },
   {
    "duration": 20,
    "start_time": "2023-04-03T16:56:16.189Z"
   },
   {
    "duration": 21,
    "start_time": "2023-04-03T16:56:21.060Z"
   },
   {
    "duration": 16,
    "start_time": "2023-04-03T16:59:20.058Z"
   },
   {
    "duration": 10,
    "start_time": "2023-04-03T16:59:58.019Z"
   },
   {
    "duration": 9,
    "start_time": "2023-04-03T17:02:26.003Z"
   },
   {
    "duration": 17,
    "start_time": "2023-04-03T17:04:21.528Z"
   },
   {
    "duration": 33,
    "start_time": "2023-04-03T17:04:48.869Z"
   },
   {
    "duration": 24,
    "start_time": "2023-04-03T17:05:35.877Z"
   },
   {
    "duration": 12,
    "start_time": "2023-04-03T17:07:12.016Z"
   },
   {
    "duration": 17,
    "start_time": "2023-04-03T17:07:15.830Z"
   },
   {
    "duration": 34,
    "start_time": "2023-04-03T18:34:28.685Z"
   },
   {
    "duration": 32,
    "start_time": "2023-04-03T18:35:13.567Z"
   },
   {
    "duration": 25,
    "start_time": "2023-04-03T18:35:41.973Z"
   },
   {
    "duration": 23,
    "start_time": "2023-04-03T18:37:35.463Z"
   },
   {
    "duration": 30,
    "start_time": "2023-04-03T18:38:13.298Z"
   },
   {
    "duration": 34,
    "start_time": "2023-04-03T18:39:21.407Z"
   },
   {
    "duration": 25,
    "start_time": "2023-04-03T18:46:15.162Z"
   },
   {
    "duration": 50,
    "start_time": "2023-04-03T18:47:04.422Z"
   },
   {
    "duration": 36,
    "start_time": "2023-04-03T18:47:32.023Z"
   },
   {
    "duration": 29,
    "start_time": "2023-04-03T18:49:29.966Z"
   },
   {
    "duration": 219,
    "start_time": "2023-04-03T18:49:37.773Z"
   },
   {
    "duration": 7,
    "start_time": "2023-04-03T18:49:38.707Z"
   },
   {
    "duration": 7,
    "start_time": "2023-04-03T18:49:39.515Z"
   },
   {
    "duration": 13,
    "start_time": "2023-04-03T18:49:40.787Z"
   },
   {
    "duration": 8,
    "start_time": "2023-04-03T18:49:41.556Z"
   },
   {
    "duration": 11,
    "start_time": "2023-04-03T18:49:42.355Z"
   },
   {
    "duration": 4,
    "start_time": "2023-04-03T18:49:44.408Z"
   },
   {
    "duration": 4,
    "start_time": "2023-04-03T18:49:45.765Z"
   },
   {
    "duration": 7,
    "start_time": "2023-04-03T18:49:47.357Z"
   },
   {
    "duration": 13,
    "start_time": "2023-04-03T18:49:48.583Z"
   },
   {
    "duration": 24,
    "start_time": "2023-04-03T18:49:53.305Z"
   },
   {
    "duration": 6,
    "start_time": "2023-04-03T18:50:59.280Z"
   },
   {
    "duration": 5,
    "start_time": "2023-04-03T18:51:07.138Z"
   },
   {
    "duration": 6,
    "start_time": "2023-04-03T18:51:07.779Z"
   },
   {
    "duration": 6,
    "start_time": "2023-04-03T18:51:09.357Z"
   },
   {
    "duration": 8,
    "start_time": "2023-04-03T18:51:09.860Z"
   },
   {
    "duration": 12,
    "start_time": "2023-04-03T18:51:10.336Z"
   },
   {
    "duration": 4,
    "start_time": "2023-04-03T18:51:11.334Z"
   },
   {
    "duration": 6,
    "start_time": "2023-04-03T18:51:12.185Z"
   },
   {
    "duration": 4,
    "start_time": "2023-04-03T18:51:13.125Z"
   },
   {
    "duration": 18,
    "start_time": "2023-04-03T18:51:14.088Z"
   },
   {
    "duration": 12,
    "start_time": "2023-04-03T19:04:32.783Z"
   },
   {
    "duration": 19,
    "start_time": "2023-04-03T19:05:13.754Z"
   },
   {
    "duration": 18,
    "start_time": "2023-04-03T19:07:24.014Z"
   },
   {
    "duration": 20,
    "start_time": "2023-04-03T19:10:13.315Z"
   },
   {
    "duration": 6,
    "start_time": "2023-04-03T19:15:04.358Z"
   },
   {
    "duration": 6,
    "start_time": "2023-04-03T19:15:05.019Z"
   },
   {
    "duration": 19,
    "start_time": "2023-04-03T19:15:18.415Z"
   },
   {
    "duration": 20,
    "start_time": "2023-04-03T19:15:39.172Z"
   },
   {
    "duration": 131,
    "start_time": "2023-04-03T19:17:16.673Z"
   },
   {
    "duration": 4,
    "start_time": "2023-04-03T19:17:18.215Z"
   },
   {
    "duration": 7,
    "start_time": "2023-04-03T19:17:22.944Z"
   },
   {
    "duration": 28,
    "start_time": "2023-04-03T19:17:50.285Z"
   },
   {
    "duration": 3,
    "start_time": "2023-04-03T19:19:46.827Z"
   },
   {
    "duration": 4,
    "start_time": "2023-04-03T19:19:54.157Z"
   },
   {
    "duration": 8,
    "start_time": "2023-04-03T19:21:45.695Z"
   },
   {
    "duration": 12,
    "start_time": "2023-04-03T19:22:30.265Z"
   },
   {
    "duration": 13,
    "start_time": "2023-04-03T19:22:54.815Z"
   },
   {
    "duration": 14,
    "start_time": "2023-04-03T19:24:14.006Z"
   },
   {
    "duration": 10,
    "start_time": "2023-04-03T19:24:19.084Z"
   },
   {
    "duration": 8,
    "start_time": "2023-04-03T19:24:30.268Z"
   },
   {
    "duration": 1620,
    "start_time": "2023-04-05T17:46:16.776Z"
   },
   {
    "duration": 2333,
    "start_time": "2023-04-05T17:46:20.196Z"
   },
   {
    "duration": 50,
    "start_time": "2023-04-05T17:46:22.531Z"
   },
   {
    "duration": 69,
    "start_time": "2023-04-05T17:46:24.687Z"
   },
   {
    "duration": 197,
    "start_time": "2023-04-05T17:46:26.552Z"
   },
   {
    "duration": 18,
    "start_time": "2023-04-05T17:46:29.316Z"
   },
   {
    "duration": 121,
    "start_time": "2023-04-05T17:46:30.950Z"
   },
   {
    "duration": 449,
    "start_time": "2023-04-05T17:46:32.670Z"
   },
   {
    "duration": 321,
    "start_time": "2023-04-05T17:46:34.707Z"
   },
   {
    "duration": 468,
    "start_time": "2023-04-05T17:46:36.607Z"
   },
   {
    "duration": 373,
    "start_time": "2023-04-05T17:46:38.988Z"
   },
   {
    "duration": 412,
    "start_time": "2023-04-05T17:46:40.807Z"
   },
   {
    "duration": 429,
    "start_time": "2023-04-05T17:46:43.797Z"
   },
   {
    "duration": 32,
    "start_time": "2023-04-05T17:46:46.428Z"
   },
   {
    "duration": 169,
    "start_time": "2023-04-05T17:46:50.897Z"
   },
   {
    "duration": 5,
    "start_time": "2023-04-05T17:46:52.527Z"
   },
   {
    "duration": 6,
    "start_time": "2023-04-05T17:46:53.714Z"
   },
   {
    "duration": 6,
    "start_time": "2023-04-05T17:46:55.460Z"
   },
   {
    "duration": 7,
    "start_time": "2023-04-05T17:46:57.274Z"
   },
   {
    "duration": 15,
    "start_time": "2023-04-05T17:46:59.836Z"
   },
   {
    "duration": 3,
    "start_time": "2023-04-05T17:47:02.987Z"
   },
   {
    "duration": 4,
    "start_time": "2023-04-05T17:47:04.332Z"
   },
   {
    "duration": 5,
    "start_time": "2023-04-05T17:47:05.666Z"
   },
   {
    "duration": 113,
    "start_time": "2023-04-05T17:47:07.515Z"
   },
   {
    "duration": 12,
    "start_time": "2023-04-05T17:47:18.307Z"
   },
   {
    "duration": 7,
    "start_time": "2023-04-05T17:49:34.074Z"
   },
   {
    "duration": 15,
    "start_time": "2023-04-05T17:49:35.738Z"
   },
   {
    "duration": 75,
    "start_time": "2023-04-05T17:50:33.578Z"
   },
   {
    "duration": 56,
    "start_time": "2023-04-05T17:50:47.497Z"
   },
   {
    "duration": 166,
    "start_time": "2023-04-05T17:50:55.378Z"
   },
   {
    "duration": 7,
    "start_time": "2023-04-05T17:50:59.995Z"
   },
   {
    "duration": 84,
    "start_time": "2023-04-05T17:53:15.559Z"
   },
   {
    "duration": 56,
    "start_time": "2023-04-05T17:53:55.897Z"
   },
   {
    "duration": 9,
    "start_time": "2023-04-05T17:56:06.659Z"
   },
   {
    "duration": 6,
    "start_time": "2023-04-05T17:56:29.306Z"
   },
   {
    "duration": 8,
    "start_time": "2023-04-05T17:56:46.487Z"
   },
   {
    "duration": 6,
    "start_time": "2023-04-05T17:56:55.259Z"
   },
   {
    "duration": 13,
    "start_time": "2023-04-05T17:57:26.763Z"
   },
   {
    "duration": 9,
    "start_time": "2023-04-05T17:58:33.067Z"
   },
   {
    "duration": 7,
    "start_time": "2023-04-05T17:58:48.275Z"
   },
   {
    "duration": 6,
    "start_time": "2023-04-05T17:58:52.696Z"
   },
   {
    "duration": 5,
    "start_time": "2023-04-05T17:59:08.520Z"
   },
   {
    "duration": 7,
    "start_time": "2023-04-05T17:59:24.652Z"
   },
   {
    "duration": 22,
    "start_time": "2023-04-05T17:59:25.561Z"
   },
   {
    "duration": 23,
    "start_time": "2023-04-05T17:59:26.740Z"
   },
   {
    "duration": 3,
    "start_time": "2023-04-05T18:01:48.791Z"
   },
   {
    "duration": 427,
    "start_time": "2023-04-05T18:01:49.800Z"
   },
   {
    "duration": 34,
    "start_time": "2023-04-05T18:01:50.990Z"
   },
   {
    "duration": 68,
    "start_time": "2023-04-05T18:01:54.537Z"
   },
   {
    "duration": 180,
    "start_time": "2023-04-05T18:02:16.491Z"
   },
   {
    "duration": 15,
    "start_time": "2023-04-05T18:10:19.715Z"
   },
   {
    "duration": 124,
    "start_time": "2023-04-05T18:11:00.241Z"
   },
   {
    "duration": 377,
    "start_time": "2023-04-05T18:11:02.090Z"
   },
   {
    "duration": 309,
    "start_time": "2023-04-05T18:11:03.870Z"
   },
   {
    "duration": 381,
    "start_time": "2023-04-05T18:11:05.582Z"
   },
   {
    "duration": 325,
    "start_time": "2023-04-05T18:11:06.854Z"
   },
   {
    "duration": 392,
    "start_time": "2023-04-05T18:11:08.132Z"
   },
   {
    "duration": 314,
    "start_time": "2023-04-05T18:11:09.760Z"
   },
   {
    "duration": 25,
    "start_time": "2023-04-05T18:11:14.173Z"
   },
   {
    "duration": 58,
    "start_time": "2023-04-05T18:11:55.492Z"
   },
   {
    "duration": 7,
    "start_time": "2023-04-05T18:12:03.511Z"
   },
   {
    "duration": 7,
    "start_time": "2023-04-05T18:12:18.093Z"
   },
   {
    "duration": 7,
    "start_time": "2023-04-05T18:12:25.291Z"
   },
   {
    "duration": 7,
    "start_time": "2023-04-05T18:12:28.656Z"
   },
   {
    "duration": 15,
    "start_time": "2023-04-05T18:12:31.221Z"
   },
   {
    "duration": 3,
    "start_time": "2023-04-05T18:12:33.264Z"
   },
   {
    "duration": 6,
    "start_time": "2023-04-05T18:12:35.005Z"
   },
   {
    "duration": 5,
    "start_time": "2023-04-05T18:12:36.822Z"
   },
   {
    "duration": 12,
    "start_time": "2023-04-05T18:12:41.392Z"
   },
   {
    "duration": 20,
    "start_time": "2023-04-05T18:12:50.256Z"
   },
   {
    "duration": 10,
    "start_time": "2023-04-05T18:16:07.996Z"
   },
   {
    "duration": 10,
    "start_time": "2023-04-05T18:17:29.893Z"
   },
   {
    "duration": 7,
    "start_time": "2023-04-05T18:17:32.020Z"
   },
   {
    "duration": 7,
    "start_time": "2023-04-05T18:17:34.117Z"
   },
   {
    "duration": 7,
    "start_time": "2023-04-05T18:17:34.862Z"
   },
   {
    "duration": 13,
    "start_time": "2023-04-05T18:17:35.552Z"
   },
   {
    "duration": 3,
    "start_time": "2023-04-05T18:17:36.860Z"
   },
   {
    "duration": 5,
    "start_time": "2023-04-05T18:17:38.171Z"
   },
   {
    "duration": 6,
    "start_time": "2023-04-05T18:17:39.419Z"
   },
   {
    "duration": 14,
    "start_time": "2023-04-05T18:17:40.447Z"
   },
   {
    "duration": 6,
    "start_time": "2023-04-05T18:17:41.771Z"
   },
   {
    "duration": 109,
    "start_time": "2023-04-05T18:17:56.662Z"
   },
   {
    "duration": 6,
    "start_time": "2023-04-05T18:18:42.181Z"
   },
   {
    "duration": 8,
    "start_time": "2023-04-05T18:20:21.660Z"
   },
   {
    "duration": 4,
    "start_time": "2023-04-05T18:28:23.141Z"
   },
   {
    "duration": 6,
    "start_time": "2023-04-05T18:28:52.219Z"
   },
   {
    "duration": 10,
    "start_time": "2023-04-05T18:45:33.640Z"
   },
   {
    "duration": 7,
    "start_time": "2023-04-05T18:45:35.402Z"
   },
   {
    "duration": 5,
    "start_time": "2023-04-05T18:45:38.059Z"
   },
   {
    "duration": 72,
    "start_time": "2023-04-05T18:46:21.172Z"
   },
   {
    "duration": 8,
    "start_time": "2023-04-05T18:46:27.998Z"
   },
   {
    "duration": 5,
    "start_time": "2023-04-05T18:47:03.881Z"
   },
   {
    "duration": 69,
    "start_time": "2023-04-07T16:01:46.525Z"
   },
   {
    "duration": 1601,
    "start_time": "2023-04-07T16:01:50.573Z"
   },
   {
    "duration": 1019,
    "start_time": "2023-04-07T16:01:52.176Z"
   },
   {
    "duration": 36,
    "start_time": "2023-04-07T16:01:53.197Z"
   },
   {
    "duration": 56,
    "start_time": "2023-04-07T16:01:55.527Z"
   },
   {
    "duration": 140,
    "start_time": "2023-04-07T16:01:57.727Z"
   },
   {
    "duration": 25,
    "start_time": "2023-04-07T16:01:59.846Z"
   },
   {
    "duration": 115,
    "start_time": "2023-04-07T16:02:01.906Z"
   },
   {
    "duration": 458,
    "start_time": "2023-04-07T16:02:04.726Z"
   },
   {
    "duration": 400,
    "start_time": "2023-04-07T16:02:07.246Z"
   },
   {
    "duration": 458,
    "start_time": "2023-04-07T16:02:10.926Z"
   },
   {
    "duration": 369,
    "start_time": "2023-04-07T16:02:12.946Z"
   },
   {
    "duration": 477,
    "start_time": "2023-04-07T16:02:15.255Z"
   },
   {
    "duration": 431,
    "start_time": "2023-04-07T16:02:18.171Z"
   },
   {
    "duration": 28,
    "start_time": "2023-04-07T16:02:28.137Z"
   },
   {
    "duration": 297,
    "start_time": "2023-04-07T16:02:32.277Z"
   },
   {
    "duration": 19,
    "start_time": "2023-04-07T16:02:35.586Z"
   },
   {
    "duration": 8,
    "start_time": "2023-04-07T16:02:38.020Z"
   },
   {
    "duration": 6,
    "start_time": "2023-04-07T16:02:39.646Z"
   },
   {
    "duration": 10,
    "start_time": "2023-04-07T16:03:42.946Z"
   },
   {
    "duration": 162,
    "start_time": "2023-04-07T16:04:52.106Z"
   },
   {
    "duration": 10,
    "start_time": "2023-04-07T16:04:53.291Z"
   },
   {
    "duration": 8,
    "start_time": "2023-04-07T16:05:46.636Z"
   },
   {
    "duration": 3,
    "start_time": "2023-04-07T16:06:02.186Z"
   },
   {
    "duration": 426,
    "start_time": "2023-04-07T16:06:03.425Z"
   },
   {
    "duration": 39,
    "start_time": "2023-04-07T16:06:04.269Z"
   },
   {
    "duration": 57,
    "start_time": "2023-04-07T16:06:07.225Z"
   },
   {
    "duration": 133,
    "start_time": "2023-04-07T16:06:11.845Z"
   },
   {
    "duration": 20,
    "start_time": "2023-04-07T16:06:14.146Z"
   },
   {
    "duration": 110,
    "start_time": "2023-04-07T16:06:15.996Z"
   },
   {
    "duration": 433,
    "start_time": "2023-04-07T16:06:18.345Z"
   },
   {
    "duration": 347,
    "start_time": "2023-04-07T16:06:19.969Z"
   },
   {
    "duration": 421,
    "start_time": "2023-04-07T16:06:22.217Z"
   },
   {
    "duration": 341,
    "start_time": "2023-04-07T16:06:24.596Z"
   },
   {
    "duration": 493,
    "start_time": "2023-04-07T16:06:26.870Z"
   },
   {
    "duration": 347,
    "start_time": "2023-04-07T16:06:29.096Z"
   },
   {
    "duration": 27,
    "start_time": "2023-04-07T16:06:32.416Z"
   },
   {
    "duration": 221,
    "start_time": "2023-04-07T16:06:36.555Z"
   },
   {
    "duration": 9,
    "start_time": "2023-04-07T16:06:38.085Z"
   },
   {
    "duration": 10,
    "start_time": "2023-04-07T16:07:03.206Z"
   },
   {
    "duration": 14,
    "start_time": "2023-04-07T16:10:37.153Z"
   },
   {
    "duration": 12,
    "start_time": "2023-04-07T16:10:45.218Z"
   },
   {
    "duration": 50,
    "start_time": "2023-04-07T16:10:49.630Z"
   },
   {
    "duration": 10,
    "start_time": "2023-04-07T16:10:50.188Z"
   },
   {
    "duration": 81,
    "start_time": "2023-04-07T16:13:34.869Z"
   },
   {
    "duration": 14,
    "start_time": "2023-04-07T16:14:15.568Z"
   },
   {
    "duration": 13,
    "start_time": "2023-04-07T16:14:23.153Z"
   },
   {
    "duration": 15,
    "start_time": "2023-04-07T16:14:42.708Z"
   },
   {
    "duration": 18,
    "start_time": "2023-04-07T16:19:33.813Z"
   },
   {
    "duration": 16,
    "start_time": "2023-04-07T16:23:36.858Z"
   },
   {
    "duration": 15,
    "start_time": "2023-04-07T16:24:28.717Z"
   },
   {
    "duration": 3,
    "start_time": "2023-04-07T16:24:35.154Z"
   },
   {
    "duration": 454,
    "start_time": "2023-04-07T16:24:36.387Z"
   },
   {
    "duration": 40,
    "start_time": "2023-04-07T16:24:37.028Z"
   },
   {
    "duration": 39,
    "start_time": "2023-04-07T16:24:38.233Z"
   },
   {
    "duration": 139,
    "start_time": "2023-04-07T16:24:39.668Z"
   },
   {
    "duration": 17,
    "start_time": "2023-04-07T16:24:41.594Z"
   },
   {
    "duration": 121,
    "start_time": "2023-04-07T16:24:42.747Z"
   },
   {
    "duration": 486,
    "start_time": "2023-04-07T16:24:43.968Z"
   },
   {
    "duration": 325,
    "start_time": "2023-04-07T16:24:45.428Z"
   },
   {
    "duration": 437,
    "start_time": "2023-04-07T16:24:46.927Z"
   },
   {
    "duration": 358,
    "start_time": "2023-04-07T16:24:48.158Z"
   },
   {
    "duration": 500,
    "start_time": "2023-04-07T16:24:49.627Z"
   },
   {
    "duration": 356,
    "start_time": "2023-04-07T16:24:51.158Z"
   },
   {
    "duration": 23,
    "start_time": "2023-04-07T16:24:53.447Z"
   },
   {
    "duration": 122,
    "start_time": "2023-04-07T16:24:55.451Z"
   },
   {
    "duration": 17,
    "start_time": "2023-04-07T16:24:56.188Z"
   },
   {
    "duration": 14,
    "start_time": "2023-04-07T16:25:22.172Z"
   },
   {
    "duration": 12,
    "start_time": "2023-04-07T16:25:45.468Z"
   },
   {
    "duration": 3,
    "start_time": "2023-04-07T16:26:26.666Z"
   },
   {
    "duration": 406,
    "start_time": "2023-04-07T16:26:28.510Z"
   },
   {
    "duration": 4,
    "start_time": "2023-04-07T16:26:32.203Z"
   },
   {
    "duration": 364,
    "start_time": "2023-04-07T16:26:33.437Z"
   },
   {
    "duration": 39,
    "start_time": "2023-04-07T16:26:34.118Z"
   },
   {
    "duration": 40,
    "start_time": "2023-04-07T16:26:35.336Z"
   },
   {
    "duration": 133,
    "start_time": "2023-04-07T16:26:36.699Z"
   },
   {
    "duration": 19,
    "start_time": "2023-04-07T16:26:39.036Z"
   },
   {
    "duration": 108,
    "start_time": "2023-04-07T16:26:40.471Z"
   },
   {
    "duration": 416,
    "start_time": "2023-04-07T16:26:41.869Z"
   },
   {
    "duration": 338,
    "start_time": "2023-04-07T16:26:43.248Z"
   },
   {
    "duration": 396,
    "start_time": "2023-04-07T16:26:44.483Z"
   },
   {
    "duration": 342,
    "start_time": "2023-04-07T16:26:45.988Z"
   },
   {
    "duration": 426,
    "start_time": "2023-04-07T16:26:47.845Z"
   },
   {
    "duration": 372,
    "start_time": "2023-04-07T16:26:49.361Z"
   },
   {
    "duration": 21,
    "start_time": "2023-04-07T16:26:52.290Z"
   },
   {
    "duration": 203,
    "start_time": "2023-04-07T16:26:54.363Z"
   },
   {
    "duration": 4,
    "start_time": "2023-04-07T16:26:57.490Z"
   },
   {
    "duration": 13,
    "start_time": "2023-04-07T16:27:12.410Z"
   },
   {
    "duration": 12,
    "start_time": "2023-04-07T16:27:37.860Z"
   },
   {
    "duration": 285,
    "start_time": "2023-04-07T16:27:47.081Z"
   },
   {
    "duration": 6,
    "start_time": "2023-04-07T16:27:48.650Z"
   },
   {
    "duration": 10,
    "start_time": "2023-04-07T16:31:04.580Z"
   },
   {
    "duration": 11,
    "start_time": "2023-04-07T16:31:24.936Z"
   },
   {
    "duration": 13,
    "start_time": "2023-04-07T16:36:18.625Z"
   },
   {
    "duration": 13,
    "start_time": "2023-04-07T16:36:47.401Z"
   },
   {
    "duration": 6,
    "start_time": "2023-04-07T16:36:55.222Z"
   },
   {
    "duration": 12,
    "start_time": "2023-04-07T16:36:57.051Z"
   },
   {
    "duration": 13,
    "start_time": "2023-04-07T16:37:05.170Z"
   },
   {
    "duration": 4,
    "start_time": "2023-04-07T16:38:40.804Z"
   },
   {
    "duration": 398,
    "start_time": "2023-04-07T16:38:42.366Z"
   },
   {
    "duration": 36,
    "start_time": "2023-04-07T16:38:43.101Z"
   },
   {
    "duration": 37,
    "start_time": "2023-04-07T16:38:44.534Z"
   },
   {
    "duration": 131,
    "start_time": "2023-04-07T16:38:46.037Z"
   },
   {
    "duration": 15,
    "start_time": "2023-04-07T16:38:47.955Z"
   },
   {
    "duration": 104,
    "start_time": "2023-04-07T16:38:49.265Z"
   },
   {
    "duration": 398,
    "start_time": "2023-04-07T16:38:51.165Z"
   },
   {
    "duration": 312,
    "start_time": "2023-04-07T16:38:54.263Z"
   },
   {
    "duration": 385,
    "start_time": "2023-04-07T16:38:57.452Z"
   },
   {
    "duration": 354,
    "start_time": "2023-04-07T16:38:59.885Z"
   },
   {
    "duration": 512,
    "start_time": "2023-04-07T16:39:01.277Z"
   },
   {
    "duration": 300,
    "start_time": "2023-04-07T16:39:02.373Z"
   },
   {
    "duration": 22,
    "start_time": "2023-04-07T16:39:04.795Z"
   },
   {
    "duration": 161,
    "start_time": "2023-04-07T16:39:07.405Z"
   },
   {
    "duration": 6,
    "start_time": "2023-04-07T16:39:10.745Z"
   },
   {
    "duration": 12,
    "start_time": "2023-04-07T16:39:13.987Z"
   },
   {
    "duration": 12,
    "start_time": "2023-04-07T16:39:31.289Z"
   },
   {
    "duration": 11,
    "start_time": "2023-04-07T16:39:45.467Z"
   },
   {
    "duration": 4,
    "start_time": "2023-04-07T16:39:58.806Z"
   },
   {
    "duration": 385,
    "start_time": "2023-04-07T16:39:59.838Z"
   },
   {
    "duration": 30,
    "start_time": "2023-04-07T16:40:00.351Z"
   },
   {
    "duration": 39,
    "start_time": "2023-04-07T16:40:01.485Z"
   },
   {
    "duration": 121,
    "start_time": "2023-04-07T16:40:02.555Z"
   },
   {
    "duration": 16,
    "start_time": "2023-04-07T16:40:04.125Z"
   },
   {
    "duration": 107,
    "start_time": "2023-04-07T16:40:05.314Z"
   },
   {
    "duration": 377,
    "start_time": "2023-04-07T16:40:06.466Z"
   },
   {
    "duration": 297,
    "start_time": "2023-04-07T16:40:07.696Z"
   },
   {
    "duration": 390,
    "start_time": "2023-04-07T16:40:09.127Z"
   },
   {
    "duration": 314,
    "start_time": "2023-04-07T16:40:10.308Z"
   },
   {
    "duration": 395,
    "start_time": "2023-04-07T16:40:11.476Z"
   },
   {
    "duration": 319,
    "start_time": "2023-04-07T16:40:12.508Z"
   },
   {
    "duration": 24,
    "start_time": "2023-04-07T16:40:14.853Z"
   },
   {
    "duration": 140,
    "start_time": "2023-04-07T16:40:17.033Z"
   },
   {
    "duration": 6,
    "start_time": "2023-04-07T16:40:18.095Z"
   },
   {
    "duration": 8,
    "start_time": "2023-04-07T16:40:20.475Z"
   },
   {
    "duration": 8,
    "start_time": "2023-04-07T16:40:51.791Z"
   },
   {
    "duration": 7,
    "start_time": "2023-04-07T16:40:52.407Z"
   },
   {
    "duration": 5,
    "start_time": "2023-04-07T16:41:00.856Z"
   },
   {
    "duration": 7,
    "start_time": "2023-04-07T16:41:02.265Z"
   },
   {
    "duration": 12,
    "start_time": "2023-04-07T16:41:03.765Z"
   },
   {
    "duration": 3,
    "start_time": "2023-04-07T16:41:05.058Z"
   },
   {
    "duration": 4,
    "start_time": "2023-04-07T16:41:06.246Z"
   },
   {
    "duration": 5,
    "start_time": "2023-04-07T16:41:07.431Z"
   },
   {
    "duration": 12,
    "start_time": "2023-04-07T16:41:09.126Z"
   },
   {
    "duration": 8,
    "start_time": "2023-04-07T16:41:18.206Z"
   },
   {
    "duration": 5,
    "start_time": "2023-04-07T16:41:20.646Z"
   },
   {
    "duration": 13,
    "start_time": "2023-04-07T16:41:25.526Z"
   },
   {
    "duration": 11,
    "start_time": "2023-04-07T17:01:06.487Z"
   },
   {
    "duration": 19,
    "start_time": "2023-04-07T17:01:27.338Z"
   },
   {
    "duration": 13,
    "start_time": "2023-04-07T17:02:24.168Z"
   },
   {
    "duration": 19,
    "start_time": "2023-04-07T17:02:55.628Z"
   },
   {
    "duration": 21,
    "start_time": "2023-04-07T17:03:34.421Z"
   },
   {
    "duration": 13,
    "start_time": "2023-04-07T18:37:26.026Z"
   },
   {
    "duration": 3,
    "start_time": "2023-04-07T18:37:34.908Z"
   },
   {
    "duration": 402,
    "start_time": "2023-04-07T18:37:36.073Z"
   },
   {
    "duration": 32,
    "start_time": "2023-04-07T18:37:36.537Z"
   },
   {
    "duration": 40,
    "start_time": "2023-04-07T18:37:37.557Z"
   },
   {
    "duration": 146,
    "start_time": "2023-04-07T18:37:38.566Z"
   },
   {
    "duration": 18,
    "start_time": "2023-04-07T18:37:40.075Z"
   },
   {
    "duration": 110,
    "start_time": "2023-04-07T18:37:41.116Z"
   },
   {
    "duration": 464,
    "start_time": "2023-04-07T18:37:42.143Z"
   },
   {
    "duration": 342,
    "start_time": "2023-04-07T18:37:43.093Z"
   },
   {
    "duration": 515,
    "start_time": "2023-04-07T18:37:43.973Z"
   },
   {
    "duration": 393,
    "start_time": "2023-04-07T18:37:44.912Z"
   },
   {
    "duration": 466,
    "start_time": "2023-04-07T18:37:45.957Z"
   },
   {
    "duration": 354,
    "start_time": "2023-04-07T18:37:46.843Z"
   },
   {
    "duration": 25,
    "start_time": "2023-04-07T18:37:48.203Z"
   },
   {
    "duration": 117,
    "start_time": "2023-04-07T18:37:49.853Z"
   },
   {
    "duration": 7,
    "start_time": "2023-04-07T18:37:50.392Z"
   },
   {
    "duration": 8,
    "start_time": "2023-04-07T18:37:51.094Z"
   },
   {
    "duration": 7,
    "start_time": "2023-04-07T18:37:53.206Z"
   },
   {
    "duration": 7,
    "start_time": "2023-04-07T18:37:53.913Z"
   },
   {
    "duration": 11,
    "start_time": "2023-04-07T18:37:54.513Z"
   },
   {
    "duration": 4,
    "start_time": "2023-04-07T18:37:56.682Z"
   },
   {
    "duration": 4,
    "start_time": "2023-04-07T18:37:57.619Z"
   },
   {
    "duration": 9,
    "start_time": "2023-04-07T18:37:58.766Z"
   },
   {
    "duration": 12,
    "start_time": "2023-04-07T18:38:00.289Z"
   },
   {
    "duration": 9,
    "start_time": "2023-04-07T18:38:00.983Z"
   },
   {
    "duration": 5,
    "start_time": "2023-04-07T18:38:01.742Z"
   },
   {
    "duration": 11,
    "start_time": "2023-04-07T18:38:03.228Z"
   },
   {
    "duration": 11,
    "start_time": "2023-04-07T18:38:26.412Z"
   },
   {
    "duration": 17,
    "start_time": "2023-04-07T18:39:05.833Z"
   },
   {
    "duration": 50,
    "start_time": "2023-04-07T18:41:40.690Z"
   },
   {
    "duration": 50,
    "start_time": "2023-04-07T18:41:47.882Z"
   },
   {
    "duration": 55,
    "start_time": "2023-04-07T18:41:56.853Z"
   },
   {
    "duration": 48,
    "start_time": "2023-04-07T18:42:56.384Z"
   },
   {
    "duration": 45,
    "start_time": "2023-04-07T18:43:06.343Z"
   },
   {
    "duration": 4,
    "start_time": "2023-04-07T18:46:20.522Z"
   },
   {
    "duration": 418,
    "start_time": "2023-04-07T18:46:21.531Z"
   },
   {
    "duration": 32,
    "start_time": "2023-04-07T18:46:22.022Z"
   },
   {
    "duration": 44,
    "start_time": "2023-04-07T18:46:22.937Z"
   },
   {
    "duration": 155,
    "start_time": "2023-04-07T18:46:24.070Z"
   },
   {
    "duration": 16,
    "start_time": "2023-04-07T18:46:25.311Z"
   },
   {
    "duration": 110,
    "start_time": "2023-04-07T18:46:26.202Z"
   },
   {
    "duration": 437,
    "start_time": "2023-04-07T18:46:27.174Z"
   },
   {
    "duration": 470,
    "start_time": "2023-04-07T18:46:27.992Z"
   },
   {
    "duration": 420,
    "start_time": "2023-04-07T18:46:28.812Z"
   },
   {
    "duration": 373,
    "start_time": "2023-04-07T18:46:29.625Z"
   },
   {
    "duration": 445,
    "start_time": "2023-04-07T18:46:30.381Z"
   },
   {
    "duration": 364,
    "start_time": "2023-04-07T18:46:31.205Z"
   },
   {
    "duration": 27,
    "start_time": "2023-04-07T18:46:32.446Z"
   },
   {
    "duration": 183,
    "start_time": "2023-04-07T18:46:33.993Z"
   },
   {
    "duration": 7,
    "start_time": "2023-04-07T18:46:34.433Z"
   },
   {
    "duration": 9,
    "start_time": "2023-04-07T18:46:35.293Z"
   },
   {
    "duration": 8,
    "start_time": "2023-04-07T18:46:36.523Z"
   },
   {
    "duration": 8,
    "start_time": "2023-04-07T18:46:37.136Z"
   },
   {
    "duration": 11,
    "start_time": "2023-04-07T18:46:37.975Z"
   },
   {
    "duration": 4,
    "start_time": "2023-04-07T18:46:39.255Z"
   },
   {
    "duration": 5,
    "start_time": "2023-04-07T18:46:40.383Z"
   },
   {
    "duration": 6,
    "start_time": "2023-04-07T18:46:41.301Z"
   },
   {
    "duration": 12,
    "start_time": "2023-04-07T18:46:42.403Z"
   },
   {
    "duration": 9,
    "start_time": "2023-04-07T18:46:42.982Z"
   },
   {
    "duration": 6,
    "start_time": "2023-04-07T18:46:43.454Z"
   },
   {
    "duration": 69,
    "start_time": "2023-04-07T18:46:44.523Z"
   },
   {
    "duration": 52,
    "start_time": "2023-04-07T18:47:17.173Z"
   },
   {
    "duration": 57,
    "start_time": "2023-04-07T18:47:35.623Z"
   },
   {
    "duration": 46,
    "start_time": "2023-04-07T18:47:58.687Z"
   },
   {
    "duration": 45,
    "start_time": "2023-04-07T18:48:08.012Z"
   },
   {
    "duration": 50,
    "start_time": "2023-04-07T18:48:18.772Z"
   },
   {
    "duration": 43,
    "start_time": "2023-04-07T18:49:47.180Z"
   },
   {
    "duration": 11,
    "start_time": "2023-04-07T18:57:09.748Z"
   },
   {
    "duration": 16,
    "start_time": "2023-04-07T18:59:21.469Z"
   },
   {
    "duration": 4,
    "start_time": "2023-04-07T19:06:01.791Z"
   },
   {
    "duration": 67,
    "start_time": "2023-04-07T19:08:21.023Z"
   },
   {
    "duration": 1268,
    "start_time": "2023-04-07T19:08:26.522Z"
   },
   {
    "duration": 3708,
    "start_time": "2023-04-07T19:09:44.908Z"
   },
   {
    "duration": 21,
    "start_time": "2023-04-07T19:10:43.585Z"
   },
   {
    "duration": 3655,
    "start_time": "2023-04-07T19:11:19.288Z"
   },
   {
    "duration": 3517,
    "start_time": "2023-04-07T19:11:44.971Z"
   },
   {
    "duration": 3662,
    "start_time": "2023-04-07T19:12:04.346Z"
   },
   {
    "duration": 3812,
    "start_time": "2023-04-07T19:12:31.074Z"
   },
   {
    "duration": 9,
    "start_time": "2023-04-07T19:13:44.508Z"
   },
   {
    "duration": 7,
    "start_time": "2023-04-07T19:14:01.407Z"
   },
   {
    "duration": 7,
    "start_time": "2023-04-07T19:14:24.757Z"
   },
   {
    "duration": 9,
    "start_time": "2023-04-07T19:17:09.427Z"
   },
   {
    "duration": 4,
    "start_time": "2023-04-07T19:21:31.250Z"
   },
   {
    "duration": 64,
    "start_time": "2023-04-07T19:28:21.623Z"
   },
   {
    "duration": 113,
    "start_time": "2023-04-07T19:29:05.355Z"
   },
   {
    "duration": 71,
    "start_time": "2023-04-07T19:29:23.414Z"
   },
   {
    "duration": 11,
    "start_time": "2023-04-07T19:29:46.505Z"
   },
   {
    "duration": 10,
    "start_time": "2023-04-07T19:30:29.742Z"
   },
   {
    "duration": 1717,
    "start_time": "2023-04-08T09:38:26.630Z"
   },
   {
    "duration": 1486,
    "start_time": "2023-04-08T09:41:28.506Z"
   },
   {
    "duration": 39,
    "start_time": "2023-04-08T09:41:29.995Z"
   },
   {
    "duration": 34,
    "start_time": "2023-04-08T09:41:30.850Z"
   },
   {
    "duration": 125,
    "start_time": "2023-04-08T09:41:32.408Z"
   },
   {
    "duration": 15,
    "start_time": "2023-04-08T09:41:34.314Z"
   },
   {
    "duration": 102,
    "start_time": "2023-04-08T09:41:35.680Z"
   },
   {
    "duration": 400,
    "start_time": "2023-04-08T09:41:37.199Z"
   },
   {
    "duration": 310,
    "start_time": "2023-04-08T09:41:38.189Z"
   },
   {
    "duration": 378,
    "start_time": "2023-04-08T09:41:39.231Z"
   },
   {
    "duration": 311,
    "start_time": "2023-04-08T09:41:40.277Z"
   },
   {
    "duration": 398,
    "start_time": "2023-04-08T09:41:41.710Z"
   },
   {
    "duration": 383,
    "start_time": "2023-04-08T09:41:42.890Z"
   },
   {
    "duration": 25,
    "start_time": "2023-04-08T09:41:44.638Z"
   },
   {
    "duration": 302,
    "start_time": "2023-04-08T09:41:48.050Z"
   },
   {
    "duration": 9,
    "start_time": "2023-04-08T09:41:49.300Z"
   },
   {
    "duration": 10,
    "start_time": "2023-04-08T09:41:50.336Z"
   },
   {
    "duration": 6,
    "start_time": "2023-04-08T09:41:53.083Z"
   },
   {
    "duration": 7,
    "start_time": "2023-04-08T09:41:54.740Z"
   },
   {
    "duration": 11,
    "start_time": "2023-04-08T09:42:07.109Z"
   },
   {
    "duration": 3,
    "start_time": "2023-04-08T09:42:09.180Z"
   },
   {
    "duration": 4,
    "start_time": "2023-04-08T09:42:13.790Z"
   },
   {
    "duration": 4,
    "start_time": "2023-04-08T09:42:18.071Z"
   },
   {
    "duration": 13,
    "start_time": "2023-04-08T09:42:29.401Z"
   },
   {
    "duration": 9,
    "start_time": "2023-04-08T09:42:34.490Z"
   },
   {
    "duration": 111,
    "start_time": "2023-04-08T09:42:41.501Z"
   },
   {
    "duration": 8,
    "start_time": "2023-04-08T09:43:17.791Z"
   },
   {
    "duration": 5,
    "start_time": "2023-04-08T09:43:18.470Z"
   },
   {
    "duration": 4,
    "start_time": "2023-04-08T09:43:32.133Z"
   },
   {
    "duration": 3026,
    "start_time": "2023-04-08T09:43:34.443Z"
   },
   {
    "duration": 4,
    "start_time": "2023-04-08T09:43:42.941Z"
   },
   {
    "duration": 6,
    "start_time": "2023-04-08T09:43:54.430Z"
   },
   {
    "duration": 107,
    "start_time": "2023-04-08T10:03:03.063Z"
   },
   {
    "duration": 4,
    "start_time": "2023-04-08T10:03:09.923Z"
   },
   {
    "duration": 9,
    "start_time": "2023-04-08T10:06:31.397Z"
   },
   {
    "duration": 8,
    "start_time": "2023-04-08T10:06:42.426Z"
   },
   {
    "duration": 1668,
    "start_time": "2023-04-08T12:02:14.898Z"
   },
   {
    "duration": 1435,
    "start_time": "2023-04-08T12:02:19.978Z"
   },
   {
    "duration": 31,
    "start_time": "2023-04-08T12:02:21.414Z"
   },
   {
    "duration": 31,
    "start_time": "2023-04-08T12:02:23.238Z"
   },
   {
    "duration": 130,
    "start_time": "2023-04-08T12:02:24.638Z"
   },
   {
    "duration": 19,
    "start_time": "2023-04-08T12:02:26.268Z"
   },
   {
    "duration": 88,
    "start_time": "2023-04-08T12:02:27.807Z"
   },
   {
    "duration": 423,
    "start_time": "2023-04-08T12:02:29.118Z"
   },
   {
    "duration": 292,
    "start_time": "2023-04-08T12:02:30.258Z"
   },
   {
    "duration": 405,
    "start_time": "2023-04-08T12:02:31.616Z"
   },
   {
    "duration": 299,
    "start_time": "2023-04-08T12:02:33.650Z"
   },
   {
    "duration": 412,
    "start_time": "2023-04-08T12:02:35.277Z"
   },
   {
    "duration": 396,
    "start_time": "2023-04-08T12:02:36.567Z"
   },
   {
    "duration": 24,
    "start_time": "2023-04-08T12:02:39.218Z"
   },
   {
    "duration": 158,
    "start_time": "2023-04-08T12:02:41.220Z"
   },
   {
    "duration": 7,
    "start_time": "2023-04-08T12:02:42.296Z"
   },
   {
    "duration": 9,
    "start_time": "2023-04-08T12:02:43.078Z"
   },
   {
    "duration": 7,
    "start_time": "2023-04-08T12:02:44.497Z"
   },
   {
    "duration": 6,
    "start_time": "2023-04-08T12:02:45.158Z"
   },
   {
    "duration": 10,
    "start_time": "2023-04-08T12:02:45.858Z"
   },
   {
    "duration": 2,
    "start_time": "2023-04-08T12:02:47.257Z"
   },
   {
    "duration": 3,
    "start_time": "2023-04-08T12:02:48.937Z"
   },
   {
    "duration": 5,
    "start_time": "2023-04-08T12:02:58.860Z"
   },
   {
    "duration": 10,
    "start_time": "2023-04-08T12:03:06.947Z"
   },
   {
    "duration": 8,
    "start_time": "2023-04-08T12:03:08.889Z"
   },
   {
    "duration": 4,
    "start_time": "2023-04-08T12:03:10.378Z"
   },
   {
    "duration": 3,
    "start_time": "2023-04-08T12:03:11.767Z"
   },
   {
    "duration": 2909,
    "start_time": "2023-04-08T12:03:14.668Z"
   },
   {
    "duration": 7,
    "start_time": "2023-04-08T12:03:17.579Z"
   },
   {
    "duration": 16,
    "start_time": "2023-04-08T12:03:17.587Z"
   },
   {
    "duration": 8,
    "start_time": "2023-04-08T12:04:39.772Z"
   },
   {
    "duration": 171,
    "start_time": "2023-04-08T12:12:17.493Z"
   },
   {
    "duration": 5,
    "start_time": "2023-04-08T12:12:26.435Z"
   },
   {
    "duration": 4,
    "start_time": "2023-04-08T12:14:15.761Z"
   },
   {
    "duration": 5,
    "start_time": "2023-04-08T12:14:44.086Z"
   },
   {
    "duration": 14,
    "start_time": "2023-04-08T12:15:41.970Z"
   },
   {
    "duration": 5,
    "start_time": "2023-04-08T12:16:13.361Z"
   },
   {
    "duration": 5,
    "start_time": "2023-04-08T12:16:24.352Z"
   },
   {
    "duration": 7,
    "start_time": "2023-04-08T12:16:59.293Z"
   },
   {
    "duration": 198,
    "start_time": "2023-04-08T12:17:05.702Z"
   },
   {
    "duration": 4,
    "start_time": "2023-04-08T12:17:13.463Z"
   },
   {
    "duration": 5,
    "start_time": "2023-04-08T12:17:30.614Z"
   },
   {
    "duration": 147,
    "start_time": "2023-04-08T12:31:57.790Z"
   },
   {
    "duration": 5,
    "start_time": "2023-04-08T12:34:24.201Z"
   },
   {
    "duration": 7,
    "start_time": "2023-04-08T12:35:11.622Z"
   },
   {
    "duration": 1370,
    "start_time": "2023-04-08T12:36:21.989Z"
   },
   {
    "duration": 327,
    "start_time": "2023-04-08T12:36:23.362Z"
   },
   {
    "duration": 29,
    "start_time": "2023-04-08T12:36:23.690Z"
   },
   {
    "duration": 31,
    "start_time": "2023-04-08T12:36:23.720Z"
   },
   {
    "duration": 139,
    "start_time": "2023-04-08T12:36:23.752Z"
   },
   {
    "duration": 14,
    "start_time": "2023-04-08T12:36:23.892Z"
   },
   {
    "duration": 108,
    "start_time": "2023-04-08T12:36:23.908Z"
   },
   {
    "duration": 415,
    "start_time": "2023-04-08T12:36:24.018Z"
   },
   {
    "duration": 307,
    "start_time": "2023-04-08T12:36:24.434Z"
   },
   {
    "duration": 395,
    "start_time": "2023-04-08T12:36:24.744Z"
   },
   {
    "duration": 315,
    "start_time": "2023-04-08T12:36:25.140Z"
   },
   {
    "duration": 409,
    "start_time": "2023-04-08T12:36:25.456Z"
   },
   {
    "duration": 431,
    "start_time": "2023-04-08T12:36:25.867Z"
   },
   {
    "duration": 25,
    "start_time": "2023-04-08T12:36:26.300Z"
   },
   {
    "duration": 57,
    "start_time": "2023-04-08T12:36:26.327Z"
   },
   {
    "duration": 8,
    "start_time": "2023-04-08T12:36:26.471Z"
   },
   {
    "duration": 96,
    "start_time": "2023-04-08T12:36:26.481Z"
   },
   {
    "duration": 6,
    "start_time": "2023-04-08T12:36:26.578Z"
   },
   {
    "duration": 12,
    "start_time": "2023-04-08T12:36:26.586Z"
   },
   {
    "duration": 14,
    "start_time": "2023-04-08T12:36:26.600Z"
   },
   {
    "duration": 3,
    "start_time": "2023-04-08T12:36:26.615Z"
   },
   {
    "duration": 5,
    "start_time": "2023-04-08T12:36:26.619Z"
   },
   {
    "duration": 7,
    "start_time": "2023-04-08T12:36:26.626Z"
   },
   {
    "duration": 40,
    "start_time": "2023-04-08T12:36:26.635Z"
   },
   {
    "duration": 8,
    "start_time": "2023-04-08T12:36:26.677Z"
   },
   {
    "duration": 10,
    "start_time": "2023-04-08T12:36:26.687Z"
   },
   {
    "duration": 5,
    "start_time": "2023-04-08T12:36:26.698Z"
   },
   {
    "duration": 2941,
    "start_time": "2023-04-08T12:36:26.706Z"
   },
   {
    "duration": 5,
    "start_time": "2023-04-08T12:36:29.649Z"
   },
   {
    "duration": 24,
    "start_time": "2023-04-08T12:36:29.656Z"
   },
   {
    "duration": 7,
    "start_time": "2023-04-08T12:36:29.682Z"
   },
   {
    "duration": 11,
    "start_time": "2023-04-08T12:36:29.690Z"
   },
   {
    "duration": 4,
    "start_time": "2023-04-08T12:49:55.802Z"
   },
   {
    "duration": 5,
    "start_time": "2023-04-08T12:50:25.793Z"
   },
   {
    "duration": 382,
    "start_time": "2023-04-08T12:50:35.135Z"
   },
   {
    "duration": 27,
    "start_time": "2023-04-08T12:50:45.008Z"
   },
   {
    "duration": 33,
    "start_time": "2023-04-08T12:50:48.230Z"
   },
   {
    "duration": 128,
    "start_time": "2023-04-08T12:50:57.728Z"
   },
   {
    "duration": 14,
    "start_time": "2023-04-08T12:51:16.692Z"
   },
   {
    "duration": 107,
    "start_time": "2023-04-08T12:51:24.389Z"
   },
   {
    "duration": 608,
    "start_time": "2023-04-08T12:51:45.907Z"
   },
   {
    "duration": 387,
    "start_time": "2023-04-08T12:51:51.489Z"
   },
   {
    "duration": 467,
    "start_time": "2023-04-08T12:51:54.656Z"
   },
   {
    "duration": 435,
    "start_time": "2023-04-08T12:51:59.325Z"
   },
   {
    "duration": 468,
    "start_time": "2023-04-08T12:52:05.133Z"
   },
   {
    "duration": 323,
    "start_time": "2023-04-08T12:52:09.930Z"
   },
   {
    "duration": 27,
    "start_time": "2023-04-08T12:53:05.522Z"
   },
   {
    "duration": 196,
    "start_time": "2023-04-08T12:54:28.484Z"
   },
   {
    "duration": 9,
    "start_time": "2023-04-08T13:00:16.221Z"
   },
   {
    "duration": 5,
    "start_time": "2023-04-08T13:02:02.096Z"
   },
   {
    "duration": 85,
    "start_time": "2023-04-08T13:03:35.849Z"
   },
   {
    "duration": 7,
    "start_time": "2023-04-08T13:05:24.582Z"
   },
   {
    "duration": 119,
    "start_time": "2023-04-08T13:15:32.545Z"
   },
   {
    "duration": 13,
    "start_time": "2023-04-08T13:15:50.413Z"
   },
   {
    "duration": 18,
    "start_time": "2023-04-08T13:16:28.928Z"
   },
   {
    "duration": 15,
    "start_time": "2023-04-08T13:17:38.424Z"
   },
   {
    "duration": 15,
    "start_time": "2023-04-08T13:17:51.148Z"
   },
   {
    "duration": 16,
    "start_time": "2023-04-08T13:20:17.773Z"
   },
   {
    "duration": 17,
    "start_time": "2023-04-08T13:25:07.750Z"
   },
   {
    "duration": 17,
    "start_time": "2023-04-08T13:27:13.123Z"
   },
   {
    "duration": 2,
    "start_time": "2023-04-08T13:32:32.133Z"
   },
   {
    "duration": 3,
    "start_time": "2023-04-08T13:33:06.237Z"
   },
   {
    "duration": 2,
    "start_time": "2023-04-08T13:34:16.424Z"
   },
   {
    "duration": 4,
    "start_time": "2023-04-08T13:34:17.449Z"
   },
   {
    "duration": 5,
    "start_time": "2023-04-08T13:41:14.189Z"
   },
   {
    "duration": 98,
    "start_time": "2023-04-08T13:42:49.016Z"
   },
   {
    "duration": 16,
    "start_time": "2023-04-08T13:43:33.075Z"
   },
   {
    "duration": 5,
    "start_time": "2023-04-08T13:45:41.234Z"
   },
   {
    "duration": 372,
    "start_time": "2023-04-08T13:45:43.014Z"
   },
   {
    "duration": 34,
    "start_time": "2023-04-08T13:45:43.916Z"
   },
   {
    "duration": 48,
    "start_time": "2023-04-08T13:45:45.143Z"
   },
   {
    "duration": 150,
    "start_time": "2023-04-08T13:45:46.183Z"
   },
   {
    "duration": 18,
    "start_time": "2023-04-08T13:45:47.892Z"
   },
   {
    "duration": 93,
    "start_time": "2023-04-08T13:45:48.932Z"
   },
   {
    "duration": 382,
    "start_time": "2023-04-08T13:45:49.863Z"
   },
   {
    "duration": 279,
    "start_time": "2023-04-08T13:45:50.724Z"
   },
   {
    "duration": 355,
    "start_time": "2023-04-08T13:45:51.513Z"
   },
   {
    "duration": 375,
    "start_time": "2023-04-08T13:45:52.344Z"
   },
   {
    "duration": 405,
    "start_time": "2023-04-08T13:45:53.225Z"
   },
   {
    "duration": 304,
    "start_time": "2023-04-08T13:45:54.074Z"
   },
   {
    "duration": 20,
    "start_time": "2023-04-08T13:45:58.595Z"
   },
   {
    "duration": 231,
    "start_time": "2023-04-08T13:46:01.846Z"
   },
   {
    "duration": 9,
    "start_time": "2023-04-08T13:46:03.864Z"
   },
   {
    "duration": 7,
    "start_time": "2023-04-08T13:46:04.520Z"
   },
   {
    "duration": 6,
    "start_time": "2023-04-08T13:46:05.845Z"
   },
   {
    "duration": 8,
    "start_time": "2023-04-08T13:46:07.054Z"
   },
   {
    "duration": 18,
    "start_time": "2023-04-08T13:46:08.394Z"
   },
   {
    "duration": 14,
    "start_time": "2023-04-08T13:46:09.365Z"
   },
   {
    "duration": 21,
    "start_time": "2023-04-08T13:46:10.332Z"
   },
   {
    "duration": 3,
    "start_time": "2023-04-08T13:46:12.536Z"
   },
   {
    "duration": 4,
    "start_time": "2023-04-08T13:46:14.093Z"
   },
   {
    "duration": 5,
    "start_time": "2023-04-08T13:46:15.264Z"
   },
   {
    "duration": 16,
    "start_time": "2023-04-08T13:46:17.072Z"
   },
   {
    "duration": 11,
    "start_time": "2023-04-08T13:46:47.385Z"
   },
   {
    "duration": 16,
    "start_time": "2023-04-08T13:56:28.473Z"
   },
   {
    "duration": 7,
    "start_time": "2023-04-08T13:56:57.260Z"
   },
   {
    "duration": 5,
    "start_time": "2023-04-08T13:57:59.461Z"
   },
   {
    "duration": 10,
    "start_time": "2023-04-08T13:58:39.534Z"
   },
   {
    "duration": 8,
    "start_time": "2023-04-08T14:00:27.689Z"
   },
   {
    "duration": 8,
    "start_time": "2023-04-08T14:01:30.339Z"
   },
   {
    "duration": 9,
    "start_time": "2023-04-08T14:01:44.294Z"
   },
   {
    "duration": 8,
    "start_time": "2023-04-08T14:02:01.929Z"
   },
   {
    "duration": 8,
    "start_time": "2023-04-08T14:02:34.988Z"
   },
   {
    "duration": 9,
    "start_time": "2023-04-08T14:03:08.010Z"
   },
   {
    "duration": 6,
    "start_time": "2023-04-08T14:04:30.144Z"
   },
   {
    "duration": 13,
    "start_time": "2023-04-08T14:07:27.170Z"
   },
   {
    "duration": 10,
    "start_time": "2023-04-08T14:07:37.830Z"
   },
   {
    "duration": 5,
    "start_time": "2023-04-08T14:07:46.442Z"
   },
   {
    "duration": 4,
    "start_time": "2023-04-08T14:08:18.322Z"
   },
   {
    "duration": 11,
    "start_time": "2023-04-08T14:08:45.834Z"
   },
   {
    "duration": 6,
    "start_time": "2023-04-08T14:08:59.960Z"
   },
   {
    "duration": 4,
    "start_time": "2023-04-08T14:09:03.961Z"
   },
   {
    "duration": 10,
    "start_time": "2023-04-08T14:11:05.544Z"
   },
   {
    "duration": 8,
    "start_time": "2023-04-08T14:11:23.413Z"
   },
   {
    "duration": 7,
    "start_time": "2023-04-08T14:11:29.711Z"
   },
   {
    "duration": 6,
    "start_time": "2023-04-08T14:11:42.723Z"
   },
   {
    "duration": 13,
    "start_time": "2023-04-08T14:12:11.790Z"
   },
   {
    "duration": 13,
    "start_time": "2023-04-08T14:12:18.817Z"
   },
   {
    "duration": 4,
    "start_time": "2023-04-08T14:12:39.576Z"
   },
   {
    "duration": 360,
    "start_time": "2023-04-08T14:12:40.781Z"
   },
   {
    "duration": 25,
    "start_time": "2023-04-08T14:12:41.438Z"
   },
   {
    "duration": 32,
    "start_time": "2023-04-08T14:12:42.334Z"
   },
   {
    "duration": 143,
    "start_time": "2023-04-08T14:12:43.336Z"
   },
   {
    "duration": 14,
    "start_time": "2023-04-08T14:12:44.924Z"
   },
   {
    "duration": 86,
    "start_time": "2023-04-08T14:12:45.916Z"
   },
   {
    "duration": 373,
    "start_time": "2023-04-08T14:12:47.044Z"
   },
   {
    "duration": 295,
    "start_time": "2023-04-08T14:12:47.963Z"
   },
   {
    "duration": 387,
    "start_time": "2023-04-08T14:12:48.941Z"
   },
   {
    "duration": 299,
    "start_time": "2023-04-08T14:12:49.839Z"
   },
   {
    "duration": 417,
    "start_time": "2023-04-08T14:12:50.736Z"
   },
   {
    "duration": 293,
    "start_time": "2023-04-08T14:12:51.590Z"
   },
   {
    "duration": 32,
    "start_time": "2023-04-08T14:12:53.111Z"
   },
   {
    "duration": 111,
    "start_time": "2023-04-08T14:12:53.868Z"
   },
   {
    "duration": 7,
    "start_time": "2023-04-08T14:12:54.729Z"
   },
   {
    "duration": 9,
    "start_time": "2023-04-08T14:12:55.257Z"
   },
   {
    "duration": 6,
    "start_time": "2023-04-08T14:12:56.393Z"
   },
   {
    "duration": 8,
    "start_time": "2023-04-08T14:12:58.297Z"
   },
   {
    "duration": 17,
    "start_time": "2023-04-08T14:12:59.721Z"
   },
   {
    "duration": 15,
    "start_time": "2023-04-08T14:13:00.939Z"
   },
   {
    "duration": 15,
    "start_time": "2023-04-08T14:13:02.117Z"
   },
   {
    "duration": 3,
    "start_time": "2023-04-08T14:13:03.958Z"
   },
   {
    "duration": 3,
    "start_time": "2023-04-08T14:13:04.939Z"
   },
   {
    "duration": 5,
    "start_time": "2023-04-08T14:13:06.322Z"
   },
   {
    "duration": 11,
    "start_time": "2023-04-08T14:13:10.499Z"
   },
   {
    "duration": 6,
    "start_time": "2023-04-08T14:13:11.740Z"
   },
   {
    "duration": 19,
    "start_time": "2023-04-08T14:13:12.380Z"
   },
   {
    "duration": 13,
    "start_time": "2023-04-08T14:13:55.515Z"
   },
   {
    "duration": 18,
    "start_time": "2023-04-08T14:14:33.322Z"
   },
   {
    "duration": 123,
    "start_time": "2023-04-08T14:17:56.443Z"
   },
   {
    "duration": 21,
    "start_time": "2023-04-08T14:18:08.067Z"
   },
   {
    "duration": 6,
    "start_time": "2023-04-08T14:19:01.128Z"
   },
   {
    "duration": 6,
    "start_time": "2023-04-08T14:20:24.559Z"
   },
   {
    "duration": 11,
    "start_time": "2023-04-08T14:20:58.681Z"
   },
   {
    "duration": 7,
    "start_time": "2023-04-08T14:21:08.929Z"
   },
   {
    "duration": 4,
    "start_time": "2023-04-08T14:21:18.053Z"
   },
   {
    "duration": 12,
    "start_time": "2023-04-08T14:24:41.642Z"
   },
   {
    "duration": 7,
    "start_time": "2023-04-08T14:24:44.268Z"
   },
   {
    "duration": 5,
    "start_time": "2023-04-08T14:24:46.448Z"
   },
   {
    "duration": 6,
    "start_time": "2023-04-08T14:24:56.136Z"
   },
   {
    "duration": 81,
    "start_time": "2023-04-08T14:27:39.971Z"
   },
   {
    "duration": 2,
    "start_time": "2023-04-08T14:28:48.406Z"
   },
   {
    "duration": 4,
    "start_time": "2023-04-08T14:32:21.129Z"
   },
   {
    "duration": 3019,
    "start_time": "2023-04-08T14:33:25.071Z"
   },
   {
    "duration": 2675,
    "start_time": "2023-04-08T14:34:07.861Z"
   },
   {
    "duration": 7,
    "start_time": "2023-04-08T14:36:09.751Z"
   },
   {
    "duration": 5,
    "start_time": "2023-04-08T14:36:47.964Z"
   },
   {
    "duration": 8,
    "start_time": "2023-04-08T14:39:13.351Z"
   },
   {
    "duration": 7,
    "start_time": "2023-04-08T14:39:26.631Z"
   },
   {
    "duration": 5,
    "start_time": "2023-04-08T14:43:57.457Z"
   },
   {
    "duration": 5,
    "start_time": "2023-04-08T14:45:14.366Z"
   },
   {
    "duration": 12,
    "start_time": "2023-04-08T14:49:15.654Z"
   },
   {
    "duration": 5,
    "start_time": "2023-04-08T14:50:03.119Z"
   },
   {
    "duration": 7,
    "start_time": "2023-04-08T14:52:09.699Z"
   },
   {
    "duration": 1309,
    "start_time": "2023-04-08T15:08:57.137Z"
   },
   {
    "duration": 319,
    "start_time": "2023-04-08T15:08:58.448Z"
   },
   {
    "duration": 29,
    "start_time": "2023-04-08T15:08:58.768Z"
   },
   {
    "duration": 29,
    "start_time": "2023-04-08T15:08:58.799Z"
   },
   {
    "duration": 149,
    "start_time": "2023-04-08T15:08:58.830Z"
   },
   {
    "duration": 14,
    "start_time": "2023-04-08T15:08:58.980Z"
   },
   {
    "duration": 105,
    "start_time": "2023-04-08T15:08:58.996Z"
   },
   {
    "duration": 372,
    "start_time": "2023-04-08T15:08:59.103Z"
   },
   {
    "duration": 309,
    "start_time": "2023-04-08T15:08:59.476Z"
   },
   {
    "duration": 351,
    "start_time": "2023-04-08T15:08:59.787Z"
   },
   {
    "duration": 290,
    "start_time": "2023-04-08T15:09:00.140Z"
   },
   {
    "duration": 376,
    "start_time": "2023-04-08T15:09:00.432Z"
   },
   {
    "duration": 298,
    "start_time": "2023-04-08T15:09:00.809Z"
   },
   {
    "duration": 97,
    "start_time": "2023-04-08T15:09:01.110Z"
   },
   {
    "duration": 75,
    "start_time": "2023-04-08T15:09:01.209Z"
   },
   {
    "duration": 202,
    "start_time": "2023-04-08T15:09:01.286Z"
   },
   {
    "duration": 28,
    "start_time": "2023-04-08T15:09:01.489Z"
   },
   {
    "duration": 80,
    "start_time": "2023-04-08T15:09:01.519Z"
   },
   {
    "duration": 38,
    "start_time": "2023-04-08T15:09:01.601Z"
   },
   {
    "duration": 46,
    "start_time": "2023-04-08T15:09:01.640Z"
   },
   {
    "duration": 61,
    "start_time": "2023-04-08T15:09:01.688Z"
   },
   {
    "duration": 83,
    "start_time": "2023-04-08T15:09:01.751Z"
   },
   {
    "duration": 51,
    "start_time": "2023-04-08T15:09:01.836Z"
   },
   {
    "duration": 51,
    "start_time": "2023-04-08T15:09:01.889Z"
   },
   {
    "duration": 52,
    "start_time": "2023-04-08T15:09:01.942Z"
   },
   {
    "duration": 44,
    "start_time": "2023-04-08T15:09:01.996Z"
   },
   {
    "duration": 57,
    "start_time": "2023-04-08T15:09:02.042Z"
   },
   {
    "duration": 51,
    "start_time": "2023-04-08T15:09:02.101Z"
   },
   {
    "duration": 56,
    "start_time": "2023-04-08T15:09:02.154Z"
   },
   {
    "duration": 2594,
    "start_time": "2023-04-08T15:09:02.211Z"
   },
   {
    "duration": 6,
    "start_time": "2023-04-08T15:09:04.807Z"
   },
   {
    "duration": 25,
    "start_time": "2023-04-08T15:09:04.814Z"
   },
   {
    "duration": 20,
    "start_time": "2023-04-08T15:09:04.841Z"
   },
   {
    "duration": 9,
    "start_time": "2023-04-08T15:09:04.862Z"
   },
   {
    "duration": 65,
    "start_time": "2023-04-09T09:06:38.223Z"
   },
   {
    "duration": 2147,
    "start_time": "2023-04-09T09:06:48.921Z"
   },
   {
    "duration": 336,
    "start_time": "2023-04-09T09:06:51.070Z"
   },
   {
    "duration": 34,
    "start_time": "2023-04-09T09:06:51.408Z"
   },
   {
    "duration": 66,
    "start_time": "2023-04-09T09:06:51.445Z"
   },
   {
    "duration": 135,
    "start_time": "2023-04-09T09:06:51.513Z"
   },
   {
    "duration": 26,
    "start_time": "2023-04-09T09:06:51.650Z"
   },
   {
    "duration": 114,
    "start_time": "2023-04-09T09:06:51.678Z"
   },
   {
    "duration": 388,
    "start_time": "2023-04-09T09:06:51.794Z"
   },
   {
    "duration": 308,
    "start_time": "2023-04-09T09:06:52.183Z"
   },
   {
    "duration": 469,
    "start_time": "2023-04-09T09:06:52.495Z"
   },
   {
    "duration": 351,
    "start_time": "2023-04-09T09:06:52.969Z"
   },
   {
    "duration": 387,
    "start_time": "2023-04-09T09:06:53.322Z"
   },
   {
    "duration": 318,
    "start_time": "2023-04-09T09:06:53.711Z"
   },
   {
    "duration": 24,
    "start_time": "2023-04-09T09:06:54.030Z"
   },
   {
    "duration": 316,
    "start_time": "2023-04-09T09:06:54.056Z"
   },
   {
    "duration": 8,
    "start_time": "2023-04-09T09:06:54.373Z"
   },
   {
    "duration": 88,
    "start_time": "2023-04-09T09:06:54.383Z"
   },
   {
    "duration": 12,
    "start_time": "2023-04-09T09:06:54.475Z"
   },
   {
    "duration": 7,
    "start_time": "2023-04-09T09:06:54.568Z"
   },
   {
    "duration": 23,
    "start_time": "2023-04-09T09:06:54.577Z"
   },
   {
    "duration": 20,
    "start_time": "2023-04-09T09:06:54.602Z"
   },
   {
    "duration": 51,
    "start_time": "2023-04-09T09:06:54.623Z"
   },
   {
    "duration": 4,
    "start_time": "2023-04-09T09:06:54.675Z"
   },
   {
    "duration": 7,
    "start_time": "2023-04-09T09:06:54.680Z"
   },
   {
    "duration": 6,
    "start_time": "2023-04-09T09:06:54.688Z"
   },
   {
    "duration": 12,
    "start_time": "2023-04-09T09:06:54.696Z"
   },
   {
    "duration": 8,
    "start_time": "2023-04-09T09:06:54.710Z"
   },
   {
    "duration": 6,
    "start_time": "2023-04-09T09:06:54.721Z"
   },
   {
    "duration": 4,
    "start_time": "2023-04-09T09:06:54.769Z"
   },
   {
    "duration": 3481,
    "start_time": "2023-04-09T09:06:54.774Z"
   },
   {
    "duration": 12,
    "start_time": "2023-04-09T09:06:58.257Z"
   },
   {
    "duration": 10,
    "start_time": "2023-04-09T09:06:58.270Z"
   },
   {
    "duration": 5,
    "start_time": "2023-04-09T09:06:58.282Z"
   },
   {
    "duration": 7,
    "start_time": "2023-04-09T09:06:58.289Z"
   },
   {
    "duration": 12,
    "start_time": "2023-04-09T09:06:58.298Z"
   },
   {
    "duration": 57,
    "start_time": "2023-04-10T08:59:04.175Z"
   },
   {
    "duration": 43,
    "start_time": "2023-04-10T08:59:48.142Z"
   },
   {
    "duration": 1584,
    "start_time": "2023-04-10T08:59:54.055Z"
   },
   {
    "duration": 876,
    "start_time": "2023-04-10T08:59:55.913Z"
   },
   {
    "duration": 26,
    "start_time": "2023-04-10T08:59:57.342Z"
   },
   {
    "duration": 25,
    "start_time": "2023-04-10T09:02:02.719Z"
   },
   {
    "duration": 38,
    "start_time": "2023-04-10T09:02:34.904Z"
   },
   {
    "duration": 47,
    "start_time": "2023-04-10T09:03:20.356Z"
   },
   {
    "duration": 46,
    "start_time": "2023-04-10T09:04:23.781Z"
   },
   {
    "duration": 67,
    "start_time": "2023-04-10T09:05:09.434Z"
   },
   {
    "duration": 69,
    "start_time": "2023-04-10T09:06:34.961Z"
   },
   {
    "duration": 13,
    "start_time": "2023-04-10T09:07:08.021Z"
   },
   {
    "duration": 51,
    "start_time": "2023-04-10T09:07:15.892Z"
   },
   {
    "duration": 63,
    "start_time": "2023-04-10T09:07:40.450Z"
   },
   {
    "duration": 53,
    "start_time": "2023-04-10T09:09:05.192Z"
   },
   {
    "duration": 4,
    "start_time": "2023-04-10T09:11:06.994Z"
   },
   {
    "duration": 370,
    "start_time": "2023-04-10T09:11:08.545Z"
   },
   {
    "duration": 24,
    "start_time": "2023-04-10T09:11:09.216Z"
   },
   {
    "duration": 37,
    "start_time": "2023-04-10T09:11:13.286Z"
   },
   {
    "duration": 62,
    "start_time": "2023-04-10T09:11:15.667Z"
   },
   {
    "duration": 88,
    "start_time": "2023-04-10T09:12:18.416Z"
   },
   {
    "duration": 4,
    "start_time": "2023-04-10T09:13:41.942Z"
   },
   {
    "duration": 4,
    "start_time": "2023-04-10T09:13:57.033Z"
   },
   {
    "duration": 3,
    "start_time": "2023-04-10T09:14:23.382Z"
   },
   {
    "duration": 93,
    "start_time": "2023-04-10T09:14:30.041Z"
   },
   {
    "duration": 63,
    "start_time": "2023-04-10T09:15:20.907Z"
   },
   {
    "duration": 102,
    "start_time": "2023-04-10T09:15:33.017Z"
   },
   {
    "duration": 54,
    "start_time": "2023-04-10T09:17:06.317Z"
   },
   {
    "duration": 11,
    "start_time": "2023-04-10T09:18:39.044Z"
   },
   {
    "duration": 99,
    "start_time": "2023-04-10T09:18:52.750Z"
   },
   {
    "duration": 135,
    "start_time": "2023-04-10T09:19:12.779Z"
   },
   {
    "duration": 54,
    "start_time": "2023-04-10T09:19:56.867Z"
   },
   {
    "duration": 51,
    "start_time": "2023-04-10T09:23:31.380Z"
   },
   {
    "duration": 19,
    "start_time": "2023-04-10T09:24:04.524Z"
   },
   {
    "duration": 100,
    "start_time": "2023-04-10T09:24:06.734Z"
   },
   {
    "duration": 377,
    "start_time": "2023-04-10T09:24:54.005Z"
   },
   {
    "duration": 308,
    "start_time": "2023-04-10T09:25:26.103Z"
   },
   {
    "duration": 341,
    "start_time": "2023-04-10T09:25:40.483Z"
   },
   {
    "duration": 329,
    "start_time": "2023-04-10T09:26:29.265Z"
   },
   {
    "duration": 412,
    "start_time": "2023-04-10T09:30:00.794Z"
   },
   {
    "duration": 248,
    "start_time": "2023-04-10T09:31:45.784Z"
   },
   {
    "duration": 318,
    "start_time": "2023-04-10T09:31:50.805Z"
   },
   {
    "duration": 176,
    "start_time": "2023-04-10T09:31:58.064Z"
   },
   {
    "duration": 328,
    "start_time": "2023-04-10T09:32:30.665Z"
   },
   {
    "duration": 182,
    "start_time": "2023-04-10T09:32:31.404Z"
   },
   {
    "duration": 169,
    "start_time": "2023-04-10T09:32:49.994Z"
   },
   {
    "duration": 49,
    "start_time": "2023-04-10T09:33:28.057Z"
   },
   {
    "duration": 334,
    "start_time": "2023-04-10T09:34:58.258Z"
   },
   {
    "duration": 183,
    "start_time": "2023-04-10T09:35:23.364Z"
   },
   {
    "duration": 303,
    "start_time": "2023-04-10T09:36:58.165Z"
   },
   {
    "duration": 191,
    "start_time": "2023-04-10T09:37:25.492Z"
   },
   {
    "duration": 138,
    "start_time": "2023-04-10T09:44:36.307Z"
   },
   {
    "duration": 318,
    "start_time": "2023-04-10T09:47:21.095Z"
   },
   {
    "duration": 48,
    "start_time": "2023-04-10T09:48:42.079Z"
   },
   {
    "duration": 51,
    "start_time": "2023-04-10T09:50:45.179Z"
   },
   {
    "duration": 277,
    "start_time": "2023-04-10T09:52:16.076Z"
   },
   {
    "duration": 247,
    "start_time": "2023-04-10T09:54:19.291Z"
   },
   {
    "duration": 294,
    "start_time": "2023-04-10T09:56:41.624Z"
   },
   {
    "duration": 295,
    "start_time": "2023-04-10T09:57:26.102Z"
   },
   {
    "duration": 57,
    "start_time": "2023-04-10T09:57:26.731Z"
   },
   {
    "duration": 41,
    "start_time": "2023-04-10T10:01:09.787Z"
   },
   {
    "duration": 55,
    "start_time": "2023-04-10T10:01:58.313Z"
   },
   {
    "duration": 338,
    "start_time": "2023-04-10T10:02:26.426Z"
   },
   {
    "duration": 6,
    "start_time": "2023-04-10T10:02:27.946Z"
   },
   {
    "duration": 8,
    "start_time": "2023-04-10T10:02:28.855Z"
   },
   {
    "duration": 18,
    "start_time": "2023-04-10T10:04:46.227Z"
   },
   {
    "duration": 8,
    "start_time": "2023-04-10T10:05:02.640Z"
   },
   {
    "duration": 7,
    "start_time": "2023-04-10T10:05:03.904Z"
   },
   {
    "duration": 6,
    "start_time": "2023-04-10T10:05:11.850Z"
   },
   {
    "duration": 25,
    "start_time": "2023-04-10T10:05:13.453Z"
   },
   {
    "duration": 12,
    "start_time": "2023-04-10T10:05:32.114Z"
   },
   {
    "duration": 136,
    "start_time": "2023-04-10T10:10:16.033Z"
   },
   {
    "duration": 37,
    "start_time": "2023-04-10T10:12:07.814Z"
   },
   {
    "duration": 158,
    "start_time": "2023-04-10T10:12:16.610Z"
   },
   {
    "duration": 9,
    "start_time": "2023-04-10T10:14:45.635Z"
   },
   {
    "duration": 10,
    "start_time": "2023-04-10T10:16:22.741Z"
   },
   {
    "duration": 8,
    "start_time": "2023-04-10T10:17:29.041Z"
   },
   {
    "duration": 5,
    "start_time": "2023-04-10T10:18:12.300Z"
   },
   {
    "duration": 5,
    "start_time": "2023-04-10T10:19:04.572Z"
   },
   {
    "duration": 5,
    "start_time": "2023-04-10T10:19:32.381Z"
   },
   {
    "duration": 7,
    "start_time": "2023-04-10T10:20:41.962Z"
   },
   {
    "duration": 4,
    "start_time": "2023-04-10T10:21:01.431Z"
   },
   {
    "duration": 6,
    "start_time": "2023-04-10T10:21:22.043Z"
   },
   {
    "duration": 8,
    "start_time": "2023-04-10T10:23:12.412Z"
   },
   {
    "duration": 68,
    "start_time": "2023-04-10T10:24:14.981Z"
   },
   {
    "duration": 18,
    "start_time": "2023-04-10T10:24:30.997Z"
   },
   {
    "duration": 17,
    "start_time": "2023-04-10T10:24:32.230Z"
   },
   {
    "duration": 17,
    "start_time": "2023-04-10T10:24:33.571Z"
   },
   {
    "duration": 3,
    "start_time": "2023-04-10T10:26:38.663Z"
   },
   {
    "duration": 285,
    "start_time": "2023-04-10T10:26:47.923Z"
   },
   {
    "duration": 71,
    "start_time": "2023-04-10T10:27:21.753Z"
   },
   {
    "duration": 9,
    "start_time": "2023-04-10T10:28:05.866Z"
   },
   {
    "duration": 3,
    "start_time": "2023-04-10T10:28:22.137Z"
   },
   {
    "duration": 4,
    "start_time": "2023-04-10T10:28:38.634Z"
   },
   {
    "duration": 14,
    "start_time": "2023-04-10T10:28:51.385Z"
   },
   {
    "duration": 18,
    "start_time": "2023-04-10T10:30:24.204Z"
   },
   {
    "duration": 3,
    "start_time": "2023-04-10T10:30:53.926Z"
   },
   {
    "duration": 3,
    "start_time": "2023-04-10T10:30:55.484Z"
   },
   {
    "duration": 395,
    "start_time": "2023-04-10T10:30:57.046Z"
   },
   {
    "duration": 28,
    "start_time": "2023-04-10T10:30:57.850Z"
   },
   {
    "duration": 37,
    "start_time": "2023-04-10T10:31:00.306Z"
   },
   {
    "duration": 131,
    "start_time": "2023-04-10T10:31:01.428Z"
   },
   {
    "duration": 70,
    "start_time": "2023-04-10T10:31:02.079Z"
   },
   {
    "duration": 16,
    "start_time": "2023-04-10T10:31:04.938Z"
   },
   {
    "duration": 106,
    "start_time": "2023-04-10T10:31:06.668Z"
   },
   {
    "duration": 335,
    "start_time": "2023-04-10T10:31:07.838Z"
   },
   {
    "duration": 177,
    "start_time": "2023-04-10T10:31:08.669Z"
   },
   {
    "duration": 320,
    "start_time": "2023-04-10T10:31:11.606Z"
   },
   {
    "duration": 192,
    "start_time": "2023-04-10T10:31:12.247Z"
   },
   {
    "duration": 317,
    "start_time": "2023-04-10T10:31:13.437Z"
   },
   {
    "duration": 161,
    "start_time": "2023-04-10T10:31:14.336Z"
   },
   {
    "duration": 442,
    "start_time": "2023-04-10T10:31:18.428Z"
   },
   {
    "duration": 284,
    "start_time": "2023-04-10T10:31:20.139Z"
   },
   {
    "duration": 273,
    "start_time": "2023-04-10T10:31:22.247Z"
   },
   {
    "duration": 39,
    "start_time": "2023-04-10T10:31:26.254Z"
   },
   {
    "duration": 210,
    "start_time": "2023-04-10T10:31:30.058Z"
   },
   {
    "duration": 9,
    "start_time": "2023-04-10T10:31:31.037Z"
   },
   {
    "duration": 7,
    "start_time": "2023-04-10T10:31:33.039Z"
   },
   {
    "duration": 7,
    "start_time": "2023-04-10T10:31:34.399Z"
   },
   {
    "duration": 17,
    "start_time": "2023-04-10T10:31:38.100Z"
   },
   {
    "duration": 16,
    "start_time": "2023-04-10T10:31:39.690Z"
   },
   {
    "duration": 18,
    "start_time": "2023-04-10T10:31:40.928Z"
   },
   {
    "duration": 5,
    "start_time": "2023-04-10T10:31:45.748Z"
   },
   {
    "duration": 17,
    "start_time": "2023-04-10T10:31:47.665Z"
   },
   {
    "duration": 3,
    "start_time": "2023-04-10T10:37:55.963Z"
   },
   {
    "duration": 2,
    "start_time": "2023-04-10T10:37:57.585Z"
   },
   {
    "duration": 388,
    "start_time": "2023-04-10T10:37:59.204Z"
   },
   {
    "duration": 24,
    "start_time": "2023-04-10T10:38:00.158Z"
   },
   {
    "duration": 34,
    "start_time": "2023-04-10T10:38:03.855Z"
   },
   {
    "duration": 134,
    "start_time": "2023-04-10T10:38:05.900Z"
   },
   {
    "duration": 84,
    "start_time": "2023-04-10T10:38:07.203Z"
   },
   {
    "duration": 14,
    "start_time": "2023-04-10T10:38:10.674Z"
   },
   {
    "duration": 102,
    "start_time": "2023-04-10T10:38:12.633Z"
   },
   {
    "duration": 325,
    "start_time": "2023-04-10T10:38:14.153Z"
   },
   {
    "duration": 187,
    "start_time": "2023-04-10T10:38:14.784Z"
   },
   {
    "duration": 310,
    "start_time": "2023-04-10T10:38:19.254Z"
   },
   {
    "duration": 171,
    "start_time": "2023-04-10T10:38:19.785Z"
   },
   {
    "duration": 321,
    "start_time": "2023-04-10T10:38:21.854Z"
   },
   {
    "duration": 171,
    "start_time": "2023-04-10T10:38:22.485Z"
   },
   {
    "duration": 287,
    "start_time": "2023-04-10T10:38:26.246Z"
   },
   {
    "duration": 267,
    "start_time": "2023-04-10T10:38:27.555Z"
   },
   {
    "duration": 298,
    "start_time": "2023-04-10T10:38:29.605Z"
   },
   {
    "duration": 37,
    "start_time": "2023-04-10T10:38:32.624Z"
   },
   {
    "duration": 173,
    "start_time": "2023-04-10T10:38:35.796Z"
   },
   {
    "duration": 8,
    "start_time": "2023-04-10T10:38:36.424Z"
   },
   {
    "duration": 7,
    "start_time": "2023-04-10T10:38:38.903Z"
   },
   {
    "duration": 7,
    "start_time": "2023-04-10T10:38:40.300Z"
   },
   {
    "duration": 18,
    "start_time": "2023-04-10T10:38:44.200Z"
   },
   {
    "duration": 19,
    "start_time": "2023-04-10T10:38:45.413Z"
   },
   {
    "duration": 16,
    "start_time": "2023-04-10T10:38:46.534Z"
   },
   {
    "duration": 4,
    "start_time": "2023-04-10T10:38:51.606Z"
   },
   {
    "duration": 15,
    "start_time": "2023-04-10T10:38:53.574Z"
   },
   {
    "duration": 6,
    "start_time": "2023-04-10T10:40:19.541Z"
   },
   {
    "duration": 7,
    "start_time": "2023-04-10T10:40:22.804Z"
   },
   {
    "duration": 16,
    "start_time": "2023-04-10T10:40:25.745Z"
   },
   {
    "duration": 16,
    "start_time": "2023-04-10T10:40:26.730Z"
   },
   {
    "duration": 18,
    "start_time": "2023-04-10T10:40:27.840Z"
   },
   {
    "duration": 4,
    "start_time": "2023-04-10T10:40:32.076Z"
   },
   {
    "duration": 15,
    "start_time": "2023-04-10T10:40:34.281Z"
   },
   {
    "duration": 210,
    "start_time": "2023-04-10T10:41:30.461Z"
   },
   {
    "duration": 8,
    "start_time": "2023-04-10T10:41:32.941Z"
   },
   {
    "duration": 6,
    "start_time": "2023-04-10T10:41:36.101Z"
   },
   {
    "duration": 47,
    "start_time": "2023-04-10T10:42:35.904Z"
   },
   {
    "duration": 6,
    "start_time": "2023-04-10T10:42:41.081Z"
   },
   {
    "duration": 53,
    "start_time": "2023-04-10T10:43:22.482Z"
   },
   {
    "duration": 6,
    "start_time": "2023-04-10T10:43:42.286Z"
   },
   {
    "duration": 7,
    "start_time": "2023-04-10T10:43:50.927Z"
   },
   {
    "duration": 17,
    "start_time": "2023-04-10T10:43:54.250Z"
   },
   {
    "duration": 18,
    "start_time": "2023-04-10T10:43:55.203Z"
   },
   {
    "duration": 18,
    "start_time": "2023-04-10T10:43:56.060Z"
   },
   {
    "duration": 5,
    "start_time": "2023-04-10T10:44:00.450Z"
   },
   {
    "duration": 6,
    "start_time": "2023-04-10T10:44:01.951Z"
   },
   {
    "duration": 12,
    "start_time": "2023-04-10T10:44:53.099Z"
   },
   {
    "duration": 8,
    "start_time": "2023-04-10T10:44:54.970Z"
   },
   {
    "duration": 14,
    "start_time": "2023-04-10T10:44:56.749Z"
   },
   {
    "duration": 5,
    "start_time": "2023-04-10T10:45:17.015Z"
   },
   {
    "duration": 6,
    "start_time": "2023-04-10T10:46:02.555Z"
   },
   {
    "duration": 50,
    "start_time": "2023-04-10T10:48:39.516Z"
   },
   {
    "duration": 4,
    "start_time": "2023-04-10T10:50:02.821Z"
   },
   {
    "duration": 8,
    "start_time": "2023-04-10T10:53:51.005Z"
   },
   {
    "duration": 4,
    "start_time": "2023-04-10T10:54:59.065Z"
   },
   {
    "duration": 44,
    "start_time": "2023-04-10T10:55:18.873Z"
   },
   {
    "duration": 3454,
    "start_time": "2023-04-10T10:56:01.619Z"
   },
   {
    "duration": 5,
    "start_time": "2023-04-10T10:56:53.528Z"
   },
   {
    "duration": 18,
    "start_time": "2023-04-10T11:04:46.063Z"
   },
   {
    "duration": 10,
    "start_time": "2023-04-10T11:05:04.825Z"
   },
   {
    "duration": 9,
    "start_time": "2023-04-10T11:05:27.816Z"
   },
   {
    "duration": 42,
    "start_time": "2023-04-10T11:08:31.445Z"
   },
   {
    "duration": 57,
    "start_time": "2023-04-10T11:10:09.456Z"
   },
   {
    "duration": 8,
    "start_time": "2023-04-10T11:13:29.200Z"
   },
   {
    "duration": 8,
    "start_time": "2023-04-10T11:17:52.894Z"
   },
   {
    "duration": 8,
    "start_time": "2023-04-10T11:18:13.203Z"
   },
   {
    "duration": 5,
    "start_time": "2023-04-10T11:33:23.330Z"
   },
   {
    "duration": 3,
    "start_time": "2023-04-10T11:33:25.390Z"
   },
   {
    "duration": 469,
    "start_time": "2023-04-10T11:33:27.213Z"
   },
   {
    "duration": 42,
    "start_time": "2023-04-10T11:33:27.827Z"
   },
   {
    "duration": 42,
    "start_time": "2023-04-10T11:33:34.457Z"
   },
   {
    "duration": 130,
    "start_time": "2023-04-10T11:33:35.958Z"
   },
   {
    "duration": 91,
    "start_time": "2023-04-10T11:33:38.125Z"
   },
   {
    "duration": 16,
    "start_time": "2023-04-10T11:34:32.797Z"
   },
   {
    "duration": 105,
    "start_time": "2023-04-10T11:34:37.399Z"
   },
   {
    "duration": 341,
    "start_time": "2023-04-10T11:34:39.118Z"
   },
   {
    "duration": 168,
    "start_time": "2023-04-10T11:34:40.229Z"
   },
   {
    "duration": 335,
    "start_time": "2023-04-10T11:34:46.798Z"
   },
   {
    "duration": 361,
    "start_time": "2023-04-10T11:34:47.349Z"
   },
   {
    "duration": 328,
    "start_time": "2023-04-10T11:34:49.218Z"
   },
   {
    "duration": 171,
    "start_time": "2023-04-10T11:34:50.238Z"
   },
   {
    "duration": 308,
    "start_time": "2023-04-10T11:35:04.729Z"
   },
   {
    "duration": 259,
    "start_time": "2023-04-10T11:35:06.092Z"
   },
   {
    "duration": 250,
    "start_time": "2023-04-10T11:35:07.598Z"
   },
   {
    "duration": 42,
    "start_time": "2023-04-10T11:35:30.481Z"
   },
   {
    "duration": 140,
    "start_time": "2023-04-10T11:35:35.658Z"
   },
   {
    "duration": 8,
    "start_time": "2023-04-10T11:35:36.273Z"
   },
   {
    "duration": 6,
    "start_time": "2023-04-10T11:35:38.631Z"
   },
   {
    "duration": 7,
    "start_time": "2023-04-10T11:35:42.389Z"
   },
   {
    "duration": 21,
    "start_time": "2023-04-10T11:35:49.413Z"
   },
   {
    "duration": 19,
    "start_time": "2023-04-10T11:35:50.359Z"
   },
   {
    "duration": 25,
    "start_time": "2023-04-10T11:35:51.523Z"
   },
   {
    "duration": 5,
    "start_time": "2023-04-10T11:36:03.677Z"
   },
   {
    "duration": 5,
    "start_time": "2023-04-10T11:36:09.446Z"
   },
   {
    "duration": 14,
    "start_time": "2023-04-10T11:36:20.861Z"
   },
   {
    "duration": 9,
    "start_time": "2023-04-10T11:36:21.941Z"
   },
   {
    "duration": 7,
    "start_time": "2023-04-10T11:36:23.579Z"
   },
   {
    "duration": 4,
    "start_time": "2023-04-10T11:36:29.279Z"
   },
   {
    "duration": 3598,
    "start_time": "2023-04-10T11:37:23.495Z"
   },
   {
    "duration": 6,
    "start_time": "2023-04-10T11:37:29.094Z"
   },
   {
    "duration": 11,
    "start_time": "2023-04-10T11:37:30.702Z"
   },
   {
    "duration": 9,
    "start_time": "2023-04-10T11:37:52.133Z"
   },
   {
    "duration": 1496,
    "start_time": "2023-04-10T11:40:58.029Z"
   },
   {
    "duration": 4,
    "start_time": "2023-04-10T11:40:59.528Z"
   },
   {
    "duration": 412,
    "start_time": "2023-04-10T11:40:59.533Z"
   },
   {
    "duration": 31,
    "start_time": "2023-04-10T11:40:59.947Z"
   },
   {
    "duration": 40,
    "start_time": "2023-04-10T11:40:59.987Z"
   },
   {
    "duration": 181,
    "start_time": "2023-04-10T11:41:00.030Z"
   },
   {
    "duration": 97,
    "start_time": "2023-04-10T11:41:00.214Z"
   },
   {
    "duration": 18,
    "start_time": "2023-04-10T11:41:00.313Z"
   },
   {
    "duration": 137,
    "start_time": "2023-04-10T11:41:00.333Z"
   },
   {
    "duration": 380,
    "start_time": "2023-04-10T11:41:00.484Z"
   },
   {
    "duration": 205,
    "start_time": "2023-04-10T11:41:00.866Z"
   },
   {
    "duration": 397,
    "start_time": "2023-04-10T11:41:01.073Z"
   },
   {
    "duration": 185,
    "start_time": "2023-04-10T11:41:01.472Z"
   },
   {
    "duration": 427,
    "start_time": "2023-04-10T11:41:01.661Z"
   },
   {
    "duration": 174,
    "start_time": "2023-04-10T11:41:02.090Z"
   },
   {
    "duration": 297,
    "start_time": "2023-04-10T11:41:02.265Z"
   },
   {
    "duration": 291,
    "start_time": "2023-04-10T11:41:02.564Z"
   },
   {
    "duration": 292,
    "start_time": "2023-04-10T11:41:02.857Z"
   },
   {
    "duration": 51,
    "start_time": "2023-04-10T11:41:03.151Z"
   },
   {
    "duration": 286,
    "start_time": "2023-04-10T11:41:03.204Z"
   },
   {
    "duration": 98,
    "start_time": "2023-04-10T11:41:03.492Z"
   },
   {
    "duration": 8,
    "start_time": "2023-04-10T11:41:03.591Z"
   },
   {
    "duration": 6,
    "start_time": "2023-04-10T11:41:03.601Z"
   },
   {
    "duration": 20,
    "start_time": "2023-04-10T11:41:03.609Z"
   },
   {
    "duration": 60,
    "start_time": "2023-04-10T11:41:03.631Z"
   },
   {
    "duration": 21,
    "start_time": "2023-04-10T11:41:03.692Z"
   },
   {
    "duration": 4,
    "start_time": "2023-04-10T11:41:03.715Z"
   },
   {
    "duration": 5,
    "start_time": "2023-04-10T11:41:03.721Z"
   },
   {
    "duration": 18,
    "start_time": "2023-04-10T11:41:03.727Z"
   },
   {
    "duration": 8,
    "start_time": "2023-04-10T11:41:03.746Z"
   },
   {
    "duration": 9,
    "start_time": "2023-04-10T11:41:03.787Z"
   },
   {
    "duration": 5,
    "start_time": "2023-04-10T11:41:03.798Z"
   },
   {
    "duration": 3555,
    "start_time": "2023-04-10T11:41:03.805Z"
   },
   {
    "duration": 5,
    "start_time": "2023-04-10T11:41:07.362Z"
   },
   {
    "duration": 20,
    "start_time": "2023-04-10T11:41:07.368Z"
   },
   {
    "duration": 7,
    "start_time": "2023-04-10T11:41:07.390Z"
   },
   {
    "duration": 8,
    "start_time": "2023-04-10T11:41:07.400Z"
   },
   {
    "duration": 2332,
    "start_time": "2023-04-10T12:25:54.283Z"
   },
   {
    "duration": 4,
    "start_time": "2023-04-10T12:25:56.617Z"
   },
   {
    "duration": 388,
    "start_time": "2023-04-10T12:25:56.623Z"
   },
   {
    "duration": 34,
    "start_time": "2023-04-10T12:25:57.013Z"
   },
   {
    "duration": 59,
    "start_time": "2023-04-10T12:25:57.048Z"
   },
   {
    "duration": 156,
    "start_time": "2023-04-10T12:25:57.109Z"
   },
   {
    "duration": 86,
    "start_time": "2023-04-10T12:25:57.267Z"
   },
   {
    "duration": 41,
    "start_time": "2023-04-10T12:25:57.355Z"
   },
   {
    "duration": 134,
    "start_time": "2023-04-10T12:25:57.398Z"
   },
   {
    "duration": 379,
    "start_time": "2023-04-10T12:25:57.537Z"
   },
   {
    "duration": 204,
    "start_time": "2023-04-10T12:25:57.918Z"
   },
   {
    "duration": 357,
    "start_time": "2023-04-10T12:25:58.124Z"
   },
   {
    "duration": 191,
    "start_time": "2023-04-10T12:25:58.489Z"
   },
   {
    "duration": 355,
    "start_time": "2023-04-10T12:25:58.682Z"
   },
   {
    "duration": 270,
    "start_time": "2023-04-10T12:25:59.039Z"
   },
   {
    "duration": 301,
    "start_time": "2023-04-10T12:25:59.311Z"
   },
   {
    "duration": 367,
    "start_time": "2023-04-10T12:25:59.614Z"
   },
   {
    "duration": 311,
    "start_time": "2023-04-10T12:25:59.984Z"
   },
   {
    "duration": 49,
    "start_time": "2023-04-10T12:26:00.296Z"
   },
   {
    "duration": 349,
    "start_time": "2023-04-10T12:26:00.347Z"
   },
   {
    "duration": 10,
    "start_time": "2023-04-10T12:26:00.698Z"
   },
   {
    "duration": 134,
    "start_time": "2023-04-10T12:26:00.793Z"
   },
   {
    "duration": 55,
    "start_time": "2023-04-10T12:26:00.930Z"
   },
   {
    "duration": 72,
    "start_time": "2023-04-10T12:26:00.987Z"
   },
   {
    "duration": 55,
    "start_time": "2023-04-10T12:26:01.062Z"
   },
   {
    "duration": 62,
    "start_time": "2023-04-10T12:26:01.118Z"
   },
   {
    "duration": 13,
    "start_time": "2023-04-10T12:26:01.182Z"
   },
   {
    "duration": 28,
    "start_time": "2023-04-10T12:26:01.199Z"
   },
   {
    "duration": 41,
    "start_time": "2023-04-10T12:26:01.229Z"
   },
   {
    "duration": 45,
    "start_time": "2023-04-10T12:26:01.273Z"
   },
   {
    "duration": 37,
    "start_time": "2023-04-10T12:26:01.321Z"
   },
   {
    "duration": 59,
    "start_time": "2023-04-10T12:26:01.360Z"
   },
   {
    "duration": 3684,
    "start_time": "2023-04-10T12:26:01.421Z"
   },
   {
    "duration": 6,
    "start_time": "2023-04-10T12:26:05.107Z"
   },
   {
    "duration": 11,
    "start_time": "2023-04-10T12:26:05.116Z"
   },
   {
    "duration": 7,
    "start_time": "2023-04-10T12:26:05.129Z"
   },
   {
    "duration": 7,
    "start_time": "2023-04-10T12:26:05.137Z"
   }
  ],
  "kernelspec": {
   "display_name": "Python 3 (ipykernel)",
   "language": "python",
   "name": "python3"
  },
  "language_info": {
   "codemirror_mode": {
    "name": "ipython",
    "version": 3
   },
   "file_extension": ".py",
   "mimetype": "text/x-python",
   "name": "python",
   "nbconvert_exporter": "python",
   "pygments_lexer": "ipython3",
   "version": "3.9.7"
  },
  "toc": {
   "base_numbering": 1,
   "nav_menu": {},
   "number_sections": true,
   "sideBar": true,
   "skip_h1_title": true,
   "title_cell": "Table of Contents",
   "title_sidebar": "Contents",
   "toc_cell": false,
   "toc_position": {},
   "toc_section_display": true,
   "toc_window_display": true
  }
 },
 "nbformat": 4,
 "nbformat_minor": 2
}
